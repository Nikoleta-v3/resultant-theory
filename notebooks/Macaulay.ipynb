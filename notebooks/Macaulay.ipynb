{
 "cells": [
  {
   "cell_type": "code",
   "execution_count": 1,
   "metadata": {
    "collapsed": true
   },
   "outputs": [],
   "source": [
    "import sympy as sym\n",
    "import numpy as np\n",
    "from sympy.polys.monomials import itermonomials\n",
    "from sympy.functions.combinatorial.factorials import binomial\n",
    "\n",
    "sym.init_printing()"
   ]
  },
  {
   "cell_type": "code",
   "execution_count": 2,
   "metadata": {
    "collapsed": true
   },
   "outputs": [],
   "source": [
    "assert sym.__version__ == '1.1.1'"
   ]
  },
  {
   "cell_type": "code",
   "execution_count": 3,
   "metadata": {},
   "outputs": [],
   "source": [
    "import imp\n",
    "macaulay = imp.load_source('macaulay', '../src/macaulay.py')"
   ]
  },
  {
   "cell_type": "code",
   "execution_count": 4,
   "metadata": {
    "collapsed": true
   },
   "outputs": [],
   "source": [
    "a_1_1, a_1_2, a_1_3, a_2_2, a_2_3, a_3_3 = sym.symbols('a_1_1, a_1_2, a_1_3, a_2_2, a_2_3, a_3_3')\n",
    "b_1_1, b_1_2, b_1_3, b_2_2, b_2_3, b_3_3 = sym.symbols('b_1_1, b_1_2, b_1_3, b_2_2, b_2_3, b_3_3')\n",
    "c_1, c_2, c_3 = sym.symbols('c_1, c_2, c_3')\n",
    "x, y, z = sym.symbols('x, y, z')"
   ]
  },
  {
   "cell_type": "code",
   "execution_count": 5,
   "metadata": {},
   "outputs": [],
   "source": [
    "variables = [x, y, z]"
   ]
  },
  {
   "cell_type": "code",
   "execution_count": 6,
   "metadata": {
    "collapsed": true
   },
   "outputs": [],
   "source": [
    "f_1 = sym.lambdify((x, y, z), a_1_1 * x ** 2 + a_1_2 * x * y + a_1_3 * x * z \\\n",
    "                   + a_2_2 * y ** 2 + a_2_3 * y * z + a_3_3 * z ** 2)"
   ]
  },
  {
   "cell_type": "code",
   "execution_count": 7,
   "metadata": {
    "collapsed": true
   },
   "outputs": [],
   "source": [
    "f_2 = sym.lambdify((x, y, z), b_1_1 * x ** 2 + b_1_2 * x * y + b_1_3 * x * z \\\n",
    "                   + b_2_2 * y ** 2 + b_2_3 * y * z + b_3_3 * z ** 2)"
   ]
  },
  {
   "cell_type": "code",
   "execution_count": 8,
   "metadata": {
    "collapsed": true
   },
   "outputs": [],
   "source": [
    "f_3 = sym.lambdify((x, y, z), c_1 * x + c_2 * y + c_3 * z) "
   ]
  },
  {
   "cell_type": "code",
   "execution_count": 9,
   "metadata": {},
   "outputs": [],
   "source": [
    "polynomials = [f_1, f_2, f_3]\n",
    "mac = macaulay.MacaulayResultant(polynomials, variables)"
   ]
  },
  {
   "cell_type": "code",
   "execution_count": 10,
   "metadata": {},
   "outputs": [
    {
     "data": {
      "image/png": "[encoded data removed]",
      "text/latex": [
       "$$\\left [ \\left [ x, \\quad y, \\quad z\\right ], \\quad \\left [ x, \\quad y, \\quad z\\right ], \\quad \\left [ x z, \\quad z^{2}, \\quad y z, \\quad x y\\right ]\\right ]$$"
      ],
      "text/plain": [
       "⎡                      ⎡      2          ⎤⎤\n",
       "⎣[x, y, z], [x, y, z], ⎣x⋅z, z , y⋅z, x⋅y⎦⎦"
      ]
     },
     "execution_count": 10,
     "metadata": {},
     "output_type": "execute_result"
    }
   ],
   "source": [
    "mac.get_row_coefficients()"
   ]
  },
  {
   "cell_type": "code",
   "execution_count": 11,
   "metadata": {},
   "outputs": [
    {
     "data": {
      "image/png": "[encoded data removed]",
      "text/latex": [
       "$$10$$"
      ],
      "text/plain": [
       "10"
      ]
     },
     "execution_count": 11,
     "metadata": {},
     "output_type": "execute_result"
    }
   ],
   "source": [
    "mac.monomials_size"
   ]
  },
  {
   "cell_type": "code",
   "execution_count": 12,
   "metadata": {
    "collapsed": true
   },
   "outputs": [],
   "source": [
    "monomial_set = mac.get_monomials_set()"
   ]
  },
  {
   "cell_type": "code",
   "execution_count": 13,
   "metadata": {},
   "outputs": [],
   "source": [
    "monomial_set"
   ]
  },
  {
   "cell_type": "code",
   "execution_count": 14,
   "metadata": {},
   "outputs": [
    {
     "data": {
      "image/png": "[encoded data removed]",
      "text/latex": [
       "$$\\left[\\begin{matrix}a_{2 2} & a_{1 3} & a_{2 3} & 0 & a_{1 2} & 0 & 0 & a_{3 3} & a_{1 1} & 0\\\\a_{1 2} & 0 & a_{1 3} & a_{2 3} & a_{1 1} & 0 & a_{3 3} & 0 & 0 & a_{2 2}\\\\0 & a_{1 1} & a_{1 2} & a_{2 2} & 0 & a_{3 3} & a_{2 3} & a_{1 3} & 0 & 0\\\\b_{2 2} & b_{1 3} & b_{2 3} & 0 & b_{1 2} & 0 & 0 & b_{3 3} & b_{1 1} & 0\\\\b_{1 2} & 0 & b_{1 3} & b_{2 3} & b_{1 1} & 0 & b_{3 3} & 0 & 0 & b_{2 2}\\\\0 & b_{1 1} & b_{1 2} & b_{2 2} & 0 & b_{3 3} & b_{2 3} & b_{1 3} & 0 & 0\\\\0 & c_{1} & c_{2} & 0 & 0 & 0 & 0 & c_{3} & 0 & 0\\\\0 & 0 & 0 & 0 & 0 & c_{3} & c_{2} & c_{1} & 0 & 0\\\\0 & 0 & c_{1} & c_{2} & 0 & 0 & c_{3} & 0 & 0 & 0\\\\c_{2} & 0 & c_{3} & 0 & c_{1} & 0 & 0 & 0 & 0 & 0\\end{matrix}\\right]$$"
      ],
      "text/plain": [
       "⎡a₂ ₂  a₁ ₃  a₂ ₃   0    a₁ ₂   0     0    a₃ ₃  a₁ ₁   0  ⎤\n",
       "⎢                                                          ⎥\n",
       "⎢a₁ ₂   0    a₁ ₃  a₂ ₃  a₁ ₁   0    a₃ ₃   0     0    a₂ ₂⎥\n",
       "⎢                                                          ⎥\n",
       "⎢ 0    a₁ ₁  a₁ ₂  a₂ ₂   0    a₃ ₃  a₂ ₃  a₁ ₃   0     0  ⎥\n",
       "⎢                                                          ⎥\n",
       "⎢b₂ ₂  b₁ ₃  b₂ ₃   0    b₁ ₂   0     0    b₃ ₃  b₁ ₁   0  ⎥\n",
       "⎢                                                          ⎥\n",
       "⎢b₁ ₂   0    b₁ ₃  b₂ ₃  b₁ ₁   0    b₃ ₃   0     0    b₂ ₂⎥\n",
       "⎢                                                          ⎥\n",
       "⎢ 0    b₁ ₁  b₁ ₂  b₂ ₂   0    b₃ ₃  b₂ ₃  b₁ ₃   0     0  ⎥\n",
       "⎢                                                          ⎥\n",
       "⎢ 0     c₁    c₂    0     0     0     0     c₃    0     0  ⎥\n",
       "⎢                                                          ⎥\n",
       "⎢ 0     0     0     0     0     c₃    c₂    c₁    0     0  ⎥\n",
       "⎢                                                          ⎥\n",
       "⎢ 0     0     c₁    c₂    0     0     c₃    0     0     0  ⎥\n",
       "⎢                                                          ⎥\n",
       "⎣ c₂    0     c₃    0     c₁    0     0     0     0     0  ⎦"
      ]
     },
     "execution_count": 14,
     "metadata": {},
     "output_type": "execute_result"
    }
   ],
   "source": [
    "A = mac.get_matrix()\n",
    "A"
   ]
  },
  {
   "cell_type": "code",
   "execution_count": 15,
   "metadata": {},
   "outputs": [
    {
     "data": {
      "image/png": "[encoded data removed]",
      "text/latex": [
       "$$\\left[\\begin{matrix}a_{1 1} & a_{2 2}\\\\b_{1 1} & b_{2 2}\\end{matrix}\\right]$$"
      ],
      "text/plain": [
       "⎡a₁ ₁  a₂ ₂⎤\n",
       "⎢          ⎥\n",
       "⎣b₁ ₁  b₂ ₂⎦"
      ]
     },
     "execution_count": 15,
     "metadata": {},
     "output_type": "execute_result"
    }
   ],
   "source": [
    "M = mac.get_submatrix(A)\n",
    "M"
   ]
  },
  {
   "cell_type": "code",
   "execution_count": 16,
   "metadata": {},
   "outputs": [
    {
     "data": {
      "image/png": "[encoded data removed]",
      "text/latex": [
       "$$a_{1 1} b_{2 2} - a_{2 2} b_{1 1}$$"
      ],
      "text/plain": [
       "a₁ ₁⋅b₂ ₂ - a₂ ₂⋅b₁ ₁"
      ]
     },
     "execution_count": 16,
     "metadata": {},
     "output_type": "execute_result"
    }
   ],
   "source": [
    "M.det()"
   ]
  },
  {
   "cell_type": "markdown",
   "metadata": {},
   "source": [
    "Examples\n",
    "--------"
   ]
  },
  {
   "cell_type": "code",
   "execution_count": 17,
   "metadata": {
    "collapsed": true
   },
   "outputs": [],
   "source": [
    "x, y, z = sym.symbols(\"x, y, z\")\n",
    "\n",
    "p = sym.lambdify((x, y, z), x ** 2 + y - z)\n",
    "q = sym.lambdify((x, y, z), x + y ** 2 - z)\n",
    "h = sym.lambdify((x, y, z), 2 * x + 2 * y - z ** 2)\n",
    "polynomials = [p, q, h]\n",
    "variables = [x, y, z]"
   ]
  },
  {
   "cell_type": "code",
   "execution_count": 18,
   "metadata": {},
   "outputs": [],
   "source": [
    "polynomials = [p, q, h]\n",
    "mac = macaulay.MacaulayResultant(polynomials, [x, y, z])"
   ]
  },
  {
   "cell_type": "code",
   "execution_count": 20,
   "metadata": {
    "collapsed": true
   },
   "outputs": [],
   "source": [
    "monomial_set = mac.get_monomials_set()"
   ]
  },
  {
   "cell_type": "code",
   "execution_count": 21,
   "metadata": {},
   "outputs": [
    {
     "data": {
      "image/png": "[encoded data removed]",
      "text/latex": [
       "$$\\left[\\begin{matrix}-1 & 0 & 0 & 0 & 0 & 1\\\\0 & 0 & 0 & -1 & 1 & 0\\\\1 & -1 & 0 & 0 & 0 & 0\\\\0 & 0 & 0 & 0 & 2 & 2\\\\2 & 0 & 0 & 2 & 0 & 0\\end{matrix}\\right]$$"
      ],
      "text/plain": [
       "⎡-1  0   0  0   0  1⎤\n",
       "⎢                   ⎥\n",
       "⎢0   0   0  -1  1  0⎥\n",
       "⎢                   ⎥\n",
       "⎢1   -1  0  0   0  0⎥\n",
       "⎢                   ⎥\n",
       "⎢0   0   0  0   2  2⎥\n",
       "⎢                   ⎥\n",
       "⎣2   0   0  2   0  0⎦"
      ]
     },
     "execution_count": 21,
     "metadata": {},
     "output_type": "execute_result"
    }
   ],
   "source": [
    "A = mac.get_matrix()\n",
    "A"
   ]
  },
  {
   "cell_type": "code",
   "execution_count": 23,
   "metadata": {},
   "outputs": [
    {
     "data": {
      "image/png": "[encoded data removed]",
      "text/latex": [
       "$$\\left[\\begin{matrix}\\end{matrix}\\right]$$"
      ],
      "text/plain": [
       "[]"
      ]
     },
     "execution_count": 23,
     "metadata": {},
     "output_type": "execute_result"
    }
   ],
   "source": [
    "M = mac.get_submatrix(A)\n",
    "M"
   ]
  },
  {
   "cell_type": "code",
   "execution_count": null,
   "metadata": {
    "collapsed": true
   },
   "outputs": [],
   "source": []
  }
 ],
 "metadata": {
  "anaconda-cloud": {},
  "kernelspec": {
   "display_name": "Python [conda env:resultant]",
   "language": "python",
   "name": "conda-env-resultant-py"
  },
  "language_info": {
   "codemirror_mode": {
    "name": "ipython",
    "version": 3
   },
   "file_extension": ".py",
   "mimetype": "text/x-python",
   "name": "python",
   "nbconvert_exporter": "python",
   "pygments_lexer": "ipython3",
   "version": "3.6.2"
  }
 },
 "nbformat": 4,
 "nbformat_minor": 2
}
