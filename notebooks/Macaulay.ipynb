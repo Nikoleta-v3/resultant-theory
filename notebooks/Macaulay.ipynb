{
 "cells": [
  {
   "cell_type": "code",
   "execution_count": 1,
   "metadata": {
    "collapsed": true
   },
   "outputs": [],
   "source": [
    "import sympy as sym\n",
    "import numpy as np\n",
    "from sympy.polys.monomials import itermonomials\n",
    "from sympy.functions.combinatorial.factorials import binomial\n",
    "\n",
    "sym.init_printing()"
   ]
  },
  {
   "cell_type": "code",
   "execution_count": 2,
   "metadata": {
    "collapsed": true
   },
   "outputs": [],
   "source": [
    "a_1_1, a_1_2, a_1_3, a_2_2, a_2_3, a_3_3 = sym.symbols('a_1_1, a_1_2, a_1_3, a_2_2, a_2_3, a_3_3')\n",
    "b_1_1, b_1_2, b_1_3, b_2_2, b_2_3, b_3_3 = sym.symbols('b_1_1, b_1_2, b_1_3, b_2_2, b_2_3, b_3_3')\n",
    "c_1, c_2, c_3 = sym.symbols('c_1, c_2, c_3')\n",
    "x, y, z = sym.symbols(\"x, y, z\")"
   ]
  },
  {
   "cell_type": "code",
   "execution_count": 3,
   "metadata": {},
   "outputs": [
    {
     "data": {
      "image/png": "[encoded data removed]",
      "text/latex": [
       "$$\\left [ x, \\quad y, \\quad z\\right ]$$"
      ],
      "text/plain": [
       "[x, y, z]"
      ]
     },
     "execution_count": 3,
     "metadata": {},
     "output_type": "execute_result"
    }
   ],
   "source": [
    "variables = [x, y, z]\n",
    "variables"
   ]
  },
  {
   "cell_type": "code",
   "execution_count": 4,
   "metadata": {
    "collapsed": true
   },
   "outputs": [],
   "source": [
    "f_1 = sym.lambdify((x, y, z), a_1_1 * x ** 2 + a_1_2 * x * y + a_1_3 * x * z \\\n",
    "                   + a_2_2 * y ** 2 + a_2_3 * y * z + a_3_3 * z ** 2)"
   ]
  },
  {
   "cell_type": "code",
   "execution_count": 5,
   "metadata": {
    "collapsed": true
   },
   "outputs": [],
   "source": [
    "f_2 = sym.lambdify((x, y, z), b_1_1 * x ** 2 + b_1_2 * x * y + b_1_3 * x * z \\\n",
    "                   + b_2_2 * y ** 2 + b_2_3 * y * z + b_3_3 * z ** 2)"
   ]
  },
  {
   "cell_type": "code",
   "execution_count": 6,
   "metadata": {
    "collapsed": true
   },
   "outputs": [],
   "source": [
    "f_3 = sym.lambdify((x, y, z), c_1 * x + c_2 * y + c_3 * z) "
   ]
  },
  {
   "cell_type": "code",
   "execution_count": 101,
   "metadata": {},
   "outputs": [],
   "source": [
    "class Macaulay():\n",
    "    \"\"\"\n",
    "    A class for calculating the Macaulay resultant.\n",
    "    \"\"\"\n",
    "    def __init__(self, polynomials, variables):\n",
    "        \"\"\"\n",
    "        Parameters\n",
    "        ----------          \n",
    "        n: integer\n",
    "            Number of variables and polynomials.\n",
    "        variables: list\n",
    "            A list of all n variables\n",
    "        polynomials : list of sympy polynomials\n",
    "            A list of n ndegree popynomials\n",
    "        degrees: list\n",
    "            A list of max degree of each polynomial\n",
    "        degree_m: integer\n",
    "            The degree_m (as referenced in literature)\n",
    "        mononomials_size: integer\n",
    "            The size of the set containg all the possible monomials of our variables of degree d_m\n",
    "        \"\"\"\n",
    "        self.polynomials = polynomials\n",
    "        self.variables = variables\n",
    "        self.n = len(variables)\n",
    "        self.degrees = [self.get_polynomial_degree(poly) for poly in self.polynomials]\n",
    "        self.degree_m = self.get_degree_m()\n",
    "        self.mononomials_size = self.get_size()\n",
    "    \n",
    "    def get_polynomial_degree(self, poly):\n",
    "        return sym.Poly(poly(*variables)).degree()\n",
    "    \n",
    "    def get_degree_m(self):\n",
    "        return 1 + sum([d - 1 for d in self.degrees])\n",
    "    \n",
    "    def get_size(self):\n",
    "        return binomial(self.degree_m + self.n - 1, self.n - 1)\n",
    "    \n",
    "    def get_monomials_of_certain_degree(self, degree):\n",
    "        return list(itermonomials(self.variables, degree) - \n",
    "                     itermonomials(self.variables, degree - 1))\n",
    "        \n",
    "    def get_monomials_set(self):\n",
    "        monomials = self.get_monomials_of_certain_degree(self.degree_m)\n",
    "        return monomials\n",
    "    \n",
    "    def get_row_coefficients(self):\n",
    "        row_coeff = []\n",
    "        divisable = []\n",
    "        for i in range(self.n):\n",
    "            if i == 0:\n",
    "                row_coeff.append(self.get_monomials_of_certain_degree(self.degree_m - self.degrees[i]))\n",
    "            \n",
    "            else:\n",
    "                divisable.append(self.variables[i - 1] ** self.degrees[i - 1])\n",
    "                poss_rows = self.get_monomials_of_certain_degree(self.degree_m - self.degrees[i])\n",
    "                for div in divisable:\n",
    "                    for p in poss_rows:\n",
    "                        if p % div == 0:\n",
    "                            poss_rows.remove(p)\n",
    "                row_coeff.append(poss_rows)   \n",
    "        return row_coeff\n",
    "    \n",
    "    def get_matrix(self):\n",
    "        rows = []\n",
    "        row_coeff = self.get_row_coefficients()\n",
    "        for i in range(self.n):\n",
    "            for multiplier in row_coeff[i]:\n",
    "                coeffs = []\n",
    "                poly = sym.Poly(polynomials[i](*self.variables) * multiplier, *self.variables)\n",
    "        \n",
    "                for mono in monomial_set:\n",
    "                    coeffs.append(poly.coeff_monomial(mono))\n",
    "                rows.append(coeffs)\n",
    "                \n",
    "        return sym.Matrix(rows)\n",
    "    \n",
    "    def get_reduced_nonreduced(self):\n",
    "        divisables = []\n",
    "        for m in monomial_set:\n",
    "            temp = []\n",
    "            for i, v in enumerate(self.variables):\n",
    "                temp.append(sym.Poly(m, v).degree() >= self.degrees[i])\n",
    "            divisables.append(temp)\n",
    "            \n",
    "        reduced = [i for i, r in enumerate(divisables) if sum(r) < self.n - 1]\n",
    "        non_reduced = [i for i, r in enumerate(divisables) if sum(r) >= self.n - 1]\n",
    "        \n",
    "        return reduced, non_reduced\n",
    "    \n",
    "    def get_submatrix(self, matrix):\n",
    "        reduced, non_reduced = self.get_reduced_nonreduced()\n",
    "        \n",
    "        ais = list([self.polynomials[i](*self.variables).coeff(self.variables[i] ** self.degrees[i]) \n",
    "                    for i in range(self.n)])\n",
    "        \n",
    "        reduced_matrix = matrix[:, reduced]\n",
    "        keep = []\n",
    "        for row in range(reduced_matrix.rows):\n",
    "            check = [ai in reduced_matrix[row, :] for ai in ais]\n",
    "            if True not in check:\n",
    "                keep.append(row)\n",
    "                \n",
    "        return matrix[keep, non_reduced]"
   ]
  },
  {
   "cell_type": "code",
   "execution_count": 102,
   "metadata": {
    "collapsed": true
   },
   "outputs": [],
   "source": [
    "polynomials = [f_1, f_2, f_3]\n",
    "macaulay = Macaulay(polynomials, variables)"
   ]
  },
  {
   "cell_type": "code",
   "execution_count": 103,
   "metadata": {},
   "outputs": [
    {
     "data": {
      "image/png": "[encoded data removed]",
      "text/latex": [
       "$$\\left [ \\left [ x, \\quad y, \\quad z\\right ], \\quad \\left [ x, \\quad y, \\quad z\\right ], \\quad \\left [ x y, \\quad y z, \\quad x z, \\quad z^{2}\\right ]\\right ]$$"
      ],
      "text/plain": [
       "⎡                      ⎡                2⎤⎤\n",
       "⎣[x, y, z], [x, y, z], ⎣x⋅y, y⋅z, x⋅z, z ⎦⎦"
      ]
     },
     "execution_count": 103,
     "metadata": {},
     "output_type": "execute_result"
    }
   ],
   "source": [
    "macaulay.get_row_coefficients()"
   ]
  },
  {
   "cell_type": "code",
   "execution_count": 104,
   "metadata": {},
   "outputs": [
    {
     "data": {
      "image/png": "[encoded data removed]",
      "text/latex": [
       "$$10$$"
      ],
      "text/plain": [
       "10"
      ]
     },
     "execution_count": 104,
     "metadata": {},
     "output_type": "execute_result"
    }
   ],
   "source": [
    "macaulay.mononomials_size"
   ]
  },
  {
   "cell_type": "code",
   "execution_count": 105,
   "metadata": {
    "collapsed": true
   },
   "outputs": [],
   "source": [
    "monomial_set = macaulay.get_monomials_set()"
   ]
  },
  {
   "cell_type": "code",
   "execution_count": 106,
   "metadata": {},
   "outputs": [
    {
     "data": {
      "image/png": "[encoded data removed]",
      "text/latex": [
       "$$\\left [ y^{2} z, \\quad x^{2} z, \\quad x^{2} y, \\quad x y^{2}, \\quad y z^{2}, \\quad z^{3}, \\quad x z^{2}, \\quad y^{3}, \\quad x^{3}, \\quad x y z\\right ]$$"
      ],
      "text/plain": [
       "⎡ 2     2     2       2     2   3     2   3   3       ⎤\n",
       "⎣y ⋅z, x ⋅z, x ⋅y, x⋅y , y⋅z , z , x⋅z , y , x , x⋅y⋅z⎦"
      ]
     },
     "execution_count": 106,
     "metadata": {},
     "output_type": "execute_result"
    }
   ],
   "source": [
    "monomial_set"
   ]
  },
  {
   "cell_type": "code",
   "execution_count": 107,
   "metadata": {},
   "outputs": [
    {
     "data": {
      "image/png": "[encoded data removed]",
      "text/latex": [
       "$$\\left[\\begin{matrix}0 & a_{1 3} & a_{1 2} & a_{2 2} & 0 & 0 & a_{3 3} & 0 & a_{1 1} & a_{2 3}\\\\a_{2 3} & 0 & a_{1 1} & a_{1 2} & a_{3 3} & 0 & 0 & a_{2 2} & 0 & a_{1 3}\\\\a_{2 2} & a_{1 1} & 0 & 0 & a_{2 3} & a_{3 3} & a_{1 3} & 0 & 0 & a_{1 2}\\\\0 & b_{1 3} & b_{1 2} & b_{2 2} & 0 & 0 & b_{3 3} & 0 & b_{1 1} & b_{2 3}\\\\b_{2 3} & 0 & b_{1 1} & b_{1 2} & b_{3 3} & 0 & 0 & b_{2 2} & 0 & b_{1 3}\\\\b_{2 2} & b_{1 1} & 0 & 0 & b_{2 3} & b_{3 3} & b_{1 3} & 0 & 0 & b_{1 2}\\\\0 & 0 & c_{1} & c_{2} & 0 & 0 & 0 & 0 & 0 & c_{3}\\\\c_{2} & 0 & 0 & 0 & c_{3} & 0 & 0 & 0 & 0 & c_{1}\\\\0 & c_{1} & 0 & 0 & 0 & 0 & c_{3} & 0 & 0 & c_{2}\\\\0 & 0 & 0 & 0 & c_{2} & c_{3} & c_{1} & 0 & 0 & 0\\end{matrix}\\right]$$"
      ],
      "text/plain": [
       "⎡ 0    a₁ ₃  a₁ ₂  a₂ ₂   0     0    a₃ ₃   0    a₁ ₁  a₂ ₃⎤\n",
       "⎢                                                          ⎥\n",
       "⎢a₂ ₃   0    a₁ ₁  a₁ ₂  a₃ ₃   0     0    a₂ ₂   0    a₁ ₃⎥\n",
       "⎢                                                          ⎥\n",
       "⎢a₂ ₂  a₁ ₁   0     0    a₂ ₃  a₃ ₃  a₁ ₃   0     0    a₁ ₂⎥\n",
       "⎢                                                          ⎥\n",
       "⎢ 0    b₁ ₃  b₁ ₂  b₂ ₂   0     0    b₃ ₃   0    b₁ ₁  b₂ ₃⎥\n",
       "⎢                                                          ⎥\n",
       "⎢b₂ ₃   0    b₁ ₁  b₁ ₂  b₃ ₃   0     0    b₂ ₂   0    b₁ ₃⎥\n",
       "⎢                                                          ⎥\n",
       "⎢b₂ ₂  b₁ ₁   0     0    b₂ ₃  b₃ ₃  b₁ ₃   0     0    b₁ ₂⎥\n",
       "⎢                                                          ⎥\n",
       "⎢ 0     0     c₁    c₂    0     0     0     0     0     c₃ ⎥\n",
       "⎢                                                          ⎥\n",
       "⎢ c₂    0     0     0     c₃    0     0     0     0     c₁ ⎥\n",
       "⎢                                                          ⎥\n",
       "⎢ 0     c₁    0     0     0     0     c₃    0     0     c₂ ⎥\n",
       "⎢                                                          ⎥\n",
       "⎣ 0     0     0     0     c₂    c₃    c₁    0     0     0  ⎦"
      ]
     },
     "execution_count": 107,
     "metadata": {},
     "output_type": "execute_result"
    }
   ],
   "source": [
    "A = macaulay.get_matrix()\n",
    "A"
   ]
  },
  {
   "cell_type": "code",
   "execution_count": 108,
   "metadata": {},
   "outputs": [
    {
     "data": {
      "image/png": "[encoded data removed]",
      "text/latex": [
       "$$\\left[\\begin{matrix}a_{2 2} & a_{1 1}\\\\b_{2 2} & b_{1 1}\\end{matrix}\\right]$$"
      ],
      "text/plain": [
       "⎡a₂ ₂  a₁ ₁⎤\n",
       "⎢          ⎥\n",
       "⎣b₂ ₂  b₁ ₁⎦"
      ]
     },
     "execution_count": 108,
     "metadata": {},
     "output_type": "execute_result"
    }
   ],
   "source": [
    "M = macaulay.get_submatrix(A)\n",
    "M"
   ]
  },
  {
   "cell_type": "code",
   "execution_count": 109,
   "metadata": {},
   "outputs": [
    {
     "data": {
      "image/png": "[encoded data removed]",
      "text/latex": [
       "$$- a_{1 1} b_{2 2} + a_{2 2} b_{1 1}$$"
      ],
      "text/plain": [
       "-a₁ ₁⋅b₂ ₂ + a₂ ₂⋅b₁ ₁"
      ]
     },
     "execution_count": 109,
     "metadata": {},
     "output_type": "execute_result"
    }
   ],
   "source": [
    "M.det()"
   ]
  },
  {
   "cell_type": "markdown",
   "metadata": {},
   "source": [
    "Examples\n",
    "--------"
   ]
  },
  {
   "cell_type": "code",
   "execution_count": 110,
   "metadata": {},
   "outputs": [],
   "source": [
    "x, y, z = sym.symbols(\"x, y, z\")\n",
    "\n",
    "p = sym.lambdify((x, y, z), x ** 2 + y - z)\n",
    "q = sym.lambdify((x, y, z), x + y ** 2 - z)\n",
    "h = sym.lambdify((x, y, z), 2 * x + 2 * y - z ** 2)\n",
    "polynomials = [p, q, h]\n",
    "variables = [x, y, z]"
   ]
  },
  {
   "cell_type": "code",
   "execution_count": 111,
   "metadata": {
    "collapsed": true
   },
   "outputs": [],
   "source": [
    "polynomials = [p, q, h]\n",
    "macaulay = Macaulay(polynomials, [x, y, z])"
   ]
  },
  {
   "cell_type": "code",
   "execution_count": 112,
   "metadata": {},
   "outputs": [
    {
     "data": {
      "image/png": "[encoded data removed]",
      "text/latex": [
       "$$\\left[\\begin{matrix}0 & 0 & 0 & 1 & 0 & 0 & 0 & 0 & 0 & 0\\\\0 & 0 & 0 & 0 & 0 & 0 & 0 & 1 & 0 & 0\\\\1 & 0 & 0 & 0 & 0 & 0 & 0 & 0 & 0 & 0\\\\0 & 0 & 0 & 0 & 0 & 0 & -1 & 0 & 0 & 0\\\\0 & 0 & 0 & 0 & 0 & -1 & 0 & 0 & 0 & 0\\end{matrix}\\right]$$"
      ],
      "text/plain": [
       "⎡0  0  0  1  0  0   0   0  0  0⎤\n",
       "⎢                              ⎥\n",
       "⎢0  0  0  0  0  0   0   1  0  0⎥\n",
       "⎢                              ⎥\n",
       "⎢1  0  0  0  0  0   0   0  0  0⎥\n",
       "⎢                              ⎥\n",
       "⎢0  0  0  0  0  0   -1  0  0  0⎥\n",
       "⎢                              ⎥\n",
       "⎣0  0  0  0  0  -1  0   0  0  0⎦"
      ]
     },
     "execution_count": 112,
     "metadata": {},
     "output_type": "execute_result"
    }
   ],
   "source": [
    "A = macaulay.get_matrix()\n",
    "A"
   ]
  },
  {
   "cell_type": "code",
   "execution_count": 113,
   "metadata": {},
   "outputs": [
    {
     "data": {
      "image/png": "[encoded data removed]",
      "text/latex": [
       "$$\\left[\\begin{matrix}\\end{matrix}\\right]$$"
      ],
      "text/plain": [
       "[]"
      ]
     },
     "execution_count": 113,
     "metadata": {},
     "output_type": "execute_result"
    }
   ],
   "source": [
    "M = macaulay.get_submatrix(A)\n",
    "M"
   ]
  },
  {
   "cell_type": "code",
   "execution_count": null,
   "metadata": {
    "collapsed": true
   },
   "outputs": [],
   "source": []
  }
 ],
 "metadata": {
  "anaconda-cloud": {},
  "kernelspec": {
   "display_name": "Python [conda env:resultant]",
   "language": "python",
   "name": "conda-env-resultant-py"
  },
  "language_info": {
   "codemirror_mode": {
    "name": "ipython",
    "version": 3
   },
   "file_extension": ".py",
   "mimetype": "text/x-python",
   "name": "python",
   "nbconvert_exporter": "python",
   "pygments_lexer": "ipython3",
   "version": "3.6.2"
  }
 },
 "nbformat": 4,
 "nbformat_minor": 2
}
