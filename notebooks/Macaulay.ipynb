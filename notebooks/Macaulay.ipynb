{
 "cells": [
  {
   "cell_type": "code",
   "execution_count": 1,
   "metadata": {
    "collapsed": true
   },
   "outputs": [],
   "source": [
    "import sympy as sym\n",
    "import numpy as np\n",
    "from sympy.polys.monomials import itermonomials\n",
    "from sympy.functions.combinatorial.factorials import binomial\n",
    "\n",
    "sym.init_printing()"
   ]
  },
  {
   "cell_type": "code",
   "execution_count": 2,
   "metadata": {
    "collapsed": true
   },
   "outputs": [],
   "source": [
    "assert sym.__version__ == '1.1.1'"
   ]
  },
  {
   "cell_type": "code",
   "execution_count": 3,
   "metadata": {},
   "outputs": [],
   "source": [
    "import imp\n",
    "macaulay = imp.load_source('macaulay', '../src/macaulay.py')"
   ]
  },
  {
   "cell_type": "code",
   "execution_count": 4,
   "metadata": {
    "collapsed": true
   },
   "outputs": [],
   "source": [
    "a_1_1, a_1_2, a_1_3, a_2_2, a_2_3, a_3_3 = sym.symbols('a_1_1, a_1_2, a_1_3, a_2_2, a_2_3, a_3_3')\n",
    "b_1_1, b_1_2, b_1_3, b_2_2, b_2_3, b_3_3 = sym.symbols('b_1_1, b_1_2, b_1_3, b_2_2, b_2_3, b_3_3')\n",
    "c_1, c_2, c_3 = sym.symbols('c_1, c_2, c_3')\n",
    "x, y, z = sym.symbols('x, y, z')"
   ]
  },
  {
   "cell_type": "code",
   "execution_count": 5,
   "metadata": {},
   "outputs": [],
   "source": [
    "variables = [x, y, z]"
   ]
  },
  {
   "cell_type": "code",
   "execution_count": 6,
   "metadata": {
    "collapsed": true
   },
   "outputs": [],
   "source": [
    "f_1 = sym.lambdify((x, y, z), a_1_1 * x ** 2 + a_1_2 * x * y + a_1_3 * x * z \\\n",
    "                   + a_2_2 * y ** 2 + a_2_3 * y * z + a_3_3 * z ** 2)"
   ]
  },
  {
   "cell_type": "code",
   "execution_count": 7,
   "metadata": {
    "collapsed": true
   },
   "outputs": [],
   "source": [
    "f_2 = sym.lambdify((x, y, z), b_1_1 * x ** 2 + b_1_2 * x * y + b_1_3 * x * z \\\n",
    "                   + b_2_2 * y ** 2 + b_2_3 * y * z + b_3_3 * z ** 2)"
   ]
  },
  {
   "cell_type": "code",
   "execution_count": 8,
   "metadata": {
    "collapsed": true
   },
   "outputs": [],
   "source": [
    "f_3 = sym.lambdify((x, y, z), c_1 * x + c_2 * y + c_3 * z) "
   ]
  },
  {
   "cell_type": "code",
   "execution_count": 9,
   "metadata": {},
   "outputs": [],
   "source": [
    "polynomials = [f_1, f_2, f_3]\n",
    "mac = macaulay.MacaulayResultant(polynomials, variables)"
   ]
  },
  {
   "cell_type": "code",
   "execution_count": 10,
   "metadata": {},
   "outputs": [
    {
     "data": {
<<<<<<< b86c3648b6cf35955b31e6f6dfef2df5f20132de
      "image/png": "iVBORw0KGgoAAAANSUhEUgAAAeAAAAAbBAMAAABW2EHIAAAAMFBMVEX///8AAAAAAAAAAAAAAAAA\nAAAAAAAAAAAAAAAAAAAAAAAAAAAAAAAAAAAAAAAAAAAv3aB7AAAAD3RSTlMAu90ids0yiUQQq2ZU\nme/cMhILAAAACXBIWXMAAA7EAAAOxAGVKw4bAAADu0lEQVRYCdVYT0gUURz+1t2cGV3LwkteilHJ\nEsJuUVGLCGGwud06bkGnDi7UoejQIJ66OIEQeFEo6bpE0SEKo1PRH4UMIiIPBXVK6A9Jgb1/ufN7\n7y2z067CPpB57/v9+b5v3r7ZdYBmG87i22aTXJ/eC5irq8EOf7Cu+sYWp/yeuIY9GPsvxeN+Ca6/\nB7vjCDY13hLP1o9jQXyWJSM9y8BDzWcYeBVa7MRDFcOZvmJ8ejTjXn90JecNaYIadhjoNdlrQSqG\nnaCW/GjOpehCzhvSpCbDzoLJXgvStIYf1uLOktOsht2SW7TYiYea1fC554/rfWg15Pg1pEktZ/jr\n2lr8btoyyA5PnTh4PKdlefkcjho3c/xzaxn2h5Y3fHPiYl1NhGGpxd0fnNd6wYbxHKVUSKM1UtLU\na6S/IGrYK7X3thRoLpzsMkY1DF5XfhFVDN/AnVyfVpCsCTestFwfft+p9YIN4zmSREqjNVJS6SUy\nK8SwEzqr2UGaiyMdBWzXMHhIMx32Hb6Mq+ETrSBZE25YaQlxQGsF2DCeJEmkNFokJKXnl5DqJIY9\nbDFuJ8KtOXyn9Xx1JqxmOMQpIz1ZE7HDSkvrTqMZbBjL+kfCpdEhJHn4iG05YhgcMMZk2PrTAN1Z\nBtl3GLb7k6iJOMNKyzWDGrBhPE2SCGl6Fd8ydxVjRc0wA4yxhMyyAT7jSBXDlvuDRE2kYaElO2tQ\nw4aJLEkipGlVQhI7mydBDGfDUWSMz0M3UgZrdgFt1Qw/ZU+GEY0QiZpww0rLC8Agt2GCT5BIaZRf\nSmI2uqnhyfldOAzvB81exGQZMwUCnr1/l/3nwHdYCziB+ye1kjYKEjXhhqWW1oErQ4EmSGBCjRaA\nIBHSqColqaPT/U0NTw9PvSsDPt3k6YsfBtGylxheaP8USMNawAm8WyP5B9ALEjXhhqWWDjw6rQuS\nmJBjUyqkUVVKknc7/40aVp6Mb6YlFtC/aHiuOMM04AQ8wAfFwU6xifE8SxN5hnlQDkNQ1QAnEUNn\nlyg7xeQMq2RHXeWlreD9YrMSAeVCaKWBimGCJ2uiG6aCIkJoQJGIOGFXFXOYCayGpyIt2WeznMqx\nHz7szxjcsBZYN0zxZE10w1RQRAYNSBIRpuyqYgBdbBb9aakCZXWVF3f4DZu0E0wtuGEtsG6Y4sma\n6IapoIgSGpAkIkzZVcVEvshmFcMZn68TjCHbK55GNNENJ9AUn1oxHJ+7aRnsKb1hQxn2/cENo0je\nuCX+vXTyprJi3J9l76X3/QXmThvwyotRSQAAAABJRU5ErkJggg==\n",
      "text/latex": [
       "$$\\left [ \\left [ x, \\quad y, \\quad z\\right ], \\quad \\left [ x, \\quad y, \\quad z\\right ], \\quad \\left [ x z, \\quad z^{2}, \\quad y z, \\quad x y\\right ]\\right ]$$"
      ],
      "text/plain": [
       "⎡                      ⎡      2          ⎤⎤\n",
       "⎣[x, y, z], [x, y, z], ⎣x⋅z, z , y⋅z, x⋅y⎦⎦"
=======
      "image/png": "iVBORw0KGgoAAAANSUhEUgAAAeAAAAAbBAMAAABW2EHIAAAAMFBMVEX///8AAAAAAAAAAAAAAAAA\nAAAAAAAAAAAAAAAAAAAAAAAAAAAAAAAAAAAAAAAAAAAv3aB7AAAAD3RSTlMAu90ids0yiUQQq2ZU\nme/cMhILAAAACXBIWXMAAA7EAAAOxAGVKw4bAAADaElEQVRYCeVYPWgUQRh9dzlvd5OLf9hoo2wS\njApydqKiRziQCCFnZ3kKVhY5MIXBwiVY2WSFgJDGA7U/RLEQRbFSFJMigoiYRrAzhYqCEOdnc/O7\nCRN2sbiBkJ33zXvz3n43e8kCvTC8pY+9EFNkvIoH3cnusNq9/v8XhXAoDxNDmKrOhi344UEcyGOD\nLWsWt8zckDiKMxH62mTNid4IDLyPpcClkeaG98coPh41IGQigpw6DAxDCuxFpv+NkWtmOROR3AJ7\niz0W+BnpkDjDmTQnE5G8Ouy3/GZPBb789qX80MqkOZmI5NXh72tr2kd6/tzxszXtSRRM1HA61kDM\nfit3YH9oBfV7N6e19W4iLDDzYuMlGHOgbcP9+0ejK1oBApPPcNAaGC42tLVeZQWTGoZgz8QSUgLf\nwcPaiEZwE6GBuRcbj2PcgbpN4v92/fNOtQAITA7sxd6fSlVbe2qwgV0ahgB9RNPe4RnciF9pBDcR\nGph7sfE4xh2o2yT+YxxTcTITmBw4wDbj1iDeXsMPQwAX47TAMc4by91EWIeZFxtvHaMO1LHuv7xX\nxemsi8mBgR01c+lcXP5loH6bQPYOw3Z/nETYGeZebDyOMQe6L+7/lg6TeRdTA081zbXLKK0Y6BuK\npAS23B84ifDAzIuNxzHmQPfFOJW2DgMCkwNX4kmUjA/KPhQMhcoi+tMCvy6tYlzf0kmEBk682HgM\n4w7UbRLOO8AwLDA58NyL/TiJ4Kcqs4S5Du42FPDSk0fkPwfaYa3gRf7fwmqfQXASoYG5F9h4DGMO\nNKucUz5yfSzSKgzjCeTAC/X5Tx0gVJu8MP2liuIhJfDiwNeIB9YKXhTcH594Cp3gJEIDJ15sPIZx\nB6pVzhnE8wt6CI6xCHLgJJPxzbRMCvoXDV3LzrBa8CJaoEPFQU6xidF1FhF+hmmRDBuPYmwYVtcL\nSK1YAntdFr3obwS/ya+WAvIJ86oWRGAFdxMRgW28BGMWVKuyxdSKJfC8TESxU6iRP3zIjzFoYK3Q\nDazibiIisI3HMW5GtSobTK1YAndkIvz6BzIfULBkQgNrhW5gFXcTEYFtPI5xC6pV2WNqRQQuhU2Z\nsfn1mO0VTxYiIvDmJpxXiMDO1PwI5Cmd20gCh2E1ty3chYv5vJemRmbDNnkvffgfNFcZPhwVCwQA\nAAAASUVORK5CYII=\n",
      "text/latex": [
       "$$\\left [ \\left [ x, \\quad y, \\quad z\\right ], \\quad \\left [ x, \\quad y, \\quad z\\right ], \\quad \\left [ x y, \\quad y z, \\quad x z, \\quad z^{2}\\right ]\\right ]$$"
      ],
      "text/plain": [
       "⎡                      ⎡                2⎤⎤\n",
       "⎣[x, y, z], [x, y, z], ⎣x⋅y, y⋅z, x⋅z, z ⎦⎦"
>>>>>>> dummy
      ]
     },
     "execution_count": 10,
     "metadata": {},
     "output_type": "execute_result"
    }
   ],
   "source": [
    "mac.get_row_coefficients()"
   ]
  },
  {
   "cell_type": "code",
   "execution_count": 11,
   "metadata": {},
   "outputs": [
    {
     "data": {
      "image/png": "iVBORw0KGgoAAAANSUhEUgAAABMAAAAPBAMAAAD0aukfAAAAMFBMVEX///8AAAAAAAAAAAAAAAAA\nAAAAAAAAAAAAAAAAAAAAAAAAAAAAAAAAAAAAAAAAAAAv3aB7AAAAD3RSTlMAVO8Qq5l2zWaJMt0i\nu0SCRuA9AAAACXBIWXMAAA7EAAAOxAGVKw4bAAAAcUlEQVQIHWNgAAHmyM4FQIpRmYGBXYB5DwOD\nSchnBoYmBobpQFE2IPMKA4O8AYT5hYHhvQCYyfwVyEwAM3l+MjCsnwBhAkWhTCQFDEBt8hBtDHcZ\nGPqhhgGtCIdawS3ArMXAwOr03YOBeVrKAqAoHAAARgMh+ZrNuUcAAAAASUVORK5CYII=\n",
      "text/latex": [
       "$$10$$"
      ],
      "text/plain": [
       "10"
      ]
     },
     "execution_count": 11,
     "metadata": {},
     "output_type": "execute_result"
    }
   ],
   "source": [
    "mac.monomials_size"
   ]
  },
  {
   "cell_type": "code",
   "execution_count": 12,
   "metadata": {
    "collapsed": true
   },
   "outputs": [],
   "source": [
    "monomial_set = mac.get_monomials_set()"
   ]
  },
  {
   "cell_type": "code",
   "execution_count": 13,
   "metadata": {},
   "outputs": [
    {
     "data": {
      "image/png": "iVBORw0KGgoAAAANSUhEUgAAAjQAAAAbBAMAAACZwAj6AAAAMFBMVEX///8AAAAAAAAAAAAAAAAA\nAAAAAAAAAAAAAAAAAAAAAAAAAAAAAAAAAAAAAAAAAAAv3aB7AAAAD3RSTlMAu90iEHaZ74lUzUQy\nq2ZyNAC9AAAACXBIWXMAAA7EAAAOxAGVKw4bAAAEwUlEQVRYCe2ZT4gcVRDGa2d6JjP27LiK8SbK\nxKAYDONJROK2hyVeQgbJToIg2YCKLBpziBcVHNDNTV1RlBzE8eBBvCxCwIOyoyfxYAJRkJwawT8n\nXXA9RMW1u+q91/Vev3q99tWdw7x69avve9W1Pb3LLIB+Xbg10aFvDePOmSd8IjtX06Iz/tb2sXfi\n0bJu7dnE9gjvOsP5aaCiAr8C1wJiQnUtzsKZkLd4tKhrp+2FkKNmNw+GGDaGvd91zrNW4ANwmWw8\nUp2qa/E0/KYtfKt4tKhrT/pbPieeiwd3wx0q0dho/sWZE1fgQ7C44ShK2/oWwbsmcLSo281dc8SM\nBqC7XboanqjA7ye82B/XtIhe8tvprHS0rDs601p55aNpjOS6jFTgg0ExwZoWj4UbA+loUdf6cBfN\n8tFcCNeHcWclrEZa10L8YKCrfLSo+48fqH744irwT7uYTG2LxfWQu3y0qGteDxkSY3fNp/BZqD6M\n40k8C6mR1bPInhiLacBbOlrWHZ01/wkYKlSMpvfRxVsC9RX464tvJgE1oroWB+BkyFs8WtQ1hq3z\nVc0C4GiWnoTm+X07O1sAn7zYS13V0uMPnhqJOFq+emkNXt7ZAUAfR02YnWBzksR3bXxDFjYFBF+d\nuuqks6Pyngjj0XZBNB7B/Ymo6629NrQFAKxPsqXRTN6FVjaW7BXtH5ceXdGkf7AxFfEj8MPoHqRQ\n+NA+fyfsI1hD4OHlpxYKCYskoHqScKd7Dk4zGxOyazE5CnifZJvfNc31VZij1iJolnrsJJ3t7hAN\nfPhVeCN5CynzKc5F7CV5jQIJ3FcoeCQB1ZOEH2hP4Sbuo2N2LTqlVt4n2eajieB5uHGkSr5IHE2G\nbyjGVcYJfKAUlo92QewleYUGPekxJwDdk4CTfSP4Q3fAV63jOYqtPtEWnzXxNlyeUUV8pawq5gZe\nbJpgPswlx35SgM9ZvRWKgH6WEt5Men9bPmZj7gGT0QHrE21xNNntd1IVvKcL+arnBuDDRRPMp5Aj\n9pK8hkDX9wPJsQjoZyniVWidy/XlV3EtDmN9ki2OZu4K3EaF3RWYdyTQTU5DK8GsD7+dPcFPkKbw\nKTwI+wjWEHgHwD8cCaieJJxdTmbsebFrcSjvk2zprlmI1Z9AX/7y4yGI/rRkm+u3w0OUQXx8ynF8\nfW6rmVKmnft4MRIscswR9A6//uiGj4qAehJx9gXPJvXkHMeuRe5T2eJoou/H6qualf4LWY+DBPtU\nb8eWl86mFCNu3Mlp9N2J8a8qgT5eXJzgmCNow88fK4tBogJcREA9iRiOrT03JKNBQiu9s2uR+1S2\nOBr8yDMH9auaZayQflVbKb3JHh3gxznBl2tugJcqUfbUUZdqEnZQwquKl4DRVfRJf/Jdg+N0PytZ\nx8i9wcSbzZLk48PsBNucAXS1KTtIBFRj4/lppL+WswEzhAnfqJi3g3fNYdhvlS1ZO3cTjdyM3qOP\nF7MTbHMG0MWm2jhbRUA1Nm6kc7pJGzDDqj7prrk0njENQGrt3E3fTZg9+ngxOyE15XnAAOZTfPe8\niYBqbRwvP6MtbKCz2VrVJ42GCfZCMwH1GDb7vcBMYG80ZhRucAQG6v9QLvmf7+PBvf8C9HSBHHQD\nxx4AAAAASUVORK5CYII=\n",
      "text/latex": [
       "$$\\left [ y^{2} z, \\quad x^{2} z, \\quad x^{2} y, \\quad x y^{2}, \\quad y z^{2}, \\quad z^{3}, \\quad x z^{2}, \\quad y^{3}, \\quad x^{3}, \\quad x y z\\right ]$$"
      ],
      "text/plain": [
       "⎡ 2     2     2       2     2   3     2   3   3       ⎤\n",
       "⎣y ⋅z, x ⋅z, x ⋅y, x⋅y , y⋅z , z , x⋅z , y , x , x⋅y⋅z⎦"
      ]
     },
     "execution_count": 12,
     "metadata": {},
     "output_type": "execute_result"
    }
   ],
   "source": [
    "monomial_set"
   ]
  },
  {
   "cell_type": "code",
   "execution_count": 14,
   "metadata": {},
   "outputs": [
    {
     "data": {
<<<<<<< b86c3648b6cf35955b31e6f6dfef2df5f20132de
      "image/png": "iVBORw0KGgoAAAANSUhEUgAAAegAAAD5CAMAAADbc1a0AAAAP1BMVEX///8AAAAAAAAAAAAAAAAA\nAAAAAAAAAAAAAAAAAAAAAAAAAAAAAAAAAAAAAAAAAAAAAAAAAAAAAAAAAAAAAADFBd4eAAAAFHRS\nTlMAMquZdlQQQO0wRCKJ781mu918bN6TUK4AAAAJcEhZcwAADsQAAA7EAZUrDhsAABttSURBVHgB\n7V3rYrOwjqRN23O29+7m/Z91bczYMligoTYh/dwfFRCPNNI0NGkHMjxcx6/HoX/9yQn8BH2H4eF6\neXJfz3+yy97U8OXVfbx6oR/6OP76BL7uR+iXy/vXe9MfSboCDTjgx0nhdEdCf7rfLS8/bw1nRVeg\nAQ3JI7XC6X6E/vrwrbx/oqH6ka5AA+pzXmTUON2P0N/ju4Ln68uit1oH6Ao0oBbTlTwap/sR+joK\n/Xpt9+aArkADVgSq9ZDGaSb02+X98vRBPGnaA6YJvFwvfuv1+rQ5EppTyEhU4AE0JxqwwSkX+vXD\nvdb5dC/E3S/Dy/fFC44Y8sy/C8DwEH59vj9dHvWfFAFA5nUAKr5d3/3mQwg4WoqiROQ0NVNaHo/Z\nK0wQAiA4oV3EWD/bEAA0EWO2cLajcsqEfvn4crjLt/v27hR/dMohzvJNuwLwcHn88UcvLsWYoYgQ\nAGReB8Qsb+EZvS20KAFOKBWTFTfMFYC2AwQntIuIZHkUADSBmC+c76mcMqEv4yudH39y9G9jHq5v\nMc4Thn0BGIbnILR74vmk5S8BQIXLKiCmMZ9YRQlwQqmYrLhhrgC0HSA4oV1EJMujAKCJFPOl+Z7K\nKRP6wz+XX8a/k/28DsPb9XVAzNNhTwAkD/0ZLQAysw5ApWEIrzKeN1+MiRLgJEulhIsta4UINAMy\nTumMp7edAcIzCM3E6uUNjZMU+mX8/fccn454K4O4yJwDwGd4+dD+fpUDHPXwZkkHiJLf/qfQnSz0\n3//j4rxE5IRSIuFi01gh4ayAnFOcj952DkATiIlAYUvjlAvt37p8fw7P4c9P4zncHUFcpH0Zn14A\ngMfTp/rCOAcg8wpAlAx/Cbhs/cEkLwFOKCXyLTeNFRLQCsg5oV3ElC9u5QA0gRiXlTY0TlLowSv0\n9fM4jK9v3evtkAixkDYDJB76KSkDxAorr95E0R//J1D1ZBEXZiUip5UmInIwVuABGSfLqTsDoAnE\nVL+0pTSRCf3y+PT+8Pb45H4/O8UnnRFLSTNA4vGm/iLNACmzDhBVX97dP9u0XwppXVYCnFKptHC5\nZayQgFZAxsm/+Al/9UFMCbGVAdAEIhaVo8IpE1oiX93T+tWNFVE+Vt4eeYxPuberf5u29RUyE4Ct\nhIXHp9nYmyjkqHoI7SJakkNgRAtmsUYT+uHz+fn5+8W9SQ9xAVweeB7/6+Dfypj+tobMZsCy4vaR\nwAmltte3X4F2EQ0VQxPupes4YAOgtEQT+mO0nwwDYgmbHXu7/Fwf3e/4h/en98fwYi57fLGDzGbA\nIsPmAXBCqU3AAQvQLuJmSTSBuAkoL9CELq/uR+92Al3ou5WOI96F5uZ1t6u70HcrHUe8C83N625X\nd6HvVjqOeBeam9fdru5C3610HPFaQiu2cY7MrVcf0ARdggYoQ6wltGIbV6qe9PABTdAlaIAy20pC\nh/+CtnTXK/xrHj6gCboEDdAGUklozTaulT3l8QOaoEvQAG2ylYQOTqWW7nqtgYrHD2iCLkEDtHnM\nhK5tG1+WpSvQgIFHjDRVA2WFJqYURImAIAAbXedCF2zjsNkvuxVHVNu4WBM2SxUqO/4LJX7nfV9r\nAjZ8xMXa7IB9ThPMDhBdQzLEMVcmdME2Xtn7XqhgdrKDyjrA2criVQjwvCNmQ1/sqN73+UpRAVwQ\n50tn++YSwJkBghPmhBhyZUIXbOPeCOGN/Otf5jNMoYLZyQ4q64ChUMJmid7TBLggro/JeebNF5CF\nTGaA6BpzQgyZvND/uf4n7BRs45W974UKvrRuGxUASUUHDAKRBDbZrcILH/ISgUR+hVMYr/tuLUED\nRNeYE2LI9b9OaNzDpGwbjzb7WLywodnGZ0uVCqNTbrY07OaASEUHuCeNNyvjKgQIjFgsgoO7mogO\n5BVOKOBM87arEGhA3nWck7hsQZ66y7bxmt73cgWzkx1UVgBOaHkVAgRGTBMsbIU/TpCXCIALYiGv\nOGQskRBGQN415pRiuB4Oz+jcwB9nU9P7XjSmp7NfahBbGcDk+M8QaAIRactR8b7PF2cVEnnLqbvZ\nNQI5J0iG6DqQz+ihaBuv6n0vVkiO9vlI3aUZpWsK1gA5AgIjLgvII4r3XS7x2xmnxEW344sExhIJ\nYQRknCAZos+WCZ3Su61pNg2972MFwsm+w/EPgRGzDn+/A/KIv89YIwMkQxxzrgg92sVbet8PcPzD\n845YY44yh38L4y9XQJSP3WobkiEGHprQsIu3876jgtnJDipmgPtbaLioALH+6MEFsX4FPiPmhLgu\nNJ+/I049Ae0ZfWrSnRw/gS40P7O7RHSh71I2nrQX+uVp474gfNqOONsE3vyVrv1+3WeTpT6ffuqu\nP9NTZuxCn1KW+qQUoWvZxusTJjL+m00oXStC17KNE7LUX/pvNqF0XRa6mm28vnr2jP9mE1rXZaGr\n2cbtstRf+W82oXVdFrqabby+fPaM/2YTWtdFoc3eQ/df93/ylv101/ycwg80ocQGoCj0Ltt4NMlP\nd+IvP/WEzxyAzGe+QAkAFiIu1mYHdjUBHz5iljHulDitXoUwCERsex0RitmbmMipAEXo0X686273\n62Z54TPHwtxnHoc5bQgAFiLOl87293jf4cNHnKXUOa0DShcVbCCmUuYmwFQFFIU2nzCEbTx6j+BB\nQuksFgC5zzxb7XYEAAsR50tn+3uagA8fcZZy2i1wWgfILjCnDcRUytwEmKoAL3Q08GO12WcubONo\nIMWYTWwUALnPXKwdNwUACxHnS+f7VrO8KOFTwMyJOE/rbpu5/KACCVwCJELORy8Rc1ib2ARIA39c\nbPWZ57ZxGPAQU7q4VQa43rX76ueAtFAFxFJms/ysBHz4iCLhtDkDgLwOUC4qiNb/ZYl0pJrjv3jq\nHnbZxiEwYmIbt3KfeVpovMd/MqSrgFjKGVxHd2N9P37eBDitGfhzBNpeQ8Q2jE3E9WrXZaGtPvPM\nNo4GEFPxtFUEJF9+WoitDBAXCmM6FhZiKz9+mVM85xeYZIg0H8Op26pEKqp0rQi9xzaOBhBT7bSV\n+cyxUPrM09KwlQGwEHG+eLa/pwmLH7/IKQFnLPxuhkDbq4iYxNhEXD8oAEXohLNvoQHETeS0MPOZ\nr4GwEHFt7a7H4MNHNCQJXAjA9GKMQhh4bC6pKfR0g3izWT4szH3mK4SxEHFl6d6H4MNH3MwDLmaA\nyxjaZhCbNAwLqgkNkzziZm0szH3mKzAsRFxZuvch+PARN/OAixkQLyqwIzZJmBZUE9pUrS+62QS6\n0Dcb/bGFu9DHzvtm1brQNxv9sYW90N3Af+zMb1KtG/hvMvbji/ZT9/Ezv0nFLvRNxn580Vzol++P\nH4pDe0CiozjT04Jpi+YUM1gr8ACaEw3Y4pQLPQyfjxFh22gPAA/FmY6HRaQ5TVh7BR5Ac6IB65zm\nQquf/CzmmG22B0zlNGd6xibs0JwCjKjAA2hONGCd00zoV83qEbIsv7cHoKbmTMfjKdKcJqi9Ag+g\nOdGADU4zod+5X9HD0B4AATVnOh5PkeY0Qe0VeADNiQZscJoJ/fn49HQJn0ufBre21R4wVVftjUt2\nNKeQgqjAA2hONGCDUy70y/XzxVnZ3F3SYJJHXI5zPJIARl96AiDzulc+1lWd6XEFNlKJyOnyfdm+\ne4e9wlSJACROaBcRrGcxAdBEjLOV+a7KKRc6mCvdjZBhkkfMs6W9CIAdf8uXHgHIvAVALdWZjgUx\nxhLghFJxRXnDXmHCE4DICe0ilqnA7uqUQBOIGmCLUy70aJn0dlbvf/A33kfU0kfA5JAZtnzpEYDM\nWwBUtp9YYwlwQimkUqK9wpSAAEROaBdR4TJEAJpIUYOMx1VOXuhk4P/0l+L4DzWCSR5RSx4Bksea\nuTECZOY1QKxstrLHEuAkS8V0hQ1zBWDtAMHJcomA+3sGlEATKaJ6OWqccgP/dfzckektVjjduAIr\nb7kEIHoCR99bmYX7rIFChVVATGS2sosSkdNqEyhhrsADBKfo219tWwDQBCKql6PWRH7qvr66f1qO\nnzLjssAkj1hKLADgse5LFwBUWAfEqmYruygBTigVkxU3zBWAtgMEJ7SLiGR5FAA0gZgvnO9pnHKh\nH93z7Xu8ktK/7g45EOcZx30BSDzWzsQCECusWd9FVcWZLlaETVEiclptImawVuABgpPt1C0AaAIx\nVi9vKE3kQr9cnvzLQf8FkzxiODr/LgCJx9qt6AUgZV4DpIqKMz0tmLZECXBKpRar5QFrhYgxAwSn\n5Ntfa1sA0ARirF7eUDjlQicoTPKI6RFta+RB+NJ3WN+10urxaTb2JtRMlR7AfBAtaSEwogWzXKMI\nDWM64hK4OEL60pHZv/fx97Bv8kVeItCEQ54U7SLmjxb3QhPuRfF0gURx0eZBRWgY0xE388COb/al\nI7MZsElhsQCcUGqx4AYH0C7iJgU0gbgJUBYoQiur++G7nUAX+m6l44h3obl53e3qLvTdSscR90Kn\nv3Vz2L76jiaQ/637joh3qtwE+qmbm9fdru5C3610HPFc6Oq28QUZugINGHgEWFoN/PsrDNYSoGQG\nbHHKhd5h4J8Y2b3vtDGdBvBXIbRvAsLZ51SZ01zoyrZx9CciXYEGDDxi5Bf+lfv+KchqmzsrTLd7\nM5UIpatxmgld2za+HBRdgQY4L9S+/5HYDfx7Kwz2EtPk7IANTjOha9vGl0LTFWgAf1HBxDLYrbxl\nbuuL50SXoAEbnGZC17aNLydGV6AB7lc0eRVCYKkaKCs0MaUgStTmlAu9tI3DZr9sVh5RbeNy0bhd\nqLB+J/oEAJUN67u7AAFXIUTP++qHAoDjnibABRG5lGgvMSWwA1LXcU7ZZQu50NFnDrt4de/7ooLZ\nyQ4qW4DJ8FnR+75QLTYBLoiLlbMDhOU/IO2AyAlzQpwoeKHTzWoWtvHq3vdFBbOTHVS2APW97zO1\nnLvPvzD31zmAC+Ji5exAw1N35IQ5IU4U8pvVLGzj1b3viwqex5ptNAIklTVAfe/7TK3MXZ/Ir3JC\nCs1ej8cX0QxYzEnOy6XNT90F2/i6gR/ENNs4Ho+xVMHqZI9UVgHyGgH46RAjjeLGniZsdvxYzlwC\nCDNADDbOSV62MBM6GfjTbNYM/OCj2cbxeIwFY7rZyQ4b/jpgKJRIzUQihY09TYALYiGtPGQuAZAZ\nILrGnFJ02XKhC7bxZLNH7WJUbOOLtaUKq6duAUhUVk+TAgGBERd08gM7miBP3dVuqJ8Td3ui6zgn\nedlCLnTBNl7Z+16okBztC/bugAAkKmvWd4mAwIilAuKY4n0XK8Km4JTIr3KKKawlaIDghDkhjrly\noWN6d5oPN7lo6H0fKxBO9h2OfwiMKPqrsQnyiDVy/j4HJEMMGXWhR7s4bPa/L7/McIDjH553xCWJ\n3x3xb2H81QeIv8tWBw3JEKesitCwi7fzvqOC2ckOKmZAvNk9StUZpMwCLojysVttY06IEw9F6Fux\n7HVbTaAL3WqyJ8vbhT6ZIK3odKFbTfZkeb3Q3cB/MlFa0OkG/hZTPWHOfuo+oSgtKHWhW0z1hDkV\noa0+8y3b+KLj9oBU8jxNHHBRQWxb6VoR2u4zp+317QHo+UxNHHBRwdS20nVZ6PBfUJPP3GCOxeBD\nbA+Y6p2qiQMuKghta12Xha5mG8819nsbPvMKAKQ4UxN821MX9iY2AGWhG1rZN3zmUClFGgDomZo4\n4KKCqW2t66LQhFmRNsu3B0wdn6qJAy4qCG2rXReF3mMbN5rlk88cAPjN8UScxQTAQsTZwvnunibg\nw0ec55z2C5zWr0IoXFSwUWKqZG9iC6AIPd7w9cE5lze+om0cjn9EDbcAzHzmC1wEYCHiYuXswA7v\nO3z4iLOMcXfBaQuwvKhgExGK2ZuYyKkAL3Qy8E+r1ed/bBUb0TYevUfwIGHFLC4AM5/5bLkwy2Mh\n4mLl7MCOJuDDR5xljLuxCXDZAiTLP+a0iQjF7E1M5FRAbuBHK7xtHA2kiFx5jD5zLJz5zPPVbi8C\nsBBxsXJ+YE8TNlPngpMvvepMjQi0vYmYujE3Ma0fNEDx1D3ssY3DgIeIynkUPvO0MJwK84XYEwA3\npNmHA2BRMe5pwubHL3GiLyqIpYrkcdDcxBagLPQe2zh0Q0TlPAqfeVq4domAACRD+hog1tvTBHz4\niDFZtlHgtA4oXVSwgZgKmpsAQQ1QFtrsMxe2ceiGiMp5LACi3zxfOe0JQFwojelFUDjYzI9f4rR+\n6haINJ/Vkz36sjaB9Zp0itBWn7mwjaMBxFg52ygAMp95ttjvCAAWIi7Wzg7saMLmxy9wSsAZibAr\nEGk+Jsu/tYlYVgEoQkeYfQMNIG4ip4W5z3wFhYWIK0v3PQQfPqIhS+BCAKYXYxTCwGN7SUWhpxvE\nm83yYeHMZ64zxkJEfeXuR/y7JcqPDy4AWiqHthmEJevmmlpCwySPuFkYC2c+cx2HhYj6yt2PwIeP\nuJkIXMyAeFGBHbFJwragltC2an3VzSbQhb7Z6I8t3IU+dt43q9aFvtnojy3she4G/mNnfpNq3cB/\nk7EfX7Sfuo+f+U0qdqFvMvbjiypCKy7w4/mJijSnEwJEO8bNWk0oQisucCO5NstoTicE8JOp1URZ\n6PBPTZOBn6e+E0FzOiGAb71aE2Whads43wGNoDmdEEA3Xe+W/WWhg/HIci96nvpeBM3phAC+92pN\nFIVWrYQa0fenp6cH7cHScRrgnNGjBfn1+lTKVzh2QsBAt12viaLQpG38zdtdPv09rE13undmDACM\nXnwvI8npjIDU9obdP/3Y1utaEdpq4B8pfXif/+PzsGXej/wBsHrxPVB1psess43zAdC20bxft2sv\n9C8M/J7MJX36kM1GFAHwv88kKu7WO4kV07uDrSvEto3mfc+zHqdfGvg9mY9v/338sgkdAWYvvk8e\nXpY82y+vPhsgtu27MTlAa3ZdPHXbDfyOiv9sCXyZhJaA5MlHCjVWs7LfqELW9mgOVImIB6p1XRY6\nvE0fLzESRZXN8boFp5h72CR0+CyEAEiefCV5Okxx8rCzAcScbOb9qk2UhdZc4GnsYuvy6HZeLv7t\nlU1oAYiefJFP26xlZdfyux8698Nqfq75NBRAtm0+dXMlVjgpQisu8PKM3t+/vsK7W5vQQwJYvfi+\nMMXpjIDUtn8Tsf3BiOO0a3WtCD3W4L8ZhY6Jm3nxY4UTbhxv3vdDqCz0ZOI3jhf+d+Pyv7LscPO+\nH1xNoeHJNwsC/7sZ8DcWHm7e92OrKfTfkOGPdtGF/qPCztvqQs8n8kf3u9B/VNh5W17obuCfT+UP\n7ncD/x8UtdRSP3WXpvIHj3Wh/6CopZYUoWvZxkslwzG6gvu/yfvXO+NMowE629s9QjehABSha9nG\n9QHRFQYaQQN0trd7hG5CAZSFrmYbVwdEV5j+vUxcVMCXUNne7gG6CQ1QFvqM3vf2nG4np165Wtdl\noavZxtUO6AqTZ4y4qIAvobK93QN0ExqgKHQ976E2IbpCRT+kxol21/N+fLoEPScVUBS6nm1cGypd\nobmBn3fXJ8Tl+/KidSqOR4D1QoeaVyEoQlMG/iPc9c0N/Ly7HgjzZQgAmC90qDlYL/QvDfzuZ1Y9\nYYif52yTBrQuwbvrI8J6GUIEWE2UVQdbwcDvFQwvAVq66xuX4N31EWG9DCECCKHrdV08dVMG/vGZ\nWs1nPmYrfmtagnfXZ4j40QBF5uGgBNhNlNW6Lgsd3nUbDfy+j/aAxiV4d71A2C5DEAC70NUGWxa6\nmm1c/wmnvO9jGhrBAHh3vUSYPhJAAOxCV1NCEbqWbVwXmq7Q2MDPu+sTwngZQgIQQtNzUgCK0LpA\nf/yRPe56/jIEQuha8+5CzybJu+t3XIZg/pSCGblf7HahZ8Pj3fX0ZQj0hQ4zirt2u9C7xnZ/oC70\n/Wm2i3EXetfY7g/Uhb4/zXYx9kJ3A/+u0d0XqBv470uv3Wz7qXv36O4L2IW+L712s1WEVlzgehka\noKeq9gjNiQbwVOkStQCK0IoLXG+MBuipqj1Cc6IBPFW6RC1AWWjNBa42RgPUTPUeoDnRAJ4rXaIa\noCx0Nds4P4p6iDM20Z6TVqEstOYCV1WgAWqmeg/QnGgAz5UuUQ1QFJr2aNIA2snOm+VpTjTgjJzU\nJopC0/Z6EsA72SPCfs9+khNvlk+cbnBDfe1konatCN3WwM872YEwm+Vret+VoYLTTW6or3DSr3Pw\nQv/nv/+T49Tnf74s7XEA3skeEVazvKPGceIBkdNNbqifZp9vqV3/33/dR55c5/cRCC8BWvnxeSd7\nRFjN8r77tk3IDx64wQ31c3nFntZ18dTd1sDPO9klwl3mkD7DQzS43KzmfV+mdkcyTuabfLfl5Ilq\nFcpCh7fprQz8vJNdIGxmed9y2ybk5wjc4Ib6vsHil9Z1WehqtvEiF97JLhDEPfsZA/9IlAJITsff\nUL842LUmFKEVF7iengLwTvaEMJrlPVOKEw9InPxL/INvqE8roQit56n7CO1k583ydQkvs+2x/C+z\nND9ya6G5W/a7WwU8Pz9/W24v0HxysQBv+Y/QAzduKjTvZKfN8geMkrf8H0BqUeKmQi/Y9APNJtCF\nbjbacyXuQp9Lj2ZsutDNRnuuxF3oc+nRjE0Xutloz5W4C30uPZqxqSU0bT/mO2pfgq5AAw64u7zC\nqZbQtP2YF7p9CboCDTjg7vIKp0pC0/ZjXuf2JegKNOCAu8trnCoJrbmJeT1VRPsSdAUaMNCIaoBK\nQtP2Y1VP9YH2JegKNGCyN7W8u7zGqSg07bpWLWmabHQF3utHl6CboAF8E3QJFVAQOvqVNZWWx1U3\n8XKpP7KjAntj9h0lyCZ4I/gORD1OBaHhV3amHdud5X0DlBE8VTBb33eXYO52TzVBd+1/wrk51QQs\nhY5+ZcIsr54wis/oWIGwvpNnvViCuNs914TrjAbwCLqEClgKnTzUb97y7b4ZvsJLAKMRPFYgrO+k\nTTuWuMlN0PWBUXPyaaoBFkInvzJjltfcxKWWUwX/6OW7tKZwbG8Juy2NqTASpAGq67rQbzhEl9AA\nC6GlX9lulg9v041GcOnSNlvfOZu2KGEXmmrC60ADeARdQgMshc78yj9P6s9a/gBjiRYV7NZ3Z9x3\njlrrz4UoYReaqjC2z1AK86IRtQBLoQfhVzbdWX7sgPJQiwr2Uzdn004lCKGpJnzbNIBH0CUUQEHo\n8KPnvxNm+QQit8zWdzJvXE4IHTF/cGNN6NZm+WOs713o8cd2Rej2ZvlDrO83uNv9GU8IK0K3N8sf\nYH3nrxE4o0oVOK0IXSF7T3GaCXShTyNFWyJB6Kv/emxbqWe/1QR+RnnHT5t98l+vtyLS67adwNco\n79Pw/+X0tSJmUs2OAAAAAElFTkSuQmCC\n",
      "text/latex": [
       "$$\\left[\\begin{matrix}a_{2 2} & a_{1 3} & a_{2 3} & 0 & a_{1 2} & 0 & 0 & a_{3 3} & a_{1 1} & 0\\\\a_{1 2} & 0 & a_{1 3} & a_{2 3} & a_{1 1} & 0 & a_{3 3} & 0 & 0 & a_{2 2}\\\\0 & a_{1 1} & a_{1 2} & a_{2 2} & 0 & a_{3 3} & a_{2 3} & a_{1 3} & 0 & 0\\\\b_{2 2} & b_{1 3} & b_{2 3} & 0 & b_{1 2} & 0 & 0 & b_{3 3} & b_{1 1} & 0\\\\b_{1 2} & 0 & b_{1 3} & b_{2 3} & b_{1 1} & 0 & b_{3 3} & 0 & 0 & b_{2 2}\\\\0 & b_{1 1} & b_{1 2} & b_{2 2} & 0 & b_{3 3} & b_{2 3} & b_{1 3} & 0 & 0\\\\0 & c_{1} & c_{2} & 0 & 0 & 0 & 0 & c_{3} & 0 & 0\\\\0 & 0 & 0 & 0 & 0 & c_{3} & c_{2} & c_{1} & 0 & 0\\\\0 & 0 & c_{1} & c_{2} & 0 & 0 & c_{3} & 0 & 0 & 0\\\\c_{2} & 0 & c_{3} & 0 & c_{1} & 0 & 0 & 0 & 0 & 0\\end{matrix}\\right]$$"
      ],
      "text/plain": [
       "⎡a₂ ₂  a₁ ₃  a₂ ₃   0    a₁ ₂   0     0    a₃ ₃  a₁ ₁   0  ⎤\n",
       "⎢                                                          ⎥\n",
       "⎢a₁ ₂   0    a₁ ₃  a₂ ₃  a₁ ₁   0    a₃ ₃   0     0    a₂ ₂⎥\n",
       "⎢                                                          ⎥\n",
       "⎢ 0    a₁ ₁  a₁ ₂  a₂ ₂   0    a₃ ₃  a₂ ₃  a₁ ₃   0     0  ⎥\n",
       "⎢                                                          ⎥\n",
       "⎢b₂ ₂  b₁ ₃  b₂ ₃   0    b₁ ₂   0     0    b₃ ₃  b₁ ₁   0  ⎥\n",
       "⎢                                                          ⎥\n",
       "⎢b₁ ₂   0    b₁ ₃  b₂ ₃  b₁ ₁   0    b₃ ₃   0     0    b₂ ₂⎥\n",
       "⎢                                                          ⎥\n",
       "⎢ 0    b₁ ₁  b₁ ₂  b₂ ₂   0    b₃ ₃  b₂ ₃  b₁ ₃   0     0  ⎥\n",
       "⎢                                                          ⎥\n",
       "⎢ 0     c₁    c₂    0     0     0     0     c₃    0     0  ⎥\n",
       "⎢                                                          ⎥\n",
       "⎢ 0     0     0     0     0     c₃    c₂    c₁    0     0  ⎥\n",
       "⎢                                                          ⎥\n",
       "⎢ 0     0     c₁    c₂    0     0     c₃    0     0     0  ⎥\n",
       "⎢                                                          ⎥\n",
       "⎣ c₂    0     c₃    0     c₁    0     0     0     0     0  ⎦"
=======
      "image/png": "iVBORw0KGgoAAAANSUhEUgAAAegAAAD5CAMAAADbc1a0AAAAP1BMVEX///8AAAAAAAAAAAAAAAAA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\n",
      "text/latex": [
       "$$\\left[\\begin{matrix}0 & a_{1 3} & a_{1 2} & a_{2 2} & 0 & 0 & a_{3 3} & 0 & a_{1 1} & a_{2 3}\\\\a_{2 3} & 0 & a_{1 1} & a_{1 2} & a_{3 3} & 0 & 0 & a_{2 2} & 0 & a_{1 3}\\\\a_{2 2} & a_{1 1} & 0 & 0 & a_{2 3} & a_{3 3} & a_{1 3} & 0 & 0 & a_{1 2}\\\\0 & b_{1 3} & b_{1 2} & b_{2 2} & 0 & 0 & b_{3 3} & 0 & b_{1 1} & b_{2 3}\\\\b_{2 3} & 0 & b_{1 1} & b_{1 2} & b_{3 3} & 0 & 0 & b_{2 2} & 0 & b_{1 3}\\\\b_{2 2} & b_{1 1} & 0 & 0 & b_{2 3} & b_{3 3} & b_{1 3} & 0 & 0 & b_{1 2}\\\\0 & 0 & c_{1} & c_{2} & 0 & 0 & 0 & 0 & 0 & c_{3}\\\\c_{2} & 0 & 0 & 0 & c_{3} & 0 & 0 & 0 & 0 & c_{1}\\\\0 & c_{1} & 0 & 0 & 0 & 0 & c_{3} & 0 & 0 & c_{2}\\\\0 & 0 & 0 & 0 & c_{2} & c_{3} & c_{1} & 0 & 0 & 0\\end{matrix}\\right]$$"
      ],
      "text/plain": [
       "⎡ 0    a₁ ₃  a₁ ₂  a₂ ₂   0     0    a₃ ₃   0    a₁ ₁  a₂ ₃⎤\n",
       "⎢                                                          ⎥\n",
       "⎢a₂ ₃   0    a₁ ₁  a₁ ₂  a₃ ₃   0     0    a₂ ₂   0    a₁ ₃⎥\n",
       "⎢                                                          ⎥\n",
       "⎢a₂ ₂  a₁ ₁   0     0    a₂ ₃  a₃ ₃  a₁ ₃   0     0    a₁ ₂⎥\n",
       "⎢                                                          ⎥\n",
       "⎢ 0    b₁ ₃  b₁ ₂  b₂ ₂   0     0    b₃ ₃   0    b₁ ₁  b₂ ₃⎥\n",
       "⎢                                                          ⎥\n",
       "⎢b₂ ₃   0    b₁ ₁  b₁ ₂  b₃ ₃   0     0    b₂ ₂   0    b₁ ₃⎥\n",
       "⎢                                                          ⎥\n",
       "⎢b₂ ₂  b₁ ₁   0     0    b₂ ₃  b₃ ₃  b₁ ₃   0     0    b₁ ₂⎥\n",
       "⎢                                                          ⎥\n",
       "⎢ 0     0     c₁    c₂    0     0     0     0     0     c₃ ⎥\n",
       "⎢                                                          ⎥\n",
       "⎢ c₂    0     0     0     c₃    0     0     0     0     c₁ ⎥\n",
       "⎢                                                          ⎥\n",
       "⎢ 0     c₁    0     0     0     0     c₃    0     0     c₂ ⎥\n",
       "⎢                                                          ⎥\n",
       "⎣ 0     0     0     0     c₂    c₃    c₁    0     0     0  ⎦"
   "source": [
    "Examples\n",
    "--------"
   ]
  },
  {
   "cell_type": "code",
   "execution_count": 22,
   "metadata": {
    "collapsed": true
   },
   "outputs": [],
   "source": [
    "k = sym.symbols(\"k\")"
   ]
  },
  {
   "cell_type": "code",
   "execution_count": 28,
   "metadata": {},
   "outputs": [],
   "source": [
    "c, d = sym.symbols(\"a, b\")\n",
    "x, y = sym.symbols(\"x, y\")\n",
    "\n",
    "p = sym.lambdify((x, y), c * x + y)\n",
    "q = sym.lambdify((x, y), x + d * y)\n",
    "polynomials = [p, q]\n",
    "variables = [x, y]"
   ]
  },
  {
   "cell_type": "code",
   "execution_count": 26,
   "metadata": {},
   "outputs": [],
   "source": [
    "polynomials = [p, q, h]\n",
    "macaulay = Macaulay(polynomials, [x, y, k])"
   ]
  },
  {
   "cell_type": "code",
   "execution_count": null,
   "metadata": {
    "collapsed": true
   },
   "outputs": [],
   "source": []
  },
  {
   "cell_type": "code",
   "execution_count": null,
   "metadata": {
    "collapsed": true
   },
   "outputs": [],
   "source": []
  },
  {
   "cell_type": "markdown",
   "metadata": {
    "collapsed": true
   }
