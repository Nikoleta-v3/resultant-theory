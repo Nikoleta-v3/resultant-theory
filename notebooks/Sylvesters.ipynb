{
 "cells": [
  {
   "cell_type": "code",
   "execution_count": 1,
   "metadata": {
    "collapsed": true
   },
   "outputs": [],
   "source": [
    "import sympy as sym\n",
    "from sympy.polys import subresultants_qq_zz\n",
    "\n",
    "sym.init_printing()"
   ]
  },
  {
   "cell_type": "code",
   "execution_count": 2,
   "metadata": {},
   "outputs": [],
   "source": [
    "assert sym.__version__ == '1.1.1'"
   ]
  },
  {
   "cell_type": "code",
   "execution_count": 3,
   "metadata": {
    "collapsed": true
   },
   "outputs": [],
   "source": [
    "import imp\n",
    "sylvester = imp.load_source('sylvester', '../src/sylvesters.py')"
   ]
  },
  {
   "cell_type": "markdown",
   "metadata": {},
   "source": [
    "Resultant\n",
    "----------"
   ]
  },
  {
   "cell_type": "markdown",
   "metadata": {},
   "source": [
    "If $p$ and $q$ are two polynomials over a commutative ring with identity which can be factored into linear factors,\n",
    "\n",
    "$$p(x)=a_0(x−r_1)(x−r_2)\\dots(x−r_m)$$\n",
    "\n",
    "$$q(x)=b_0(x−s_1)(x−s_2)\\dots(x−s_n)$$\n",
    "\n",
    "then the resultant $R(p,q)$ of p and q is defined as:\n",
    "\n",
    "$$R(p,q)=a^n_{0}b^m_{0}\\prod_{i=1}^{m}\\prod_{j=1}^{n}(r_i−s_j)$$"
   ]
  },
  {
   "cell_type": "markdown",
   "metadata": {},
   "source": [
    "Since the resultant is a symmetric function of the roots of the polynomials $p$ and $q$, it can be expressed as a polynomial in the coefficients of $p$ and $q$."
   ]
  },
  {
   "cell_type": "markdown",
   "metadata": {},
   "source": [
    "It was proven that the determinant of the Sylvester's matrix is equal to the resultant. Resultants are very useful for solving simultaneous systems of polynomial equations. When the resultant is equal to 0 we not to have found a common root for $p$ and $q$. Furthermore, when we have system of two variables we solve for one and the second is kept as a coefficient. Thus we can find the roots of the equations, that is why the resultant is often refeered to as the eliminator."
   ]
  },
  {
   "cell_type": "markdown",
   "metadata": {},
   "source": [
    "Sylvester's Resultant\n",
    "---------------------\n",
    "\n",
    "-  $$p(x)=a_0x_m + a_1x_m−1+\\dots+a_{m−1}x+a_m$$\n",
    "-  $$q(x)=b_0x_n + b_1x_{n−1}+\\dots+b_{n−1}x+b_n$$\n",
    "\n",
    "Then $R(p,q)$ can be expressd as an $(m+n)\\times(m+n)$ determinant:\n",
    "\n",
    "$$\\left|\\begin{matrix}a_{0}&a_{1}&a_{2}&\\ldots&a_{m}&0&\\ldots&0\\cr 0&a_{0}&a_{1}%\n",
    "&\\ldots&a_{{m-1}}&a_{m}&\\ldots&0\\cr&&\\ddots&.&.&.&.&.\\cr 0&0&.&.&.&.&.&a_{m}%\n",
    "\\cr b_{0}&b_{1}&b_{2}&\\ldots&b_{n}&0&\\ldots&0\\cr 0&b_{0}&b_{1}&\\ldots&b_{{n-1}%\n",
    "}&b_{n}&\\ldots&0\\cr&&\\ddots&.&.&.&.&.\\cr 0&0&.&.&.&.&.&b_{n}\\cr\\end{matrix}%\n",
    "\\right|=R(p,q)$$"
   ]
  },
  {
   "cell_type": "markdown",
   "metadata": {},
   "source": [
    "Example 1\n",
    "---------"
   ]
  },
  {
   "cell_type": "code",
   "execution_count": 4,
   "metadata": {
    "collapsed": true
   },
   "outputs": [],
   "source": [
    "x = sym.symbols('x')"
   ]
  },
  {
   "cell_type": "code",
   "execution_count": 5,
   "metadata": {
    "collapsed": true
   },
   "outputs": [],
   "source": [
    "f = x ** 2 - 5 * x + 6\n",
    "g = x ** 2 - 3 * x + 2"
   ]
  },
  {
   "cell_type": "code",
   "execution_count": 6,
   "metadata": {},
   "outputs": [
    {
     "data": {
      "image/png": "[encoded data removed]",
      "text/latex": [
       "$$\\left ( x^{2} - 5 x + 6, \\quad x^{2} - 3 x + 2\\right )$$"
      ],
      "text/plain": [
       "⎛ 2             2          ⎞\n",
       "⎝x  - 5⋅x + 6, x  - 3⋅x + 2⎠"
      ]
     },
     "execution_count": 6,
     "metadata": {},
     "output_type": "execute_result"
    }
   ],
   "source": [
    "f, g"
   ]
  },
  {
   "cell_type": "code",
   "execution_count": 7,
   "metadata": {},
   "outputs": [
    {
     "data": {
      "text/plain": [
       "sympy.core.add.Add"
      ]
     },
     "execution_count": 7,
     "metadata": {},
     "output_type": "execute_result"
    }
   ],
   "source": [
    "type(f)"
   ]
  },
  {
   "cell_type": "code",
   "execution_count": 8,
   "metadata": {},
   "outputs": [
    {
     "data": {
      "image/png": "[encoded data removed]",
      "text/latex": [
       "$$\\left[\\begin{matrix}1 & -5 & 6 & 0\\\\0 & 1 & -5 & 6\\\\1 & -3 & 2 & 0\\\\0 & 1 & -3 & 2\\end{matrix}\\right]$$"
      ],
      "text/plain": [
       "⎡1  -5  6   0⎤\n",
       "⎢            ⎥\n",
       "⎢0  1   -5  6⎥\n",
       "⎢            ⎥\n",
       "⎢1  -3  2   0⎥\n",
       "⎢            ⎥\n",
       "⎣0  1   -3  2⎦"
      ]
     },
     "execution_count": 8,
     "metadata": {},
     "output_type": "execute_result"
    }
   ],
   "source": [
    "my_matrix = sylvester.sylvester_matrix(f, g, x)\n",
    "my_matrix"
   ]
  },
  {
   "cell_type": "code",
   "execution_count": 9,
   "metadata": {},
   "outputs": [
    {
     "data": {
      "image/png": "[encoded data removed]",
      "text/latex": [
       "$$\\left[\\begin{matrix}1 & -5 & 6 & 0\\\\0 & 1 & -5 & 6\\\\1 & -3 & 2 & 0\\\\0 & 1 & -3 & 2\\end{matrix}\\right]$$"
      ],
      "text/plain": [
       "⎡1  -5  6   0⎤\n",
       "⎢            ⎥\n",
       "⎢0  1   -5  6⎥\n",
       "⎢            ⎥\n",
       "⎢1  -3  2   0⎥\n",
       "⎢            ⎥\n",
       "⎣0  1   -3  2⎦"
      ]
     },
     "execution_count": 9,
     "metadata": {},
     "output_type": "execute_result"
    }
   ],
   "source": [
    "subresultants_qq_zz.sylvester(f, g, x)"
   ]
  },
  {
   "cell_type": "code",
   "execution_count": 10,
   "metadata": {},
   "outputs": [
    {
     "data": {
      "image/png": "[encoded data removed]",
      "text/latex": [
       "$$0$$"
      ],
      "text/plain": [
       "0"
      ]
     },
     "execution_count": 10,
     "metadata": {},
     "output_type": "execute_result"
    }
   ],
   "source": [
    "my_matrix.det()"
   ]
  },
  {
   "cell_type": "markdown",
   "metadata": {},
   "source": [
    "Examples 2 \n",
    "--------------"
   ]
  },
  {
   "cell_type": "code",
   "execution_count": 11,
   "metadata": {
    "collapsed": true
   },
   "outputs": [],
   "source": [
    "z = x ** 2 - 7 * x + 12\n",
    "h = x ** 2 - x"
   ]
  },
  {
   "cell_type": "code",
   "execution_count": 12,
   "metadata": {},
   "outputs": [
    {
     "data": {
      "image/png": "[encoded data removed]",
      "text/latex": [
       "$$\\left ( x^{2} - 7 x + 12, \\quad x^{2} - x\\right )$$"
      ],
      "text/plain": [
       "⎛ 2              2    ⎞\n",
       "⎝x  - 7⋅x + 12, x  - x⎠"
      ]
     },
     "execution_count": 12,
     "metadata": {},
     "output_type": "execute_result"
    }
   ],
   "source": [
    "z, h"
   ]
  },
  {
   "cell_type": "code",
   "execution_count": 13,
   "metadata": {},
   "outputs": [
    {
     "data": {
      "image/png": "[encoded data removed]",
      "text/latex": [
       "$$72$$"
      ],
      "text/plain": [
       "72"
      ]
     },
     "execution_count": 13,
     "metadata": {},
     "output_type": "execute_result"
    }
   ],
   "source": [
    "matrix = sylvester.sylvester_matrix(z, h, x)\n",
    "matrix.det()"
   ]
  },
  {
   "cell_type": "markdown",
   "metadata": {},
   "source": [
    "Example 3\n",
    "----------"
   ]
  },
  {
   "cell_type": "code",
   "execution_count": 14,
   "metadata": {
    "collapsed": true
   },
   "outputs": [],
   "source": [
    "y = sym.symbols('y')"
   ]
  },
  {
   "cell_type": "code",
   "execution_count": 15,
   "metadata": {},
   "outputs": [
    {
     "data": {
      "image/png": "[encoded data removed]",
      "text/latex": [
       "$$\\left ( x^{2} + x y + 2 x + y - 1, \\quad x^{2} + 3 x - y^{2} + 2 y - 1\\right )$$"
      ],
      "text/plain": [
       "⎛ 2                       2          2          ⎞\n",
       "⎝x  + x⋅y + 2⋅x + y - 1, x  + 3⋅x - y  + 2⋅y - 1⎠"
      ]
     },
     "execution_count": 15,
     "metadata": {},
     "output_type": "execute_result"
    }
   ],
   "source": [
    "f = x ** 2 + x * y + 2 * x + y -1\n",
    "g = x ** 2 + 3 * x - y ** 2 + 2 * y - 1\n",
    "f, g"
   ]
  },
  {
   "cell_type": "code",
   "execution_count": 16,
   "metadata": {
    "collapsed": true
   },
   "outputs": [],
   "source": [
    "matrix = sylvester.sylvester_matrix(f, g, y)"
   ]
  },
  {
   "cell_type": "code",
   "execution_count": 17,
   "metadata": {},
   "outputs": [
    {
     "data": {
      "image/png": "[encoded data removed]",
      "text/latex": [
       "$$\\left[\\begin{matrix}x + 1 & x^{2} + 2 x - 1 & 0\\\\0 & x + 1 & x^{2} + 2 x - 1\\\\-1 & 2 & x^{2} + 3 x - 1\\end{matrix}\\right]$$"
      ],
      "text/plain": [
       "⎡        2                        ⎤\n",
       "⎢x + 1  x  + 2⋅x - 1       0      ⎥\n",
       "⎢                                 ⎥\n",
       "⎢                      2          ⎥\n",
       "⎢  0       x + 1      x  + 2⋅x - 1⎥\n",
       "⎢                                 ⎥\n",
       "⎢                      2          ⎥\n",
       "⎣ -1         2        x  + 3⋅x - 1⎦"
      ]
     },
     "execution_count": 17,
     "metadata": {},
     "output_type": "execute_result"
    }
   ],
   "source": [
    "matrix"
   ]
  },
  {
   "cell_type": "code",
   "execution_count": 18,
   "metadata": {},
   "outputs": [
    {
     "data": {
      "image/png": "[encoded data removed]",
      "text/latex": [
       "$$0$$"
      ],
      "text/plain": [
       "0"
      ]
     },
     "execution_count": 18,
     "metadata": {},
     "output_type": "execute_result"
    }
   ],
   "source": [
    "my_matrix.det().factor()"
   ]
  },
  {
   "cell_type": "markdown",
   "metadata": {},
   "source": [
    "Three roots for x $\\in \\{-3, 0, 1\\}$."
   ]
  },
  {
   "cell_type": "markdown",
   "metadata": {},
   "source": [
    "For $x=-3$ then $y=1$."
   ]
  },
  {
   "cell_type": "code",
   "execution_count": 19,
   "metadata": {},
   "outputs": [
    {
     "data": {
      "image/png": "[encoded data removed]",
      "text/latex": [
       "$$\\left ( - 2 \\left(y - 1\\right), \\quad - \\left(y - 1\\right)^{2}\\right )$$"
      ],
      "text/plain": [
       "⎛                    2⎞\n",
       "⎝-2⋅(y - 1), -(y - 1) ⎠"
      ]
     },
     "execution_count": 19,
     "metadata": {},
     "output_type": "execute_result"
    }
   ],
   "source": [
    "f.subs({x:-3}).factor(), g.subs({x:-3}).factor()"
   ]
  },
  {
   "cell_type": "code",
   "execution_count": 20,
   "metadata": {},
   "outputs": [
    {
     "data": {
      "image/png": "[encoded data removed]",
      "text/latex": [
       "$$\\left ( 0, \\quad 0\\right )$$"
      ],
      "text/plain": [
       "(0, 0)"
      ]
     },
     "execution_count": 20,
     "metadata": {},
     "output_type": "execute_result"
    }
   ],
   "source": [
    "f.subs({x:-3, y:1}), g.subs({x:-3, y:1})"
   ]
  },
  {
   "cell_type": "markdown",
   "metadata": {},
   "source": [
    "For $x=0$ the $y=1$."
   ]
  },
  {
   "cell_type": "code",
   "execution_count": 21,
   "metadata": {},
   "outputs": [
    {
     "data": {
      "image/png": "[encoded data removed]",
      "text/latex": [
       "$$\\left ( y - 1, \\quad - \\left(y - 1\\right)^{2}\\right )$$"
      ],
      "text/plain": [
       "⎛               2⎞\n",
       "⎝y - 1, -(y - 1) ⎠"
      ]
     },
     "execution_count": 21,
     "metadata": {},
     "output_type": "execute_result"
    }
   ],
   "source": [
    "f.subs({x:0}).factor(), g.subs({x:0}).factor()"
   ]
  },
  {
   "cell_type": "code",
   "execution_count": 22,
   "metadata": {},
   "outputs": [
    {
     "data": {
      "image/png": "[encoded data removed]",
      "text/latex": [
       "$$\\left ( 0, \\quad 0\\right )$$"
      ],
      "text/plain": [
       "(0, 0)"
      ]
     },
     "execution_count": 22,
     "metadata": {},
     "output_type": "execute_result"
    }
   ],
   "source": [
    "f.subs({x:0, y:1}), g.subs({x:0, y:1})"
   ]
  },
  {
   "cell_type": "markdown",
   "metadata": {},
   "source": [
    "For $x=1$ then $y=-1$ is the common root,"
   ]
  },
  {
   "cell_type": "code",
   "execution_count": 23,
   "metadata": {},
   "outputs": [
    {
     "data": {
      "image/png": "[encoded data removed]",
      "text/latex": [
       "$$\\left ( 2 \\left(y + 1\\right), \\quad - \\left(y - 3\\right) \\left(y + 1\\right)\\right )$$"
      ],
      "text/plain": [
       "(2⋅(y + 1), -(y - 3)⋅(y + 1))"
      ]
     },
     "execution_count": 23,
     "metadata": {},
     "output_type": "execute_result"
    }
   ],
   "source": [
    "f.subs({x:1}).factor(), g.subs({x:1}).factor()"
   ]
  },
  {
   "cell_type": "code",
   "execution_count": 24,
   "metadata": {},
   "outputs": [
    {
     "data": {
      "image/png": "[encoded data removed]",
      "text/latex": [
       "$$\\left ( 0, \\quad 0\\right )$$"
      ],
      "text/plain": [
       "(0, 0)"
      ]
     },
     "execution_count": 24,
     "metadata": {},
     "output_type": "execute_result"
    }
   ],
   "source": [
    "f.subs({x:1, y:-1}), g.subs({x:1, y:-1})"
   ]
  },
  {
   "cell_type": "code",
   "execution_count": 25,
   "metadata": {},
   "outputs": [
    {
     "data": {
      "image/png": "[encoded data removed]",
      "text/latex": [
       "$$\\left ( 8, \\quad 0\\right )$$"
      ],
      "text/plain": [
       "(8, 0)"
      ]
     },
     "execution_count": 25,
     "metadata": {},
     "output_type": "execute_result"
    }
   ],
   "source": [
    "f.subs({x:1, y:3}), g.subs({x:1, y:3})"
   ]
  },
  {
   "cell_type": "markdown",
   "metadata": {},
   "source": [
    "Example 4\n",
    "---------"
   ]
  },
  {
   "cell_type": "code",
   "execution_count": 26,
   "metadata": {
    "collapsed": true
   },
   "outputs": [],
   "source": [
    "f = x ** sym.S(2) + y - sym.S(3) * x * y ** sym.S(2) + x ** sym.S(2) - sym.S(3) * x * y\n",
    "g = x ** sym.S(3) + y + x ** sym.S(3) - sym.S(4) * y ** sym.S(2) - sym.S(3) * y + sym.S(1)"
   ]
  },
  {
   "cell_type": "code",
   "execution_count": 27,
   "metadata": {},
   "outputs": [
    {
     "data": {
      "image/png": "[encoded data removed]",
      "text/latex": [
       "$$\\left ( 2 x^{2} - 3 x y^{2} - 3 x y + y, \\quad 2 x^{3} - 4 y^{2} - 2 y + 1\\right )$$"
      ],
      "text/plain": [
       "⎛   2        2                 3      2          ⎞\n",
       "⎝2⋅x  - 3⋅x⋅y  - 3⋅x⋅y + y, 2⋅x  - 4⋅y  - 2⋅y + 1⎠"
      ]
     },
     "execution_count": 27,
     "metadata": {},
     "output_type": "execute_result"
    }
   ],
   "source": [
    "f, g"
   ]
  },
  {
   "cell_type": "code",
   "execution_count": 28,
   "metadata": {},
   "outputs": [
    {
     "data": {
      "image/png": "[encoded data removed]",
      "text/latex": [
       "$$\\left[\\begin{matrix}- 3 x & - 3 x + 1 & 2 x^{2} & 0\\\\0 & - 3 x & - 3 x + 1 & 2 x^{2}\\\\-4 & -2 & 2 x^{3} + 1 & 0\\\\0 & -4 & -2 & 2 x^{3} + 1\\end{matrix}\\right]$$"
      ],
      "text/plain": [
       "⎡                     2            ⎤\n",
       "⎢-3⋅x  -3⋅x + 1    2⋅x        0    ⎥\n",
       "⎢                                  ⎥\n",
       "⎢                               2  ⎥\n",
       "⎢ 0      -3⋅x    -3⋅x + 1    2⋅x   ⎥\n",
       "⎢                                  ⎥\n",
       "⎢                   3              ⎥\n",
       "⎢ -4      -2     2⋅x  + 1     0    ⎥\n",
       "⎢                                  ⎥\n",
       "⎢                             3    ⎥\n",
       "⎣ 0       -4        -2     2⋅x  + 1⎦"
      ]
     },
     "execution_count": 28,
     "metadata": {},
     "output_type": "execute_result"
    }
   ],
   "source": [
    "matrix = subresultants_qq_zz.sylvester(f, g, y)\n",
    "matrix"
   ]
  },
  {
   "cell_type": "code",
   "execution_count": 29,
   "metadata": {},
   "outputs": [
    {
     "data": {
      "image/png": "[encoded data removed]",
      "text/latex": [
       "$$\\left [ -0.748602089269661, \\quad 0.60861271155875, \\quad 0.774613946938332, \\quad 1.18129497817338, \\quad -1.19274709041212 - 0.467962333241294 i, \\quad -1.19274709041212 + 0.467962333241294 i, \\quad 0.284787316711721 - 0.285032598024431 i, \\quad 0.284787316711721 + 0.285032598024431 i\\right ]$$"
      ],
      "text/plain": [
       "[-0.748602089269661, 0.60861271155875, 0.774613946938332, 1.18129497817338, -1\n",
       ".19274709041212 - 0.467962333241294⋅ⅈ, -1.19274709041212 + 0.467962333241294⋅ⅈ\n",
       ", 0.284787316711721 - 0.285032598024431⋅ⅈ, 0.284787316711721 + 0.2850325980244\n",
       "31⋅ⅈ]"
      ]
     },
     "execution_count": 29,
     "metadata": {},
     "output_type": "execute_result"
    }
   ],
   "source": [
    "x_roots = [sym.N(root) for root in sym.solveset(matrix.det())]\n",
    "x_roots"
   ]
  },
  {
   "cell_type": "markdown",
   "metadata": {},
   "source": [
    "For $x$ first root,"
   ]
  },
  {
   "cell_type": "code",
   "execution_count": 30,
   "metadata": {},
   "outputs": [
    {
     "data": {
      "image/png": "[encoded data removed]",
      "text/latex": [
       "$$\\left [ -0.874743900536482, \\quad -0.570530482358354\\right ]$$"
      ],
      "text/plain": [
       "[-0.874743900536482, -0.570530482358354]"
      ]
     },
     "execution_count": 30,
     "metadata": {},
     "output_type": "execute_result"
    }
   ],
   "source": [
    "y_roots = list(sym.solveset(f.subs({x:x_roots[0]}).factor()))\n",
    "y_roots"
   ]
  },
  {
   "cell_type": "code",
   "execution_count": 31,
   "metadata": {},
   "outputs": [
    {
     "data": {
      "image/png": "[encoded data removed]",
      "text/latex": [
       "$$\\left\\{-0.570530482358354, 0.070530482358354\\right\\}$$"
      ],
      "text/plain": [
       "{-0.570530482358354, 0.070530482358354}"
      ]
     },
     "execution_count": 31,
     "metadata": {},
     "output_type": "execute_result"
    }
   ],
   "source": [
    "sym.solveset(g.subs({x:x_roots[0]}).factor())"
   ]
  },
  {
   "cell_type": "code",
   "execution_count": 32,
   "metadata": {},
   "outputs": [
    {
     "data": {
      "image/png": "[encoded data removed]",
      "text/latex": [
       "$$\\left ( 2.22044604925031 \\cdot 10^{-16}, \\quad -4.44089209850063 \\cdot 10^{-16}\\right )$$"
      ],
      "text/plain": [
       "(2.22044604925031e-16, -4.44089209850063e-16)"
      ]
     },
     "execution_count": 32,
     "metadata": {},
     "output_type": "execute_result"
    }
   ],
   "source": [
    "f.subs({x:x_roots[0], y:y_roots[1]}), g.subs({x:x_roots[0], y:y_roots[1]})"
   ]
  },
  {
   "cell_type": "markdown",
   "metadata": {},
   "source": [
    "For $x$ second root,"
   ]
  },
  {
   "cell_type": "code",
   "execution_count": 33,
   "metadata": {},
   "outputs": [
    {
     "data": {
      "image/png": "[encoded data removed]",
      "text/latex": [
       "$$\\left [ -0.90208737497546, \\quad 0.44978105110591\\right ]$$"
      ],
      "text/plain": [
       "[-0.90208737497546, 0.44978105110591]"
      ]
     },
     "execution_count": 33,
     "metadata": {},
     "output_type": "execute_result"
    }
   ],
   "source": [
    "y_roots = list(sym.solveset(f.subs({x:x_roots[1]}).factor()))\n",
    "y_roots"
   ]
  },
  {
   "cell_type": "code",
   "execution_count": 34,
   "metadata": {},
   "outputs": [
    {
     "data": {
      "image/png": "[encoded data removed]",
      "text/latex": [
       "$$\\left\\{-0.90208737497546, 0.40208737497546\\right\\}$$"
      ],
      "text/plain": [
       "{-0.90208737497546, 0.40208737497546}"
      ]
     },
     "execution_count": 34,
     "metadata": {},
     "output_type": "execute_result"
    }
   ],
   "source": [
    "sym.solveset(g.subs({x:x_roots[1]}).factor())"
   ]
  },
  {
   "cell_type": "code",
   "execution_count": 35,
   "metadata": {},
   "outputs": [
    {
     "data": {
      "image/png": "[encoded data removed]",
      "text/latex": [
       "$$\\left ( 0, \\quad 2.22044604925031 \\cdot 10^{-16}\\right )$$"
      ],
      "text/plain": [
       "(0, 2.22044604925031e-16)"
      ]
     },
     "execution_count": 35,
     "metadata": {},
     "output_type": "execute_result"
    }
   ],
   "source": [
    "f.subs({x:x_roots[1], y:y_roots[0]}), g.subs({x:x_roots[1], y:y_roots[0]})"
   ]
  },
  {
   "cell_type": "markdown",
   "metadata": {
    "collapsed": true
   },
   "source": [
    "Generic Example\n",
    "-----------------"
   ]
  },
  {
   "cell_type": "code",
   "execution_count": 36,
   "metadata": {
    "collapsed": true
   },
   "outputs": [],
   "source": [
    "a = sym.IndexedBase(\"a\")\n",
    "b = sym.IndexedBase(\"b\")"
   ]
  },
  {
   "cell_type": "code",
   "execution_count": 37,
   "metadata": {
    "collapsed": true
   },
   "outputs": [],
   "source": [
    "f = a[1] * x + a[0]\n",
    "g = b[2] * x ** 2 + b[1] * x + b[0]"
   ]
  },
  {
   "cell_type": "code",
   "execution_count": 39,
   "metadata": {},
   "outputs": [],
   "source": [
    "matrix = sylvester.sylvester_matrix(f, g, x)"
   ]
  },
  {
   "cell_type": "code",
   "execution_count": 40,
   "metadata": {},
   "outputs": [
    {
     "data": {
      "image/png": "[encoded data removed]",
      "text/latex": [
       "$$a_{0}^{2} b_{2} - a_{0} a_{1} b_{1} + a_{1}^{2} b_{0}$$"
      ],
      "text/plain": [
       "    2                             2     \n",
       "a[0] ⋅b[2] - a[0]⋅a[1]⋅b[1] + a[1] ⋅b[0]"
      ]
     },
     "execution_count": 40,
     "metadata": {},
     "output_type": "execute_result"
    }
   ],
   "source": [
    "matrix.det()"
   ]
  }
 ],
 "metadata": {
  "anaconda-cloud": {},
  "kernelspec": {
   "display_name": "Python [conda env:resultant]",
   "language": "python",
   "name": "conda-env-resultant-py"
  },
  "language_info": {
   "codemirror_mode": {
    "name": "ipython",
    "version": 3
   },
   "file_extension": ".py",
   "mimetype": "text/x-python",
   "name": "python",
   "nbconvert_exporter": "python",
   "pygments_lexer": "ipython3",
   "version": "3.6.2"
  }
 },
 "nbformat": 4,
 "nbformat_minor": 2
}
