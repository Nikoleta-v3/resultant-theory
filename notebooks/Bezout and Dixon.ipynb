{
 "cells": [
  {
   "cell_type": "code",
   "execution_count": 1,
   "metadata": {
    "collapsed": true
   },
   "outputs": [],
   "source": [
    "import sympy as sym\n",
    "from sympy.polys import subresultants_qq_zz\n",
    "\n",
    "sym.init_printing()"
   ]
  },
  {
   "cell_type": "code",
   "execution_count": 2,
   "metadata": {
    "collapsed": true
   },
   "outputs": [],
   "source": [
    "assert sym.__version__ == '1.1.1'"
   ]
  },
  {
   "cell_type": "code",
   "execution_count": 3,
   "metadata": {
    "collapsed": true
   },
   "outputs": [],
   "source": [
    "import imp\n",
    "bezout = imp.load_source('bezout', '../src/cayley_bezout.py')"
   ]
  },
  {
   "cell_type": "markdown",
   "metadata": {},
   "source": [
    "Bezout's Resultant\n",
    "------------------"
   ]
  },
  {
   "cell_type": "markdown",
   "metadata": {},
   "source": [
    "The Bezout matrix is a special square matrix associated with two polynomials, introduced by Sylvester (1853) and Cayley (1857) and named after Étienne Bézout. Bézoutian may also refer to the determinant of this matrix, which is equal to the resultant of the two polynomials.\n",
    "\n",
    "The entries of Bezout matrix are bilinear functions of coefficients of the given polynomials. The Bezout formulation has gone over different generalizations. The most common one is the Cayley that is used after for the Dixon  formulation as well."
   ]
  },
  {
   "cell_type": "markdown",
   "metadata": {},
   "source": [
    "$$\\left|\\begin{matrix}\n",
    "p(x) & q(x)\\cr\n",
    "p(a)& q(a)\n",
    "\\end{matrix}%\n",
    "\\right|= \\Delta(x, a)$$"
   ]
  },
  {
   "cell_type": "markdown",
   "metadata": {},
   "source": [
    "$\\Delta(x, a)$ is the determinant of the matrix."
   ]
  },
  {
   "cell_type": "markdown",
   "metadata": {},
   "source": [
    "We have the polynomial:\n",
    "\n",
    "$$ \\delta(x, a) = \\frac{\\Delta(x,a)}{x-a}$$"
   ]
  },
  {
   "cell_type": "markdown",
   "metadata": {},
   "source": [
    "The Bezout matrix is highly related to the Sylvester matrix and the greatest common divisor of polynomials. Unlike in Sylvester's formulation, where the resultant of $p$ and $q$ is the determinant of an $(m + n) \\times (m + n)$ matrix, in the Cayley formulation, the resultant is obtained\n",
    "as the determinant of a $n \\times n$ matrix."
   ]
  },
  {
   "cell_type": "markdown",
   "metadata": {},
   "source": [
    "Example: Generic example\n",
    "------------------------"
   ]
  },
  {
   "cell_type": "markdown",
   "metadata": {},
   "source": [
    "The Python library [SympPy](http://www.sympy.org/en/index.html) offers an implementation of the Bezout's matrix.\n",
    "\n",
    "An implementation has also been created for the purpose of [this work](https://github.com/Nikoleta-v3/resultant-theory/blob/packaging/src/cayley_bezout.py). Both formulations are used to\n",
    "verify the results."
   ]
  },
  {
   "cell_type": "code",
   "execution_count": 4,
   "metadata": {
    "collapsed": true
   },
   "outputs": [],
   "source": [
    "b_3, b_2, b_1, b_0 = sym.symbols(\"b_3, b_2, b_1, b_0\")\n",
    "x = sym.symbols('x')"
   ]
  },
  {
   "cell_type": "code",
   "execution_count": 5,
   "metadata": {
    "collapsed": true
   },
   "outputs": [],
   "source": [
    "b = sym.IndexedBase(\"b\")"
   ]
  },
  {
   "cell_type": "code",
   "execution_count": 6,
   "metadata": {
    "collapsed": true
   },
   "outputs": [],
   "source": [
    "p = sym.lambdify(x, b_2 * x ** 2 + b_1 * x + b_0)\n",
    "q = sym.lambdify(x, sym.diff(p(x), x))"
   ]
  },
  {
   "cell_type": "code",
   "execution_count": 7,
   "metadata": {},
   "outputs": [
    {
     "data": {
      "image/png": "[encoded data removed]",
      "text/latex": [
       "$$\\left[\\begin{matrix}b_{1} b_{2} & 2 b_{2}^{2}\\\\- 2 b_{0} b_{2} + b_{1}^{2} & b_{1} b_{2}\\end{matrix}\\right]$$"
      ],
      "text/plain": [
       "⎡                    2⎤\n",
       "⎢    b₁⋅b₂       2⋅b₂ ⎥\n",
       "⎢                     ⎥\n",
       "⎢             2       ⎥\n",
       "⎣-2⋅b₀⋅b₂ + b₁   b₁⋅b₂⎦"
      ]
     },
     "execution_count": 7,
     "metadata": {},
     "output_type": "execute_result"
    }
   ],
   "source": [
    "bezout.cayley_bezout_matrix(p, q, x)"
   ]
  },
  {
   "cell_type": "code",
   "execution_count": 8,
   "metadata": {},
   "outputs": [
    {
     "data": {
      "image/png": "[encoded data removed]",
      "text/latex": [
       "$$\\left[\\begin{matrix}- 2 b_{0} b_{2} + b_{1}^{2} & b_{1} b_{2}\\\\b_{1} b_{2} & 2 b_{2}^{2}\\end{matrix}\\right]$$"
      ],
      "text/plain": [
       "⎡             2       ⎤\n",
       "⎢-2⋅b₀⋅b₂ + b₁   b₁⋅b₂⎥\n",
       "⎢                     ⎥\n",
       "⎢                    2⎥\n",
       "⎣    b₁⋅b₂       2⋅b₂ ⎦"
      ]
     },
     "execution_count": 8,
     "metadata": {},
     "output_type": "execute_result"
    }
   ],
   "source": [
    "subresultants_qq_zz.bezout(p(x), q(x), x)"
   ]
  },
  {
   "cell_type": "markdown",
   "metadata": {},
   "source": [
    "We can verify that the implementations' results match."
   ]
  },
  {
   "cell_type": "markdown",
   "metadata": {},
   "source": [
    "Example: Existence of common roots\n",
    "------------------------------------------\n",
    "\n",
    "Note that if the system has a common root we are expecting the resultant/determinant to equal to zero."
   ]
  },
  {
   "cell_type": "markdown",
   "metadata": {},
   "source": [
    "**A commot root exists.**"
   ]
  },
  {
   "cell_type": "code",
   "execution_count": 30,
   "metadata": {
    "collapsed": true
   },
   "outputs": [],
   "source": [
    "# example one\n",
    "p = sym.lambdify(x, x**3 +1)\n",
    "q = sym.lambdify(x, x + 1)"
   ]
  },
  {
   "cell_type": "code",
   "execution_count": 19,
   "metadata": {},
   "outputs": [
    {
     "data": {
      "image/png": "[encoded data removed]",
      "text/latex": [
       "$$\\left[\\begin{matrix}1 & 1 & 0\\\\0 & 1 & 1\\\\-1 & 0 & 1\\end{matrix}\\right]$$"
      ],
      "text/plain": [
       "⎡1   1  0⎤\n",
       "⎢        ⎥\n",
       "⎢0   1  1⎥\n",
       "⎢        ⎥\n",
       "⎣-1  0  1⎦"
      ]
     },
     "execution_count": 19,
     "metadata": {},
     "output_type": "execute_result"
    }
   ],
   "source": [
    "bezout.cayley_bezout_matrix(p, q, x)"
   ]
  },
  {
   "cell_type": "code",
   "execution_count": 20,
   "metadata": {},
   "outputs": [
    {
     "data": {
      "image/png": "[encoded data removed]",
      "text/latex": [
       "$$0$$"
      ],
      "text/plain": [
       "0"
      ]
     },
     "execution_count": 20,
     "metadata": {},
     "output_type": "execute_result"
    }
   ],
   "source": [
    "bezout.cayley_bezout_matrix(p, q, x).det()"
   ]
  },
  {
   "cell_type": "code",
   "execution_count": 37,
   "metadata": {
    "collapsed": true
   },
   "outputs": [],
   "source": [
    "# example two\n",
    "p = sym.lambdify(x, x ** 2 - 5 * x + 6)\n",
    "q = sym.lambdify(x, x ** 2 - 3 * x + 2)"
   ]
  },
  {
   "cell_type": "code",
   "execution_count": 38,
   "metadata": {
    "collapsed": true
   },
   "outputs": [],
   "source": [
    "a = sym.symbols('alpha')"
   ]
  },
  {
   "cell_type": "code",
   "execution_count": 39,
   "metadata": {},
   "outputs": [
    {
     "data": {
      "image/png": "[encoded data removed]",
      "text/latex": [
       "$$\\left[\\begin{matrix}x^{2} - 5 x + 6 & x^{2} - 3 x + 2\\\\\\alpha^{2} - 5 \\alpha + 6 & \\alpha^{2} - 3 \\alpha + 2\\end{matrix}\\right]$$"
      ],
      "text/plain": [
       "⎡ 2             2          ⎤\n",
       "⎢x  - 5⋅x + 6  x  - 3⋅x + 2⎥\n",
       "⎢                          ⎥\n",
       "⎢ 2             2          ⎥\n",
       "⎣α  - 5⋅α + 6  α  - 3⋅α + 2⎦"
      ]
     },
     "execution_count": 39,
     "metadata": {},
     "output_type": "execute_result"
    }
   ],
   "source": [
    "matrix = sym.Matrix([[p(x), q(x)], [p(a), q(a)]])\n",
    "matrix"
   ]
  },
  {
   "cell_type": "code",
   "execution_count": 41,
   "metadata": {},
   "outputs": [
    {
     "data": {
      "image/png": "[encoded data removed]",
      "text/latex": [
       "$$0$$"
      ],
      "text/plain": [
       "0"
      ]
     },
     "execution_count": 41,
     "metadata": {},
     "output_type": "execute_result"
    }
   ],
   "source": [
    "subresultants_qq_zz.bezout(p(x), q(x), x).det()"
   ]
  },
  {
   "cell_type": "code",
   "execution_count": 43,
   "metadata": {},
   "outputs": [
    {
     "data": {
      "image/png": "[encoded data removed]",
      "text/latex": [
       "$$0$$"
      ],
      "text/plain": [
       "0"
      ]
     },
     "execution_count": 43,
     "metadata": {},
     "output_type": "execute_result"
    }
   ],
   "source": [
    "bezout.cayley_bezout_matrix(p, q, x).det()"
   ]
  },
  {
   "cell_type": "markdown",
   "metadata": {},
   "source": [
    "**A common root does not exist.**"
   ]
  },
  {
   "cell_type": "code",
   "execution_count": 21,
   "metadata": {
    "collapsed": true
   },
   "outputs": [],
   "source": [
    "z = sym.lambdify(x, x ** 2 - 7 * x + 12)\n",
    "h = sym.lambdify(x, x ** 2 - x)"
   ]
  },
  {
   "cell_type": "code",
   "execution_count": 22,
   "metadata": {},
   "outputs": [
    {
     "data": {
      "image/png": "[encoded data removed]",
      "text/latex": [
       "$$72$$"
      ],
      "text/plain": [
       "72"
      ]
     },
     "execution_count": 22,
     "metadata": {},
     "output_type": "execute_result"
    }
   ],
   "source": [
    "bezout.cayley_bezout_matrix(z, h, x).det()"
   ]
  },
  {
   "cell_type": "markdown",
   "metadata": {},
   "source": [
    "Example: Two variables, eliminator\n",
    "----------\n",
    "\n",
    "When we have system of two variables we solve for one and the second is kept as a coefficient.Thus we can find the roots of the equations, that is why the resultant is often refeered to as the eliminator."
   ]
  },
  {
   "cell_type": "code",
   "execution_count": 44,
   "metadata": {
    "collapsed": true
   },
   "outputs": [],
   "source": [
    "y = sym.symbols('y')"
   ]
  },
  {
   "cell_type": "code",
   "execution_count": 45,
   "metadata": {},
   "outputs": [
    {
     "data": {
      "image/png": "[encoded data removed]",
      "text/latex": [
       "$$\\left ( 2 x^{2} + 3 x - 1, \\quad 5 x - 1\\right )$$"
      ],
      "text/plain": [
       "⎛   2                   ⎞\n",
       "⎝2⋅x  + 3⋅x - 1, 5⋅x - 1⎠"
      ]
     },
     "execution_count": 45,
     "metadata": {},
     "output_type": "execute_result"
    }
   ],
   "source": [
    "f = sym.lambdify(y, x ** 2 + x * y + 2 * x + y -1)\n",
    "g = sym.lambdify(y, x ** 2 + 3 * x - y ** 2 + 2 * y - 1)\n",
    "f(x), g(x)"
   ]
  },
  {
   "cell_type": "code",
   "execution_count": 46,
   "metadata": {},
   "outputs": [
    {
     "data": {
      "image/png": "[encoded data removed]",
      "text/latex": [
       "$$\\left[\\begin{matrix}x^{2} + 2 x - 1 & x + 1\\\\x^{3} + 2 x^{2} - 2 x + 1 & x^{2} + 2 x - 1\\end{matrix}\\right]$$"
      ],
      "text/plain": [
       "⎡    2                            ⎤\n",
       "⎢   x  + 2⋅x - 1         x + 1    ⎥\n",
       "⎢                                 ⎥\n",
       "⎢ 3      2             2          ⎥\n",
       "⎣x  + 2⋅x  - 2⋅x + 1  x  + 2⋅x - 1⎦"
      ]
     },
     "execution_count": 46,
     "metadata": {},
     "output_type": "execute_result"
    }
   ],
   "source": [
    "bezout.cayley_bezout_matrix(f, g, y)"
   ]
  },
  {
   "cell_type": "code",
   "execution_count": 47,
   "metadata": {},
   "outputs": [
    {
     "data": {
      "image/png": "[encoded data removed]",
      "text/latex": [
       "$$x \\left(x - 1\\right) \\left(x + 3\\right)$$"
      ],
      "text/plain": [
       "x⋅(x - 1)⋅(x + 3)"
      ]
     },
     "execution_count": 47,
     "metadata": {},
     "output_type": "execute_result"
    }
   ],
   "source": [
    "bezout.cayley_bezout_matrix(f, g, y).det().factor()"
   ]
  },
  {
   "cell_type": "markdown",
   "metadata": {},
   "source": [
    "Dixon's Resultant\n",
    "-----------------\n",
    "\n",
    "Dixon (1908) showed how to extend this formulation to $m = 3$ polynomials in $n = 2$ variables."
   ]
  },
  {
   "cell_type": "markdown",
   "metadata": {},
   "source": [
    "In a similar manner but this time,\n",
    "\n",
    "$$\\left|\\begin{matrix}\n",
    "p(x, y) & q(x, y) & h(x, y) \\cr\n",
    "p(a, y) & q(a, y) & h(b, y) \\cr\n",
    "p(a, b) & q(a, b) & h(a, b)\n",
    "\\end{matrix}%\n",
    "\\right|= \\Delta(x, y, \\alpha, \\beta)$$"
   ]
  },
  {
   "cell_type": "markdown",
   "metadata": {},
   "source": [
    "Thus, we have the polynomial:\n",
    "\n",
    "$$ \\delta(x,y, \\alpha, \\beta) = \\frac{\\Delta(x, y, \\alpha, \\beta)}{(x-\\alpha)(y - \\beta)}$$"
   ]
  },
  {
   "cell_type": "code",
   "execution_count": 48,
   "metadata": {
    "collapsed": true
   },
   "outputs": [],
   "source": [
    "from sympy.polys.monomials import itermonomials\n",
    "import numpy as np\n",
    "import functools"
   ]
  },
  {
   "cell_type": "markdown",
   "metadata": {},
   "source": [
    "Example: Generic example of Dixon (n=2, m=3)\n",
    "---------------------------------------------------"
   ]
  },
  {
   "cell_type": "code",
   "execution_count": 52,
   "metadata": {
    "collapsed": true
   },
   "outputs": [],
   "source": [
    "dixon = imp.load_source('dixon', '../src/dixon.py')"
   ]
  },
  {
   "cell_type": "code",
   "execution_count": 53,
   "metadata": {
    "collapsed": true
   },
   "outputs": [],
   "source": [
    "a_1, a_2, b_1, b_2, u_1, u_2, u_3 = sym.symbols('a_1, a_2, b_1, b_2, u_1, u_2, u_3')"
   ]
  },
  {
   "cell_type": "code",
   "execution_count": 54,
   "metadata": {
    "collapsed": true
   },
   "outputs": [],
   "source": [
    "a, b = sym.symbols('alpha, beta')"
   ]
  },
  {
   "cell_type": "code",
   "execution_count": 55,
   "metadata": {
    "collapsed": true
   },
   "outputs": [],
   "source": [
    "p = sym.lambdify((x, y), a_1 * x ** 2 * y ** 2 + a_2 * x ** 2)\n",
    "q = sym.lambdify((x, y), b_1 * x ** 2 * y ** 2 + b_2 * y ** 2)\n",
    "h = sym.lambdify((x, y), u_1 * x + u_2 * y + u_3)"
   ]
  },
  {
   "cell_type": "code",
   "execution_count": 57,
   "metadata": {},
   "outputs": [],
   "source": [
    "D = dixon.DixonResultant(variables=[x, y], polynomials=[p, q, h])"
   ]
  },
  {
   "cell_type": "code",
   "execution_count": 58,
   "metadata": {
    "collapsed": true
   },
   "outputs": [],
   "source": [
    "poly = D.get_dixon_polynomial()"
   ]
  },
  {
   "cell_type": "code",
   "execution_count": 59,
   "metadata": {
    "collapsed": true
   },
   "outputs": [],
   "source": [
    "matrix = D.get_dixon_matrix(poly)"
   ]
  },
  {
   "cell_type": "code",
   "execution_count": 60,
   "metadata": {},
   "outputs": [
    {
     "data": {
      "image/png": "[encoded data removed]",
      "text/latex": [
       "$$\\left[\\begin{matrix}a_{2} b_{1} u_{3} & a_{2} b_{1} u_{2} & a_{2} b_{1} u_{1} & 0 & 0 & 0 & 0 & 0\\\\0 & a_{2} b_{1} u_{3} & 0 & a_{2} b_{1} u_{1} & a_{2} b_{1} u_{2} & 0 & 0 & 0\\\\0 & 0 & a_{2} b_{1} u_{3} & a_{2} b_{1} u_{2} & a_{1} b_{2} u_{1} & 0 & 0 & 0\\\\0 & 0 & 0 & a_{2} b_{1} u_{3} & 0 & a_{2} b_{1} u_{2} & 0 & a_{1} b_{2} u_{1}\\\\a_{2} b_{2} u_{3} & a_{2} b_{2} u_{2} & a_{2} b_{2} u_{1} & 0 & a_{1} b_{2} u_{3} & a_{1} b_{2} u_{1} & 0 & a_{1} b_{2} u_{2}\\\\0 & a_{2} b_{2} u_{3} & 0 & a_{2} b_{2} u_{1} & 0 & 0 & a_{1} b_{2} u_{1} & a_{1} b_{2} u_{3}\\\\0 & 0 & a_{2} b_{2} u_{3} & a_{2} b_{2} u_{2} & 0 & a_{1} b_{2} u_{3} & a_{1} b_{2} u_{2} & 0\\\\0 & 0 & 0 & a_{2} b_{2} u_{3} & 0 & 0 & a_{1} b_{2} u_{3} & 0\\end{matrix}\\right]$$"
      ],
      "text/plain": [
       "⎡a₂⋅b₁⋅u₃  a₂⋅b₁⋅u₂  a₂⋅b₁⋅u₁     0         0         0         0         0   \n",
       "⎢                                                                             \n",
       "⎢   0      a₂⋅b₁⋅u₃     0      a₂⋅b₁⋅u₁  a₂⋅b₁⋅u₂     0         0         0   \n",
       "⎢                                                                             \n",
       "⎢   0         0      a₂⋅b₁⋅u₃  a₂⋅b₁⋅u₂  a₁⋅b₂⋅u₁     0         0         0   \n",
       "⎢                                                                             \n",
       "⎢   0         0         0      a₂⋅b₁⋅u₃     0      a₂⋅b₁⋅u₂     0      a₁⋅b₂⋅u\n",
       "⎢                                                                             \n",
       "⎢a₂⋅b₂⋅u₃  a₂⋅b₂⋅u₂  a₂⋅b₂⋅u₁     0      a₁⋅b₂⋅u₃  a₁⋅b₂⋅u₁     0      a₁⋅b₂⋅u\n",
       "⎢                                                                             \n",
       "⎢   0      a₂⋅b₂⋅u₃     0      a₂⋅b₂⋅u₁     0         0      a₁⋅b₂⋅u₁  a₁⋅b₂⋅u\n",
       "⎢                                                                             \n",
       "⎢   0         0      a₂⋅b₂⋅u₃  a₂⋅b₂⋅u₂     0      a₁⋅b₂⋅u₃  a₁⋅b₂⋅u₂     0   \n",
       "⎢                                                                             \n",
       "⎣   0         0         0      a₂⋅b₂⋅u₃     0         0      a₁⋅b₂⋅u₃     0   \n",
       "\n",
       " ⎤\n",
       " ⎥\n",
       " ⎥\n",
       " ⎥\n",
       " ⎥\n",
       " ⎥\n",
       "₁⎥\n",
       " ⎥\n",
       "₂⎥\n",
       " ⎥\n",
       "₃⎥\n",
       " ⎥\n",
       " ⎥\n",
       " ⎥\n",
       " ⎦"
      ]
     },
     "execution_count": 60,
     "metadata": {},
     "output_type": "execute_result"
    }
   ],
   "source": [
    "matrix"
   ]
  },
  {
   "cell_type": "code",
   "execution_count": 61,
   "metadata": {},
   "outputs": [
    {
     "data": {
      "image/png": "[encoded data removed]",
      "text/latex": [
       "$$a_{1}^{2} a_{2}^{4} b_{1}^{2} b_{2}^{4} u_{3}^{4} \\left(a_{1}^{2} b_{1}^{2} u_{3}^{4} + 2 a_{1}^{2} b_{1} b_{2} u_{1}^{2} u_{3}^{2} + a_{1}^{2} b_{2}^{2} u_{1}^{4} + 2 a_{1} a_{2} b_{1}^{2} u_{2}^{2} u_{3}^{2} - 2 a_{1} a_{2} b_{1} b_{2} u_{1}^{2} u_{2}^{2} + a_{2}^{2} b_{1}^{2} u_{2}^{4}\\right)$$"
      ],
      "text/plain": [
       "  2   4   2   4   4 ⎛  2   2   4       2         2   2     2   2   4          \n",
       "a₁ ⋅a₂ ⋅b₁ ⋅b₂ ⋅u₃ ⋅⎝a₁ ⋅b₁ ⋅u₃  + 2⋅a₁ ⋅b₁⋅b₂⋅u₁ ⋅u₃  + a₁ ⋅b₂ ⋅u₁  + 2⋅a₁⋅a₂\n",
       "\n",
       "   2   2   2                   2   2     2   2   4⎞\n",
       "⋅b₁ ⋅u₂ ⋅u₃  - 2⋅a₁⋅a₂⋅b₁⋅b₂⋅u₁ ⋅u₂  + a₂ ⋅b₁ ⋅u₂ ⎠"
      ]
     },
     "execution_count": 61,
     "metadata": {},
     "output_type": "execute_result"
    }
   ],
   "source": [
    "matrix.det().factor()"
   ]
  },
  {
   "cell_type": "markdown",
   "metadata": {
    "collapsed": true
   },
   "source": [
    "Dixon's General Case\n",
    "--------------------"
   ]
  },
  {
   "cell_type": "markdown",
   "metadata": {},
   "source": [
    "[Yang et al.](https://rd.springer.com/chapter/10.1007/3-540-63104-6_11) generalized the Dixon resultant method of three polynomials with two variables to the system of $n+1$ polynomials with $n$ variables."
   ]
  },
  {
   "cell_type": "markdown",
   "metadata": {},
   "source": [
    "Example: Numerical example\n",
    "--------------------"
   ]
  },
  {
   "cell_type": "code",
   "execution_count": 65,
   "metadata": {
    "collapsed": true
   },
   "outputs": [],
   "source": [
    "p = sym.lambdify((x, y), x + y)\n",
    "q = sym.lambdify((x, y), x ** 2 + y **3)\n",
    "h = sym.lambdify((x, y), x ** 2 + y)"
   ]
  },
  {
   "cell_type": "code",
   "execution_count": 66,
   "metadata": {
    "collapsed": true
   },
   "outputs": [],
   "source": [
    "d = dixon.DixonResultant([p, q, h], (x, y))"
   ]
  },
  {
   "cell_type": "code",
   "execution_count": 67,
   "metadata": {},
   "outputs": [
    {
     "data": {
      "image/png": "[encoded data removed]",
      "text/latex": [
       "$$\\operatorname{Poly}{\\left( \\left(- x - y\\right) \\alpha_{0} \\alpha_{1}^{2} + \\left(- x y + y\\right) \\alpha_{1}^{2} + \\left(- x y - y^{2}\\right) \\alpha_{0} \\alpha_{1} + \\left(- x y^{2} + x\\right) \\alpha_{0} + \\left(- x y^{2} + y^{2}\\right) \\alpha_{1}, \\alpha_{0}, \\alpha_{1}, domain=\\mathbb{Z}\\left[x, y\\right] \\right)}$$"
      ],
      "text/plain": [
       "Poly((-x - y)*alpha[0]*alpha[1]**2 + (-x*y - y**2)*alpha[0]*alpha[1] + (-x*y**\n",
       "2 + x)*alpha[0] + (-x*y + y)*alpha[1]**2 + (-x*y**2 + y**2)*alpha[1], alpha[0]\n",
       ", alpha[1], domain='ZZ[x,y]')"
      ]
     },
     "execution_count": 67,
     "metadata": {},
     "output_type": "execute_result"
    }
   ],
   "source": [
    "poly = d.get_dixon_polynomial()\n",
    "poly"
   ]
  },
  {
   "cell_type": "code",
   "execution_count": 68,
   "metadata": {},
   "outputs": [
    {
     "data": {
      "image/png": "[encoded data removed]",
      "text/latex": [
       "$$\\left[\\begin{matrix}-1 & 0 & 0 & 0 & -1\\\\0 & -1 & -1 & 0 & 0\\\\0 & 0 & 0 & -1 & 1\\\\1 & -1 & 0 & 0 & 0\\\\0 & 0 & 1 & -1 & 0\\end{matrix}\\right]$$"
      ],
      "text/plain": [
       "⎡-1  0   0   0   -1⎤\n",
       "⎢                  ⎥\n",
       "⎢0   -1  -1  0   0 ⎥\n",
       "⎢                  ⎥\n",
       "⎢0   0   0   -1  1 ⎥\n",
       "⎢                  ⎥\n",
       "⎢1   -1  0   0   0 ⎥\n",
       "⎢                  ⎥\n",
       "⎣0   0   1   -1  0 ⎦"
      ]
     },
     "execution_count": 68,
     "metadata": {},
     "output_type": "execute_result"
    }
   ],
   "source": [
    "matrix = d.get_dixon_matrix(polynomial=poly)\n",
    "matrix"
   ]
  },
  {
   "cell_type": "code",
   "execution_count": 69,
   "metadata": {},
   "outputs": [
    {
     "data": {
      "image/png": "[encoded data removed]",
      "text/latex": [
       "$$0$$"
      ],
      "text/plain": [
       "0"
      ]
     },
     "execution_count": 69,
     "metadata": {},
     "output_type": "execute_result"
    }
   ],
   "source": [
    "matrix.det()"
   ]
  },
  {
   "cell_type": "markdown",
   "metadata": {},
   "source": [
    "Example: Generic example\n",
    "---------"
   ]
  },
  {
   "cell_type": "code",
   "execution_count": 70,
   "metadata": {
    "collapsed": true
   },
   "outputs": [],
   "source": [
    "a, b, c = sym.symbols('a, b, c')"
   ]
  },
  {
   "cell_type": "code",
   "execution_count": 71,
   "metadata": {},
   "outputs": [
    {
     "data": {
      "image/png": "[encoded data removed]",
      "text/latex": [
       "$$4 a b + c y \\left(a + b\\right) + x \\left(4 a - 4 b\\right)$$"
      ],
      "text/plain": [
       "4⋅a⋅b + c⋅y⋅(a + b) + x⋅(4⋅a - 4⋅b)"
      ]
     },
     "execution_count": 71,
     "metadata": {},
     "output_type": "execute_result"
    }
   ],
   "source": [
    "p_1 = sym.lambdify((x, y), a * x ** 2 + b * x * y + (b + c - a) * x + a * y + 3 * (c - 1))\n",
    "p_2 = sym.lambdify((x, y), 2 * a ** 2 * x ** 2 + 2 * a * b * x * y + a * b * y + b ** 3)\n",
    "p_3 = sym.lambdify((x, y), 4 * (a - b) * x + c * (a + b) * y + 4 * a * b)\n",
    "p_3(x, y)"
   ]
  },
  {
   "cell_type": "code",
   "execution_count": 72,
   "metadata": {
    "collapsed": true
   },
   "outputs": [],
   "source": [
    "polynomials = [p_1, p_2, p_3]"
   ]
  },
  {
   "cell_type": "code",
   "execution_count": 73,
   "metadata": {
    "collapsed": true
   },
   "outputs": [],
   "source": [
    "example_two = dixon.DixonResultant(polynomials, [x, y])"
   ]
  },
  {
   "cell_type": "code",
   "execution_count": 74,
   "metadata": {
    "collapsed": true
   },
   "outputs": [],
   "source": [
    "poly = example_two.get_dixon_polynomial()"
   ]
  },
  {
   "cell_type": "code",
   "execution_count": 75,
   "metadata": {
    "collapsed": true
   },
   "outputs": [],
   "source": [
    "coeff = D.get_coefficients_of_alpha(poly)"
   ]
  },
  {
   "cell_type": "code",
   "execution_count": 76,
   "metadata": {},
   "outputs": [
    {
     "data": {
      "image/png": "[encoded data removed]",
      "text/latex": [
       "$$2$$"
      ],
      "text/plain": [
       "2"
      ]
     },
     "execution_count": 76,
     "metadata": {},
     "output_type": "execute_result"
    }
   ],
   "source": [
    "size = len(poly.monoms())\n",
    "size"
   ]
  },
  {
   "cell_type": "code",
   "execution_count": 77,
   "metadata": {},
   "outputs": [
    {
     "data": {
      "image/png": "[encoded data removed]",
      "text/latex": [
       "$$\\left[\\begin{matrix}- 8 a^{4} b - 4 a^{3} b^{2} + 6 a^{3} c^{2} - 6 a^{3} c - a^{2} b^{3} c + 8 a^{2} b^{3} + 8 a^{2} b^{2} c + 6 a^{2} b c^{2} - 30 a^{2} b c + 24 a^{2} b - a b^{4} c + 4 a b^{4} + 24 a b^{2} c - 24 a b^{2} - 4 b^{5} & - 2 a^{3} b c - 8 a^{3} b + 12 a^{2} b^{2} + 2 a^{2} b c^{2} + 2 a b^{3} c - 4 a b^{3} + 2 a b^{2} c^{2} & - 2 a^{4} c - 8 a^{4} + 12 a^{3} b + 2 a^{3} c^{2} + 2 a^{2} b^{2} c - 4 a^{2} b^{2} + 2 a^{2} b c^{2}\\\\- 4 a^{3} b^{2} + a^{2} b^{3} c + 8 a^{2} b^{3} + 4 a^{2} b^{2} c - 12 a^{2} b c + 12 a^{2} b - 4 a b^{4} - a b^{3} c^{2} + 12 a b^{2} c - 12 a b^{2} - b^{5} c - b^{4} c^{2} & - 8 a^{3} b^{2} + 4 a^{2} b^{3} + 6 a^{2} b c^{2} - 6 a^{2} b c - a b^{4} c + 6 a b^{2} c^{2} - 6 a b^{2} c - b^{5} c & - 8 a^{4} b + 4 a^{3} b^{2} + 6 a^{3} c^{2} - 6 a^{3} c - a^{2} b^{3} c + 6 a^{2} b c^{2} - 6 a^{2} b c - a b^{4} c\\end{matrix}\\right]$$"
      ],
      "text/plain": [
       "⎡     4        3  2      3  2      3      2  3        2  3      2  2        2 \n",
       "⎢- 8⋅a ⋅b - 4⋅a ⋅b  + 6⋅a ⋅c  - 6⋅a ⋅c - a ⋅b ⋅c + 8⋅a ⋅b  + 8⋅a ⋅b ⋅c + 6⋅a ⋅\n",
       "⎢                                                                             \n",
       "⎢                    3  2    2  3        2  3      2  2         2           2 \n",
       "⎣               - 4⋅a ⋅b  + a ⋅b ⋅c + 8⋅a ⋅b  + 4⋅a ⋅b ⋅c - 12⋅a ⋅b⋅c + 12⋅a ⋅\n",
       "\n",
       "   2       2           2        4          4         2           2      5     \n",
       "b⋅c  - 30⋅a ⋅b⋅c + 24⋅a ⋅b - a⋅b ⋅c + 4⋅a⋅b  + 24⋅a⋅b ⋅c - 24⋅a⋅b  - 4⋅b      \n",
       "                                                                              \n",
       "         4      3  2         2           2    5      4  2                     \n",
       "b - 4⋅a⋅b  - a⋅b ⋅c  + 12⋅a⋅b ⋅c - 12⋅a⋅b  - b ⋅c - b ⋅c                   - 8\n",
       "\n",
       "     3          3         2  2      2    2        3          3        2  2    \n",
       "- 2⋅a ⋅b⋅c - 8⋅a ⋅b + 12⋅a ⋅b  + 2⋅a ⋅b⋅c  + 2⋅a⋅b ⋅c - 4⋅a⋅b  + 2⋅a⋅b ⋅c     \n",
       "                                                                              \n",
       "  3  2      2  3      2    2      2          4          2  2        2      5  \n",
       "⋅a ⋅b  + 4⋅a ⋅b  + 6⋅a ⋅b⋅c  - 6⋅a ⋅b⋅c - a⋅b ⋅c + 6⋅a⋅b ⋅c  - 6⋅a⋅b ⋅c - b ⋅c\n",
       "\n",
       "            4        4       3        3  2      2  2        2  2      2    2  \n",
       "       - 2⋅a ⋅c - 8⋅a  + 12⋅a ⋅b + 2⋅a ⋅c  + 2⋅a ⋅b ⋅c - 4⋅a ⋅b  + 2⋅a ⋅b⋅c   \n",
       "                                                                              \n",
       "       4        3  2      3  2      3      2  3        2    2      2          \n",
       "  - 8⋅a ⋅b + 4⋅a ⋅b  + 6⋅a ⋅c  - 6⋅a ⋅c - a ⋅b ⋅c + 6⋅a ⋅b⋅c  - 6⋅a ⋅b⋅c - a⋅b\n",
       "\n",
       "   ⎤\n",
       "   ⎥\n",
       "   ⎥\n",
       "4  ⎥\n",
       " ⋅c⎦"
      ]
     },
     "execution_count": 77,
     "metadata": {},
     "output_type": "execute_result"
    }
   ],
   "source": [
    "matrix = example_two.get_dixon_matrix(poly)\n",
    "matrix"
   ]
  },
  {
   "cell_type": "markdown",
   "metadata": {},
   "source": [
    "Example: \n",
    "--------------------------------------------------------------------------------------------------\n",
    "**From [Dixon resultant’s solution of systems of geodetic polynomial equations](https://rd.springer.com/content/pdf/10.1007%2Fs00190-007-0199-0.pdf)**\n"
   ]
  },
  {
   "cell_type": "code",
   "execution_count": 78,
   "metadata": {
    "collapsed": true
   },
   "outputs": [],
   "source": [
    "z = sym.symbols('z')"
   ]
  },
  {
   "cell_type": "code",
   "execution_count": 79,
   "metadata": {
    "collapsed": true
   },
   "outputs": [],
   "source": [
    "f = sym.lambdify((y, z), x ** 2 + y ** 2 - 1 + z * 0)\n",
    "g = sym.lambdify((y, z), x ** 2 + z ** 2 - 1 + y * 0)\n",
    "h = sym.lambdify((y, z), y ** 2 + z ** 2 - 1)"
   ]
  },
  {
   "cell_type": "code",
   "execution_count": 80,
   "metadata": {
    "collapsed": true
   },
   "outputs": [],
   "source": [
    "d = dixon.DixonResultant([f, g, h], [y, z])"
   ]
  },
  {
   "cell_type": "code",
   "execution_count": 81,
   "metadata": {
    "collapsed": true
   },
   "outputs": [],
   "source": [
    "poly = d.get_dixon_polynomial()"
   ]
  },
  {
   "cell_type": "code",
   "execution_count": 84,
   "metadata": {},
   "outputs": [
    {
     "data": {
      "image/png": "[encoded data removed]",
      "text/latex": [
       "$$\\left[\\begin{matrix}- 2 x^{2} + 1 & 0 & 0 & 0\\\\0 & - 2 x^{2} + 1 & 0 & 0\\\\0 & 0 & - 2 x^{2} + 1 & 0\\\\0 & 0 & 0 & - 2 x^{2} + 1\\end{matrix}\\right]$$"
      ],
      "text/plain": [
       "⎡     2                                        ⎤\n",
       "⎢- 2⋅x  + 1      0           0           0     ⎥\n",
       "⎢                                              ⎥\n",
       "⎢                 2                            ⎥\n",
       "⎢    0       - 2⋅x  + 1      0           0     ⎥\n",
       "⎢                                              ⎥\n",
       "⎢                             2                ⎥\n",
       "⎢    0           0       - 2⋅x  + 1      0     ⎥\n",
       "⎢                                              ⎥\n",
       "⎢                                         2    ⎥\n",
       "⎣    0           0           0       - 2⋅x  + 1⎦"
      ]
     },
     "execution_count": 84,
     "metadata": {},
     "output_type": "execute_result"
    }
   ],
   "source": [
    "matrix = d.get_dixon_matrix(poly)\n",
    "matrix"
   ]
  },
  {
   "cell_type": "code",
   "execution_count": 85,
   "metadata": {},
   "outputs": [
    {
     "data": {
      "image/png": "[encoded data removed]",
      "text/latex": [
       "$$16 x^{8} - 32 x^{6} + 24 x^{4} - 8 x^{2} + 1$$"
      ],
      "text/plain": [
       "    8       6       4      2    \n",
       "16⋅x  - 32⋅x  + 24⋅x  - 8⋅x  + 1"
      ]
     },
     "execution_count": 85,
     "metadata": {},
     "output_type": "execute_result"
    }
   ],
   "source": [
    "matrix.det()"
   ]
  },
  {
   "cell_type": "code",
   "execution_count": null,
   "metadata": {
    "collapsed": true
   },
   "outputs": [],
   "source": []
  }
 ],
 "metadata": {
  "anaconda-cloud": {},
  "kernelspec": {
   "display_name": "Python [conda env:resultant]",
   "language": "python",
   "name": "conda-env-resultant-py"
  },
  "language_info": {
   "codemirror_mode": {
    "name": "ipython",
    "version": 3
   },
   "file_extension": ".py",
   "mimetype": "text/x-python",
   "name": "python",
   "nbconvert_exporter": "python",
   "pygments_lexer": "ipython3",
   "version": "3.6.2"
  }
 },
 "nbformat": 4,
 "nbformat_minor": 2
}
