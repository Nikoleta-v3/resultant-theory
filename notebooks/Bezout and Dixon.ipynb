{
 "cells": [
  {
   "cell_type": "code",
   "execution_count": 1,
   "metadata": {
    "collapsed": true
   },
   "outputs": [],
   "source": [
    "import sympy as sym\n",
    "from sympy.polys import subresultants_qq_zz\n",
    "\n",
    "sym.init_printing()"
   ]
  },
  {
   "cell_type": "markdown",
   "metadata": {},
   "source": [
    "Although the resultant of two univariate polynomials is known as the determi-\n",
    "nant of their Sylvester matrix, the original definition is given by the determinant\n",
    "of Bezout matrix, introduced by Bézout in 1748. The entries of Bezout matrix\n",
    "are bilinear functions of coefficients of the given polynomials. The Bezout formulation has gone over\n",
    "different generalizations. The most common one is the Cayley that is used after for the Dixon \n",
    "formulation as well. Caley's paper is in French thus I can to retrive the original formulation. But from here\n",
    "I am considering this formulation."
   ]
  },
  {
   "cell_type": "markdown",
   "metadata": {},
   "source": [
    "% ** Hereafter, we suppose that $n =$ deg$(p)$ $\\geq$  $m = $ deg$(q)$. **"
   ]
  },
  {
   "cell_type": "markdown",
   "metadata": {},
   "source": [
    "$$\\left|\\begin{matrix}\n",
    "p(x) & q(x)\\cr\n",
    "p(a)& q(a)\n",
    "\\end{matrix}%\n",
    "\\right|= \\Delta(x, a)$$"
   ]
  },
  {
   "cell_type": "markdown",
   "metadata": {},
   "source": [
    "$\\Delta(x, a)$ is the determinant of the matrix."
   ]
  },
  {
   "cell_type": "markdown",
   "metadata": {},
   "source": [
    "We have the polynomial:\n",
    "\n",
    "$$ \\delta(x, a) = \\frac{\\Delta(x,a)}{x-a}$$"
   ]
  },
  {
   "cell_type": "markdown",
   "metadata": {},
   "source": [
    "The Bezout matrix is highly related to the Sylvester matrix and the great-\n",
    "est common divisor of polynomials. Unlike in Sylvester's formulation, where the resultant of $p$ and $q$ is the determinant of an $(m + n) \\times (m + n)$ matrix, in the Cayley formulation, the resultant is obtained\n",
    "as the determinant of a $n \\times n$ matrix."
   ]
  },
  {
   "cell_type": "code",
   "execution_count": 2,
   "metadata": {
    "collapsed": true
   },
   "outputs": [],
   "source": [
    "b, c, d, e  = sym.symbols('b, c, d, e')\n",
    "x = sym.symbols('x')"
   ]
  },
  {
   "cell_type": "code",
   "execution_count": 3,
   "metadata": {
    "collapsed": true
   },
   "outputs": [],
   "source": [
    "p = sym.lambdify(x, b * x ** 3 + c * x ** 2 + d * x + e)\n",
    "q = sym.lambdify(x, sym.diff(p(x), x))"
   ]
  },
  {
   "cell_type": "code",
   "execution_count": 4,
   "metadata": {
    "collapsed": true
   },
   "outputs": [],
   "source": [
    "def caley_bezout(p, q, x):\n",
    "    \"\"\"\n",
    "    Returns the Caley's reformulation of Bezout's matrix.\n",
    "    Will refeer to it as Caley-Bezout matrix.\n",
    "    \"\"\"\n",
    "    a = sym.symbols('a')\n",
    "    bezout_matrix = sym.Matrix([[p(x), q(x)], [p(a), q(a)]])\n",
    "     \n",
    "    bezout_polynomial = (bezout_matrix.det() / (x - a)).factor().collect(a)\n",
    "    coefficients = sym.Poly(bezout_polynomial, a).coeffs()\n",
    "    \n",
    "    matrix = sym.Matrix([sym.Poly(row, x).coeffs() for row in coefficients])\n",
    "    \n",
    "    return matrix"
   ]
  },
  {
   "cell_type": "code",
   "execution_count": 5,
   "metadata": {},
   "outputs": [
    {
     "data": {
      "image/png": "[encoded data removed]",
      "text/latex": [
       "$$\\left[\\begin{matrix}3 b^{2} & 2 b c & b d\\\\2 b c & - 2 b d + 2 c^{2} & - 3 b e + c d\\\\b d & - 3 b e + c d & - 2 c e + d^{2}\\end{matrix}\\right]$$"
      ],
      "text/plain": [
       "⎡   2                              ⎤\n",
       "⎢3⋅b        2⋅b⋅c          b⋅d     ⎥\n",
       "⎢                                  ⎥\n",
       "⎢                   2              ⎥\n",
       "⎢2⋅b⋅c  -2⋅b⋅d + 2⋅c   -3⋅b⋅e + c⋅d⎥\n",
       "⎢                                  ⎥\n",
       "⎢                                2 ⎥\n",
       "⎣ b⋅d   -3⋅b⋅e + c⋅d   -2⋅c⋅e + d  ⎦"
      ]
     },
     "execution_count": 5,
     "metadata": {},
     "output_type": "execute_result"
    }
   ],
   "source": [
    "caley_bezout(p, q, x)"
   ]
  },
  {
   "cell_type": "markdown",
   "metadata": {},
   "source": [
    "Numerical Example One\n",
    "---------------------"
   ]
  },
  {
   "cell_type": "code",
   "execution_count": 6,
   "metadata": {
    "collapsed": true
   },
   "outputs": [],
   "source": [
    "f = sym.lambdify(x, x ** 2 - 5 * x + 6)\n",
    "g = sym.lambdify(x, x ** 2 - 3 * x + 2)"
   ]
  },
  {
   "cell_type": "code",
   "execution_count": 7,
   "metadata": {},
   "outputs": [
    {
     "data": {
      "image/png": "[encoded data removed]",
      "text/latex": [
       "$$\\left[\\begin{matrix}8 & -4\\\\-4 & 2\\end{matrix}\\right]$$"
      ],
      "text/plain": [
       "⎡8   -4⎤\n",
       "⎢      ⎥\n",
       "⎣-4  2 ⎦"
      ]
     },
     "execution_count": 7,
     "metadata": {},
     "output_type": "execute_result"
    }
   ],
   "source": [
    "subresultants_qq_zz.bezout(f(x), g(x), x)"
   ]
  },
  {
   "cell_type": "code",
   "execution_count": 8,
   "metadata": {},
   "outputs": [
    {
     "data": {
      "image/png": "[encoded data removed]",
      "text/latex": [
       "$$\\left[\\begin{matrix}2 & -4\\\\-4 & 8\\end{matrix}\\right]$$"
      ],
      "text/plain": [
       "⎡2   -4⎤\n",
       "⎢      ⎥\n",
       "⎣-4  8 ⎦"
      ]
     },
     "execution_count": 8,
     "metadata": {},
     "output_type": "execute_result"
    }
   ],
   "source": [
    "subresultants_qq_zz.bezout(f(x), g(x), x, method='prs')"
   ]
  },
  {
   "cell_type": "code",
   "execution_count": 9,
   "metadata": {},
   "outputs": [
    {
     "data": {
      "image/png": "[encoded data removed]",
      "text/latex": [
       "$$0$$"
      ],
      "text/plain": [
       "0"
      ]
     },
     "execution_count": 9,
     "metadata": {},
     "output_type": "execute_result"
    }
   ],
   "source": [
    "caley_bezout(f, g, x).det()"
   ]
  },
  {
   "cell_type": "markdown",
   "metadata": {},
   "source": [
    "Numerical Example Two\n",
    "---------------------"
   ]
  },
  {
   "cell_type": "code",
   "execution_count": 10,
   "metadata": {
    "collapsed": true
   },
   "outputs": [],
   "source": [
    "z = sym.lambdify(x, x ** 2 - 7 * x + 12)\n",
    "h = sym.lambdify(x, x ** 2 - x)"
   ]
  },
  {
   "cell_type": "code",
   "execution_count": 11,
   "metadata": {},
   "outputs": [
    {
     "data": {
      "image/png": "[encoded data removed]",
      "text/latex": [
       "$$-72$$"
      ],
      "text/plain": [
       "-72"
      ]
     },
     "execution_count": 11,
     "metadata": {},
     "output_type": "execute_result"
    }
   ],
   "source": [
    "caley_bezout(z, h, x).det()"
   ]
  },
  {
   "cell_type": "markdown",
   "metadata": {},
   "source": [
    "Numerical Example Three\n",
    "-----------------------"
   ]
  },
  {
   "cell_type": "code",
   "execution_count": 12,
   "metadata": {
    "collapsed": true
   },
   "outputs": [],
   "source": [
    "y = sym.symbols('y')"
   ]
  },
  {
   "cell_type": "code",
   "execution_count": 13,
   "metadata": {},
   "outputs": [
    {
     "data": {
      "image/png": "[encoded data removed]",
      "text/latex": [
       "$$\\left ( 2 x^{2} + 3 x - 1, \\quad 5 x - 1\\right )$$"
      ],
      "text/plain": [
       "⎛   2                   ⎞\n",
       "⎝2⋅x  + 3⋅x - 1, 5⋅x - 1⎠"
      ]
     },
     "execution_count": 13,
     "metadata": {},
     "output_type": "execute_result"
    }
   ],
   "source": [
    "f = sym.lambdify(y, x ** 2 + x * y + 2 * x + y -1)\n",
    "g = sym.lambdify(y, x ** 2 + 3 * x - y ** 2 + 2 * y - 1)\n",
    "f(x), g(x)"
   ]
  },
  {
   "cell_type": "code",
   "execution_count": 14,
   "metadata": {},
   "outputs": [
    {
     "data": {
      "image/png": "[encoded data removed]",
      "text/latex": [
       "$$- x \\left(x - 1\\right) \\left(x + 3\\right)$$"
      ],
      "text/plain": [
       "-x⋅(x - 1)⋅(x + 3)"
      ]
     },
     "execution_count": 14,
     "metadata": {},
     "output_type": "execute_result"
    }
   ],
   "source": [
    "caley_bezout(f, g, y).det().factor()"
   ]
  },
  {
   "cell_type": "markdown",
   "metadata": {},
   "source": [
    "Dixon's Resultant\n",
    "-----------------\n",
    "\n",
    "Dixon (1908) showed how to extend this formulation to $n + 1$ polynomials in $n$ variables."
   ]
  },
  {
   "cell_type": "markdown",
   "metadata": {},
   "source": [
    "In a similar manner but this time,\n",
    "\n",
    "$$\\left|\\begin{matrix}\n",
    "p(x, y) & q(x, y) & h(x, y) \\cr\n",
    "p(a, y) & q(a, y) & h(b, y) \\cr\n",
    "p(a, b) & q(a, b) & h(a, b)\n",
    "\\end{matrix}%\n",
    "\\right|= \\Delta(x, y, \\alpha, \\beta)$$"
   ]
  },
  {
   "cell_type": "markdown",
   "metadata": {},
   "source": [
    "Thus, we have the polynomial:\n",
    "\n",
    "$$ \\delta(x,y, \\alpha, \\beta) = \\frac{\\Delta(x, y, \\alpha, \\beta)}{(x-\\alpha)(y - \\beta)}$$"
   ]
  },
  {
   "cell_type": "code",
   "execution_count": 15,
   "metadata": {
    "collapsed": true
   },
   "outputs": [],
   "source": [
    "from sympy.polys.monomials import itermonomials\n",
    "import numpy as np\n",
    "import functools"
   ]
  },
  {
   "cell_type": "markdown",
   "metadata": {},
   "source": [
    "**Example of Dixon for n=2, m=3 case.**"
   ]
  },
  {
   "cell_type": "code",
   "execution_count": 16,
   "metadata": {
    "collapsed": true
   },
   "outputs": [],
   "source": [
    "a_1, a_2, b_1, b_2, u_1, u_2, u_3 = sym.symbols('a_1, a_2, b_1, b_2, u_1, u_2, u_3')"
   ]
  },
  {
   "cell_type": "code",
   "execution_count": 17,
   "metadata": {
    "collapsed": true
   },
   "outputs": [],
   "source": [
    "a, b = sym.symbols('alpha, beta')"
   ]
  },
  {
   "cell_type": "code",
   "execution_count": 18,
   "metadata": {
    "collapsed": true
   },
   "outputs": [],
   "source": [
    "p = sym.lambdify((x, y), a_1 * x ** 2 * y ** 2 + a_2 * x ** 2)\n",
    "q = sym.lambdify((x, y), b_1 * x ** 2 * y ** 2 + b_2 * y ** 2)\n",
    "h = sym.lambdify((x, y), u_1 * x + u_2 * y + u_3)"
   ]
  },
  {
   "cell_type": "code",
   "execution_count": 19,
   "metadata": {
    "collapsed": true
   },
   "outputs": [],
   "source": [
    "def dixon_polynomial(p, q, h, x, y):\n",
    "    \"\"\"\n",
    "    Returns the Dixon polynomial, \\delta(x, y, \\alpha, \\beta).\n",
    "    \"\"\"\n",
    "    a, b = sym.symbols('alpha, beta')\n",
    "    \n",
    "    matrix = sym.Matrix([[p(x, y), q(x, y), h(x, y)], \n",
    "                         [p(a, y), q(a, y), h(a, y)],\n",
    "                         [p(a, b), q(a, b), h(a, b)]])\n",
    "    return sym.Poly((matrix.det() / ((x - a) * (y - b))).factor(), a, b)"
   ]
  },
  {
   "cell_type": "code",
   "execution_count": 20,
   "metadata": {
    "collapsed": true
   },
   "outputs": [],
   "source": [
    "def get_coeff_of_alpha(polynomial):\n",
    "    \"\"\"\n",
    "    Returns the coefficients of terms x, y in Dixon's polynomial\n",
    "    when viewed as a polynomial of \\alpha.\n",
    "    \"\"\"\n",
    "    coeffs = []\n",
    "    for a_p, b_p in polynomial.monoms():\n",
    "        mono = a ** (a_p) * b ** (b_p)\n",
    "        coeffs.append(polynomial.coeff_monomial(mono))\n",
    "        \n",
    "    return coeffs"
   ]
  },
  {
   "cell_type": "code",
   "execution_count": 21,
   "metadata": {
    "collapsed": true
   },
   "outputs": [],
   "source": [
    "def construct_dixon_matrix(coeffs, x, y, size):\n",
    "    \"\"\"\n",
    "    Construct the Dixon matrix from the coefficients of polynomial \\alpha. Each coefficient is\n",
    "    viewed as a polynomial of x and y.\n",
    "    \"\"\"\n",
    "    \n",
    "    mononomials = list(itermonomials([x, y], 4))\n",
    "    array = np.array([[sym.Poly(c, x, y).coeff_monomial(m) for m in mononomials] for c in coeffs])\n",
    "    \n",
    "    return sym.Matrix(np.delete(array, np.nonzero((array==0).sum(axis=0) == size), axis=1))"
   ]
  },
  {
   "cell_type": "code",
   "execution_count": 22,
   "metadata": {
    "collapsed": true
   },
   "outputs": [],
   "source": [
    "def dixon_matrix(p, q, h, x, y):\n",
    "    \"\"\"\n",
    "    Returns the Dixon matrix.\n",
    "    \"\"\"\n",
    "    \n",
    "    polynomial = dixon_polynomial(p, q, h, x, y)\n",
    "     \n",
    "    size = len(polynomial.monoms())\n",
    "    \n",
    "    coeffs = get_coeff_of_alpha(polynomial)\n",
    "    matrix = construct_dixon_matrix(coeffs, x, y, size)\n",
    "    \n",
    "    return matrix"
   ]
  },
  {
   "cell_type": "code",
   "execution_count": 23,
   "metadata": {},
   "outputs": [
    {
     "data": {
      "image/png": "[encoded data removed]",
      "text/latex": [
       "$$\\left[\\begin{matrix}a_{2} b_{1} u_{3} & 0 & 0 & 0 & 0 & a_{2} b_{1} u_{1} & a_{2} b_{1} u_{2} & 0\\\\0 & 0 & 0 & a_{2} b_{1} u_{1} & 0 & 0 & a_{2} b_{1} u_{3} & a_{2} b_{1} u_{2}\\\\0 & 0 & 0 & a_{2} b_{1} u_{2} & 0 & a_{2} b_{1} u_{3} & 0 & a_{1} b_{2} u_{1}\\\\0 & a_{2} b_{1} u_{2} & 0 & a_{2} b_{1} u_{3} & a_{1} b_{2} u_{1} & 0 & 0 & 0\\\\a_{2} b_{2} u_{3} & a_{1} b_{2} u_{1} & 0 & 0 & a_{1} b_{2} u_{2} & a_{2} b_{2} u_{1} & a_{2} b_{2} u_{2} & a_{1} b_{2} u_{3}\\\\0 & 0 & a_{1} b_{2} u_{1} & a_{2} b_{2} u_{1} & a_{1} b_{2} u_{3} & 0 & a_{2} b_{2} u_{3} & 0\\\\0 & a_{1} b_{2} u_{3} & a_{1} b_{2} u_{2} & a_{2} b_{2} u_{2} & 0 & a_{2} b_{2} u_{3} & 0 & 0\\\\0 & 0 & a_{1} b_{2} u_{3} & a_{2} b_{2} u_{3} & 0 & 0 & 0 & 0\\end{matrix}\\right]$$"
      ],
      "text/plain": [
       "⎡a₂⋅b₁⋅u₃     0         0         0         0      a₂⋅b₁⋅u₁  a₂⋅b₁⋅u₂     0   \n",
       "⎢                                                                             \n",
       "⎢   0         0         0      a₂⋅b₁⋅u₁     0         0      a₂⋅b₁⋅u₃  a₂⋅b₁⋅u\n",
       "⎢                                                                             \n",
       "⎢   0         0         0      a₂⋅b₁⋅u₂     0      a₂⋅b₁⋅u₃     0      a₁⋅b₂⋅u\n",
       "⎢                                                                             \n",
       "⎢   0      a₂⋅b₁⋅u₂     0      a₂⋅b₁⋅u₃  a₁⋅b₂⋅u₁     0         0         0   \n",
       "⎢                                                                             \n",
       "⎢a₂⋅b₂⋅u₃  a₁⋅b₂⋅u₁     0         0      a₁⋅b₂⋅u₂  a₂⋅b₂⋅u₁  a₂⋅b₂⋅u₂  a₁⋅b₂⋅u\n",
       "⎢                                                                             \n",
       "⎢   0         0      a₁⋅b₂⋅u₁  a₂⋅b₂⋅u₁  a₁⋅b₂⋅u₃     0      a₂⋅b₂⋅u₃     0   \n",
       "⎢                                                                             \n",
       "⎢   0      a₁⋅b₂⋅u₃  a₁⋅b₂⋅u₂  a₂⋅b₂⋅u₂     0      a₂⋅b₂⋅u₃     0         0   \n",
       "⎢                                                                             \n",
       "⎣   0         0      a₁⋅b₂⋅u₃  a₂⋅b₂⋅u₃     0         0         0         0   \n",
       "\n",
       " ⎤\n",
       " ⎥\n",
       "₂⎥\n",
       " ⎥\n",
       "₁⎥\n",
       " ⎥\n",
       " ⎥\n",
       " ⎥\n",
       "₃⎥\n",
       " ⎥\n",
       " ⎥\n",
       " ⎥\n",
       " ⎥\n",
       " ⎥\n",
       " ⎦"
      ]
     },
     "execution_count": 23,
     "metadata": {},
     "output_type": "execute_result"
    }
   ],
   "source": [
    "matrix = dixon_matrix(p, q, h, x, y)\n",
    "matrix"
   ]
  },
  {
   "cell_type": "code",
   "execution_count": 24,
   "metadata": {},
   "outputs": [
    {
     "data": {
      "image/png": "[encoded data removed]",
      "text/latex": [
       "$$a_{1}^{2} a_{2}^{4} b_{1}^{2} b_{2}^{4} u_{3}^{4} \\left(a_{1}^{2} b_{1}^{2} u_{3}^{4} + 2 a_{1}^{2} b_{1} b_{2} u_{1}^{2} u_{3}^{2} + a_{1}^{2} b_{2}^{2} u_{1}^{4} + 2 a_{1} a_{2} b_{1}^{2} u_{2}^{2} u_{3}^{2} - 2 a_{1} a_{2} b_{1} b_{2} u_{1}^{2} u_{2}^{2} + a_{2}^{2} b_{1}^{2} u_{2}^{4}\\right)$$"
      ],
      "text/plain": [
       "  2   4   2   4   4 ⎛  2   2   4       2         2   2     2   2   4          \n",
       "a₁ ⋅a₂ ⋅b₁ ⋅b₂ ⋅u₃ ⋅⎝a₁ ⋅b₁ ⋅u₃  + 2⋅a₁ ⋅b₁⋅b₂⋅u₁ ⋅u₃  + a₁ ⋅b₂ ⋅u₁  + 2⋅a₁⋅a₂\n",
       "\n",
       "   2   2   2                   2   2     2   2   4⎞\n",
       "⋅b₁ ⋅u₂ ⋅u₃  - 2⋅a₁⋅a₂⋅b₁⋅b₂⋅u₁ ⋅u₂  + a₂ ⋅b₁ ⋅u₂ ⎠"
      ]
     },
     "execution_count": 24,
     "metadata": {},
     "output_type": "execute_result"
    }
   ],
   "source": [
    "matrix.det().factor()"
   ]
  },
  {
   "cell_type": "markdown",
   "metadata": {
    "collapsed": true
   },
   "source": [
    "Dixon's General Case\n",
    "--------------------"
   ]
  },
  {
   "cell_type": "code",
   "execution_count": 60,
   "metadata": {
    "collapsed": true
   },
   "outputs": [],
   "source": [
    "class DixonResultant():\n",
    "    \"\"\"\n",
    "    A class for retrieving the Dixon's resultant of a multivariete system.\n",
    "    \"\"\"\n",
    "    \n",
    "    def __init__(self, polynomials, variables):\n",
    "        \"\"\"\n",
    "        Parameters\n",
    "        ----------          \n",
    "        n: integer\n",
    "            Number of variables\n",
    "        m: integer\n",
    "            Number of ndegree polynomials (n + 1).\n",
    "        variables: list\n",
    "            A list of all n variables\n",
    "        polynomials : list of sympy polynomials\n",
    "            A  list of m ndegree popynomials\n",
    "        degree: integer\n",
    "        \"\"\"\n",
    "        self.polynomials = polynomials\n",
    "        self.variables = variables\n",
    "        \n",
    "        self.n = len(self.variables)\n",
    "        self.m = len(self.polynomials)\n",
    "        \n",
    "        a = sym.IndexedBase(\"alpha\")\n",
    "        self.dummy_variables = [a[i] for i in range(self.n)]\n",
    "        \n",
    "        self.max_degree = self.degree()\n",
    "    \n",
    "    def degree(self):\n",
    "        degree = []\n",
    "        for v in variables:\n",
    "            degree.append(max([sym.Poly(f(*self.variables)).degree(v) for f in self.polynomials]))\n",
    "        return sum(degree)\n",
    "    \n",
    "    def get_dixon_polynomial(self):\n",
    "        \n",
    "        if self.m != (self.n + 1):\n",
    "            raise Exception('Method invalid for given combination.')\n",
    "        \n",
    "        # first row\n",
    "        rows = [[poly(*self.variables) for poly in self.polynomials]]\n",
    "        \n",
    "        temp = [*self.variables]\n",
    "        iterator = iter(self.dummy_variables)\n",
    "        \n",
    "        for idx in (idx for idx in range(self.n)):\n",
    "            temp[idx] = next(iterator)\n",
    "            rows.append([poly(*temp) for poly in self.polynomials])\n",
    " \n",
    "        matrix = sym.Matrix(rows)\n",
    "        product_of_differences = functools.reduce(lambda x, y: x * y, \n",
    "                                                  [a - b for a, b in zip(self.variables, self.dummy_variables)])\n",
    "        return sym.Poly((matrix.det() / product_of_differences).factor(), *self.dummy_variables)\n",
    "\n",
    "    \n",
    "    def get_coeff_of_alpha(self, polynomial):\n",
    "        \"\"\"\n",
    "        Returns the coefficients of terms x_i...x_n in \\delta when viewed as a polynomial\n",
    "        of \\alpha_i...\\alpha_n.\n",
    "        \"\"\"\n",
    "        coeffs = []\n",
    "        for monoms_powers in polynomial.monoms():\n",
    "            mono = functools.reduce(lambda i, j: i * j,\n",
    "                                    [a ** b for a, b in zip(self.dummy_variables, monoms_powers)])\n",
    "            coeffs.append(polynomial.coeff_monomial(mono))\n",
    "\n",
    "        return coeffs\n",
    "    \n",
    "    def dixon_matrix(self, coeffs, size):\n",
    "        \"\"\"\n",
    "        Construct the Dixon matrix from the coefficients of polynomial \\alpha. Each coefficient is\n",
    "        viewed as a polynomial of x and y.\n",
    "        \"\"\"  \n",
    "        mononomials = list(itermonomials(variables, self.max_degree))\n",
    "        array = np.array([[sym.Poly(c, *variables).coeff_monomial(m) for m in mononomials] for c in coeffs])\n",
    "    \n",
    "        return sym.Matrix(np.delete(array, np.nonzero((array==0).sum(axis=0) == size), axis=1))"
   ]
  },
  {
   "cell_type": "code",
   "execution_count": 61,
   "metadata": {
    "collapsed": true
   },
   "outputs": [],
   "source": [
    "polynomials = [p, q, h]"
   ]
  },
  {
   "cell_type": "code",
   "execution_count": 62,
   "metadata": {
    "collapsed": true
   },
   "outputs": [],
   "source": [
    "variables = [x, y]"
   ]
  },
  {
   "cell_type": "code",
   "execution_count": 63,
   "metadata": {},
   "outputs": [],
   "source": [
    "D = DixonResultant(polynomials, variables)\n",
    "poly = D.get_dixon_polynomial()"
   ]
  },
  {
   "cell_type": "code",
   "execution_count": 64,
   "metadata": {
    "collapsed": true
   },
   "outputs": [],
   "source": [
    "coeff = D.get_coeff_of_alpha(poly)\n",
    "size = len(poly.monoms())"
   ]
  },
  {
   "cell_type": "code",
   "execution_count": 65,
   "metadata": {},
   "outputs": [
    {
     "data": {
      "image/png": "[encoded data removed]",
      "text/latex": [
       "$$a_{1}^{2} a_{2}^{4} b_{1}^{2} b_{2}^{4} u_{3}^{4} \\left(a_{1}^{2} b_{1}^{2} u_{3}^{4} + 2 a_{1}^{2} b_{1} b_{2} u_{1}^{2} u_{3}^{2} + a_{1}^{2} b_{2}^{2} u_{1}^{4} + 2 a_{1} a_{2} b_{1}^{2} u_{2}^{2} u_{3}^{2} - 2 a_{1} a_{2} b_{1} b_{2} u_{1}^{2} u_{2}^{2} + a_{2}^{2} b_{1}^{2} u_{2}^{4}\\right)$$"
      ],
      "text/plain": [
       "  2   4   2   4   4 ⎛  2   2   4       2         2   2     2   2   4          \n",
       "a₁ ⋅a₂ ⋅b₁ ⋅b₂ ⋅u₃ ⋅⎝a₁ ⋅b₁ ⋅u₃  + 2⋅a₁ ⋅b₁⋅b₂⋅u₁ ⋅u₃  + a₁ ⋅b₂ ⋅u₁  + 2⋅a₁⋅a₂\n",
       "\n",
       "   2   2   2                   2   2     2   2   4⎞\n",
       "⋅b₁ ⋅u₂ ⋅u₃  - 2⋅a₁⋅a₂⋅b₁⋅b₂⋅u₁ ⋅u₂  + a₂ ⋅b₁ ⋅u₂ ⎠"
      ]
     },
     "execution_count": 65,
     "metadata": {},
     "output_type": "execute_result"
    }
   ],
   "source": [
    "D.dixon_matrix(coeff, size).det().factor()"
   ]
  },
  {
   "cell_type": "markdown",
   "metadata": {},
   "source": [
    "Example 2\n",
    "---------"
   ]
  },
  {
   "cell_type": "code",
   "execution_count": 32,
   "metadata": {
    "collapsed": true
   },
   "outputs": [],
   "source": [
    "a, b, c = sym.symbols('a, b, c')"
   ]
  },
  {
   "cell_type": "code",
   "execution_count": 33,
   "metadata": {},
   "outputs": [
    {
     "data": {
      "image/png": "[encoded data removed]",
      "text/latex": [
       "$$4 a b + c y \\left(a + b\\right) + x \\left(4 a - 4 b\\right)$$"
      ],
      "text/plain": [
       "4⋅a⋅b + c⋅y⋅(a + b) + x⋅(4⋅a - 4⋅b)"
      ]
     },
     "execution_count": 33,
     "metadata": {},
     "output_type": "execute_result"
    }
   ],
   "source": [
    "p_1 = sym.lambdify((x, y), a * x ** 2 + b * x * y + (b + c - a) * x + a * y + 3 * (c - 1))\n",
    "p_2 = sym.lambdify((x, y), 2 * a ** 2 * x ** 2 + 2 * a * b * x * y + a * b * y + b ** 3)\n",
    "p_3 = sym.lambdify((x, y), 4 * (a - b) * x + c * (a + b) * y + 4 * a * b)\n",
    "p_3(x, y)"
   ]
  },
  {
   "cell_type": "code",
   "execution_count": 34,
   "metadata": {},
   "outputs": [],
   "source": [
    "polynomials = [p_1, p_2, p_3]\n",
    "\n",
    "example_two = DixonResultant(polynomials, [x, y])"
   ]
  },
  {
   "cell_type": "code",
   "execution_count": 35,
   "metadata": {
    "collapsed": true
   },
   "outputs": [],
   "source": [
    "poly = example_two.get_dixon_polynomial()"
   ]
  },
  {
   "cell_type": "code",
   "execution_count": 36,
   "metadata": {
    "collapsed": true
   },
   "outputs": [],
   "source": [
    "coeff = D.get_coeff_of_alpha(poly)"
   ]
  },
  {
   "cell_type": "code",
   "execution_count": 37,
   "metadata": {
    "collapsed": true
   },
   "outputs": [],
   "source": [
    "size = len(poly.monoms())"
   ]
  },
  {
   "cell_type": "code",
   "execution_count": 38,
   "metadata": {},
   "outputs": [
    {
     "data": {
      "image/png": "[encoded data removed]",
      "text/latex": [
       "$$\\left[\\begin{matrix}- 8 a^{4} b - 4 a^{3} b^{2} + 6 a^{3} c^{2} - 6 a^{3} c - a^{2} b^{3} c + 8 a^{2} b^{3} + 8 a^{2} b^{2} c + 6 a^{2} b c^{2} - 30 a^{2} b c + 24 a^{2} b - a b^{4} c + 4 a b^{4} + 24 a b^{2} c - 24 a b^{2} - 4 b^{5} & - 2 a^{4} c - 8 a^{4} + 12 a^{3} b + 2 a^{3} c^{2} + 2 a^{2} b^{2} c - 4 a^{2} b^{2} + 2 a^{2} b c^{2} & - 2 a^{3} b c - 8 a^{3} b + 12 a^{2} b^{2} + 2 a^{2} b c^{2} + 2 a b^{3} c - 4 a b^{3} + 2 a b^{2} c^{2}\\\\- 4 a^{3} b^{2} + a^{2} b^{3} c + 8 a^{2} b^{3} + 4 a^{2} b^{2} c - 12 a^{2} b c + 12 a^{2} b - 4 a b^{4} - a b^{3} c^{2} + 12 a b^{2} c - 12 a b^{2} - b^{5} c - b^{4} c^{2} & - 8 a^{4} b + 4 a^{3} b^{2} + 6 a^{3} c^{2} - 6 a^{3} c - a^{2} b^{3} c + 6 a^{2} b c^{2} - 6 a^{2} b c - a b^{4} c & - 8 a^{3} b^{2} + 4 a^{2} b^{3} + 6 a^{2} b c^{2} - 6 a^{2} b c - a b^{4} c + 6 a b^{2} c^{2} - 6 a b^{2} c - b^{5} c\\end{matrix}\\right]$$"
      ],
      "text/plain": [
       "⎡     4        3  2      3  2      3      2  3        2  3      2  2        2 \n",
       "⎢- 8⋅a ⋅b - 4⋅a ⋅b  + 6⋅a ⋅c  - 6⋅a ⋅c - a ⋅b ⋅c + 8⋅a ⋅b  + 8⋅a ⋅b ⋅c + 6⋅a ⋅\n",
       "⎢                                                                             \n",
       "⎢                    3  2    2  3        2  3      2  2         2           2 \n",
       "⎣               - 4⋅a ⋅b  + a ⋅b ⋅c + 8⋅a ⋅b  + 4⋅a ⋅b ⋅c - 12⋅a ⋅b⋅c + 12⋅a ⋅\n",
       "\n",
       "   2       2           2        4          4         2           2      5     \n",
       "b⋅c  - 30⋅a ⋅b⋅c + 24⋅a ⋅b - a⋅b ⋅c + 4⋅a⋅b  + 24⋅a⋅b ⋅c - 24⋅a⋅b  - 4⋅b      \n",
       "                                                                              \n",
       "         4      3  2         2           2    5      4  2                     \n",
       "b - 4⋅a⋅b  - a⋅b ⋅c  + 12⋅a⋅b ⋅c - 12⋅a⋅b  - b ⋅c - b ⋅c                   - 8\n",
       "\n",
       "       4        4       3        3  2      2  2        2  2      2    2       \n",
       "  - 2⋅a ⋅c - 8⋅a  + 12⋅a ⋅b + 2⋅a ⋅c  + 2⋅a ⋅b ⋅c - 4⋅a ⋅b  + 2⋅a ⋅b⋅c        \n",
       "                                                                              \n",
       "  4        3  2      3  2      3      2  3        2    2      2          4    \n",
       "⋅a ⋅b + 4⋅a ⋅b  + 6⋅a ⋅c  - 6⋅a ⋅c - a ⋅b ⋅c + 6⋅a ⋅b⋅c  - 6⋅a ⋅b⋅c - a⋅b ⋅c  \n",
       "\n",
       "        3          3         2  2      2    2        3          3        2  2 \n",
       "   - 2⋅a ⋅b⋅c - 8⋅a ⋅b + 12⋅a ⋅b  + 2⋅a ⋅b⋅c  + 2⋅a⋅b ⋅c - 4⋅a⋅b  + 2⋅a⋅b ⋅c  \n",
       "                                                                              \n",
       "     3  2      2  3      2    2      2          4          2  2        2      \n",
       "- 8⋅a ⋅b  + 4⋅a ⋅b  + 6⋅a ⋅b⋅c  - 6⋅a ⋅b⋅c - a⋅b ⋅c + 6⋅a⋅b ⋅c  - 6⋅a⋅b ⋅c - b\n",
       "\n",
       "   ⎤\n",
       "   ⎥\n",
       "   ⎥\n",
       "5  ⎥\n",
       " ⋅c⎦"
      ]
     },
     "execution_count": 38,
     "metadata": {},
     "output_type": "execute_result"
    }
   ],
   "source": [
    "matrix = example_two.dixon_matrix(coeff, size)\n",
    "matrix"
   ]
  }
 ],
 "metadata": {
  "anaconda-cloud": {},
  "kernelspec": {
   "display_name": "Python [conda env:resultant]",
   "language": "python",
   "name": "conda-env-resultant-py"
  },
  "language_info": {
   "codemirror_mode": {
    "name": "ipython",
    "version": 3
   },
   "file_extension": ".py",
   "mimetype": "text/x-python",
   "name": "python",
   "nbconvert_exporter": "python",
   "pygments_lexer": "ipython3",
   "version": "3.6.2"
  }
 },
 "nbformat": 4,
 "nbformat_minor": 2
}
