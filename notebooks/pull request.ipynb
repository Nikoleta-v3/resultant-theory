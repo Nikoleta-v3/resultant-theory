{
 "cells": [
  {
   "cell_type": "code",
   "execution_count": 1,
   "metadata": {
    "collapsed": true
   },
   "outputs": [],
   "source": [
    "import sympy\n",
    "\n",
    "sympy.init_printing()\n",
    "\n",
    "from sympy.polys.multivariate_resultants import DixonResultant"
   ]
  },
  {
   "cell_type": "code",
   "execution_count": 2,
   "metadata": {
    "collapsed": true
   },
   "outputs": [],
   "source": [
    "from sympy.polys.polytools import poly_from_expr"
   ]
  },
  {
   "cell_type": "code",
   "execution_count": 5,
   "metadata": {
    "collapsed": true
   },
   "outputs": [],
   "source": [
    "a = sympy.symbols('alpha:3')\n",
    "x = sympy.symbols('x:3')"
   ]
  },
  {
   "cell_type": "code",
   "execution_count": 8,
   "metadata": {},
   "outputs": [
    {
     "data": {
      "image/png": "[encoded data removed]",
      "text/latex": [
       "$$\\left ( x_{0}, \\quad x_{1}, \\quad x_{2}\\right )$$"
      ],
      "text/plain": [
       "(x₀, x₁, x₂)"
      ]
     },
     "execution_count": 8,
     "metadata": {},
     "output_type": "execute_result"
    }
   ],
   "source": [
    "variables = x\n",
    "variables"
   ]
  },
  {
   "cell_type": "code",
   "execution_count": 9,
   "metadata": {},
   "outputs": [
    {
     "data": {
      "image/png": "[encoded data removed]",
      "text/latex": [
       "$$\\left ( \\alpha_{0}, \\quad \\alpha_{1}, \\quad \\alpha_{2}\\right )$$"
      ],
      "text/plain": [
       "(α₀, α₁, α₂)"
      ]
     },
     "execution_count": 9,
     "metadata": {},
     "output_type": "execute_result"
    }
   ],
   "source": [
    "dummy_variables = a\n",
    "dummy_variables"
   ]
  },
  {
   "cell_type": "code",
   "execution_count": 21,
   "metadata": {},
   "outputs": [
    {
     "name": "stdout",
     "output_type": "stream",
     "text": [
      "[alpha0, x1, x2]\n",
      "[alpha0, alpha1, x2]\n",
      "[alpha0, alpha1, alpha2]\n"
     ]
    }
   ],
   "source": [
    "temp = list(variables)\n",
    "#iterator = iter(dummy_variables)\n",
    "\n",
    "for idx in range(3):\n",
    "    temp[idx] = dummy_variables[idx]\n",
    "    print(temp)"
   ]
  },
  {
   "cell_type": "code",
   "execution_count": 7,
   "metadata": {
    "collapsed": true
   },
   "outputs": [],
   "source": [
    "a = sympy.IndexedBase(\"alpha\")"
   ]
  },
  {
   "cell_type": "code",
   "execution_count": 9,
   "metadata": {
    "collapsed": true
   },
   "outputs": [],
   "source": [
    "dummy_variables = [a[i] for i in range(5)]"
   ]
  },
  {
   "cell_type": "code",
   "execution_count": 10,
   "metadata": {},
   "outputs": [
    {
     "data": {
      "image/png": "[encoded data removed]",
      "text/latex": [
       "$$\\alpha_{0}$$"
      ],
      "text/plain": [
       "alpha[0]"
      ]
     },
     "execution_count": 10,
     "metadata": {},
     "output_type": "execute_result"
    }
   ],
   "source": [
    "dummy_variables[0]"
   ]
  },
  {
   "cell_type": "code",
   "execution_count": 3,
   "metadata": {
    "collapsed": true
   },
   "outputs": [],
   "source": [
    "x, y, z, k = sympy.symbols('x, y, z, k')"
   ]
  },
  {
   "cell_type": "code",
   "execution_count": 4,
   "metadata": {
    "collapsed": true
   },
   "outputs": [],
   "source": [
    "p = x + y\n",
    "q = x ** 2 + y **3\n",
    "h = x ** 2 + y"
   ]
  },
  {
   "cell_type": "code",
   "execution_count": 5,
   "metadata": {},
   "outputs": [
    {
     "data": {
      "image/png": "[encoded data removed]",
      "text/latex": [
       "$$\\operatorname{Poly}{\\left( x + y, x, z, domain=\\mathbb{Z}\\left[y\\right] \\right)}$$"
      ],
      "text/plain": [
       "Poly(x + y, x, z, domain='ZZ[y]')"
      ]
     },
     "execution_count": 5,
     "metadata": {},
     "output_type": "execute_result"
    }
   ],
   "source": [
    "poly_from_expr(p, x, z)[0]"
   ]
  },
  {
   "cell_type": "code",
   "execution_count": 6,
   "metadata": {
    "collapsed": true
   },
   "outputs": [],
   "source": [
    "dixon = DixonResultant([p, q, h], [x, y])"
   ]
  },
  {
   "cell_type": "code",
   "execution_count": 7,
   "metadata": {},
   "outputs": [
    {
     "data": {
      "image/png": "[encoded data removed]",
      "text/latex": [
       "$$\\left [ 1, \\quad 2, \\quad 2\\right ]$$"
      ],
      "text/plain": [
       "[1, 2, 2]"
      ]
     },
     "execution_count": 7,
     "metadata": {},
     "output_type": "execute_result"
    }
   ],
   "source": [
    "dixon.get_max_degrees()"
   ]
  },
  {
   "cell_type": "code",
   "execution_count": 9,
   "metadata": {},
   "outputs": [
    {
     "data": {
      "image/png": "[encoded data removed]",
      "text/latex": [
       "$$\\operatorname{Poly}{\\left( \\left(- x - y\\right) \\alpha_{0}\\alpha_{1}^{2} + \\left(- x y - y^{2}\\right) \\alpha_{0}\\alpha_{1} + \\left(- x y^{2} + x\\right) \\alpha_{0} + \\left(- x y + y\\right) \\alpha_{1}^{2} + \\left(- x y^{2} + y^{2}\\right) \\alpha_{1}, \\alpha_{0}, \\alpha_{1}, domain=\\mathbb{Z}\\left[x, y\\right] \\right)}$$"
      ],
      "text/plain": [
       "Poly((-x - y)*alpha[0]*alpha[1]**2 + (-x*y - y**2)*alpha[0]*alpha[1] + (-x*y**\n",
       "2 + x)*alpha[0] + (-x*y + y)*alpha[1]**2 + (-x*y**2 + y**2)*alpha[1], alpha[0]\n",
       ", alpha[1], domain='ZZ[x,y]')"
      ]
     },
     "execution_count": 9,
     "metadata": {},
     "output_type": "execute_result"
    }
   ],
   "source": [
    "polynomial = dixon.get_dixon_polynomial()\n",
    "polynomial"
   ]
  },
  {
   "cell_type": "code",
   "execution_count": 10,
   "metadata": {},
   "outputs": [
    {
     "data": {
      "image/png": "[encoded data removed]",
      "text/latex": [
       "$$\\left [ - x - y, \\quad - x y - y^{2}, \\quad - x y^{2} + x, \\quad - x y + y, \\quad - x y^{2} + y^{2}\\right ]$$"
      ],
      "text/plain": [
       "⎡                2       2                     2    2⎤\n",
       "⎣-x - y, -x⋅y - y , - x⋅y  + x, -x⋅y + y, - x⋅y  + y ⎦"
      ]
     },
     "execution_count": 10,
     "metadata": {},
     "output_type": "execute_result"
    }
   ],
   "source": [
    "dixon.get_coefficients_of_alpha(polynomial)"
   ]
  },
  {
   "cell_type": "code",
   "execution_count": 11,
   "metadata": {},
   "outputs": [
    {
     "data": {
      "image/png": "[encoded data removed]",
      "text/latex": [
       "$$\\left [ - x - y, \\quad - x y - y^{2}, \\quad - x y^{2} + x, \\quad - x y + y, \\quad - x y^{2} + y^{2}\\right ]$$"
      ],
      "text/plain": [
       "⎡                2       2                     2    2⎤\n",
       "⎣-x - y, -x⋅y - y , - x⋅y  + x, -x⋅y + y, - x⋅y  + y ⎦"
      ]
     },
     "execution_count": 11,
     "metadata": {},
     "output_type": "execute_result"
    }
   ],
   "source": [
    "polynomial.coeffs()"
   ]
  },
  {
   "cell_type": "code",
   "execution_count": 17,
   "metadata": {},
   "outputs": [
    {
     "data": {
      "image/png": "[encoded data removed]",
      "text/latex": [
       "$$4$$"
      ],
      "text/plain": [
       "4"
      ]
     },
     "execution_count": 17,
     "metadata": {},
     "output_type": "execute_result"
    }
   ],
   "source": [
    "p.subs({x:2, y:2})"
   ]
  },
  {
   "cell_type": "code",
   "execution_count": 18,
   "metadata": {},
   "outputs": [
    {
     "data": {
      "image/png": "[encoded data removed]",
      "text/latex": [
       "$$\\left \\{ 0 : 1, \\quad 1 : 2\\right \\}$$"
      ],
      "text/plain": [
       "{0: 1, 1: 2}"
      ]
     },
     "execution_count": 18,
     "metadata": {},
     "output_type": "execute_result"
    }
   ],
   "source": [
    "{i: i +1 for i in range(2)}"
   ]
  },
  {
   "cell_type": "code",
   "execution_count": 23,
   "metadata": {
    "collapsed": true
   },
   "outputs": [],
   "source": [
    "temp = [x, y]\n",
    "iterator = iter(z, k)"
   ]
  },
  {
   "cell_type": "code",
   "execution_count": 25,
   "metadata": {},
   "outputs": [
    {
     "name": "stdout",
     "output_type": "stream",
     "text": [
      "[z(), y]\n",
      "[z(), z()]\n"
     ]
    }
   ],
   "source": [
    "for idx in range(2):\n",
    "    temp[idx] = next(iterator)\n",
    "    print(temp)"
   ]
  },
  {
   "cell_type": "code",
   "execution_count": 22,
   "metadata": {},
   "outputs": [
    {
     "data": {
      "image/png": "[encoded data removed]",
      "text/latex": [
       "$$\\left [ z{\\left ( \\right )}, \\quad z{\\left ( \\right )}\\right ]$$"
      ],
      "text/plain": [
       "[z(), z()]"
      ]
     },
     "execution_count": 22,
     "metadata": {},
     "output_type": "execute_result"
    }
   ],
   "source": [
    "temp"
   ]
  },
  {
   "cell_type": "code",
   "execution_count": null,
   "metadata": {
    "collapsed": true
   },
   "outputs": [],
   "source": []
  }
 ],
 "metadata": {
  "anaconda-cloud": {},
  "kernelspec": {
   "display_name": "Python [conda env:resultant]",
   "language": "python",
   "name": "conda-env-resultant-py"
  },
  "language_info": {
   "codemirror_mode": {
    "name": "ipython",
    "version": 3
   },
   "file_extension": ".py",
   "mimetype": "text/x-python",
   "name": "python",
   "nbconvert_exporter": "python",
   "pygments_lexer": "ipython3",
   "version": "3.6.2"
  }
 },
 "nbformat": 4,
 "nbformat_minor": 2
}
