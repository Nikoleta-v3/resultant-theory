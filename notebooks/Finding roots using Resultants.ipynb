{
 "cells": [
  {
   "cell_type": "code",
   "execution_count": 1,
   "metadata": {
    "collapsed": true
   },
   "outputs": [],
   "source": [
    "import sympy as sym\n",
    "sym.init_printing()"
   ]
  },
  {
   "cell_type": "code",
   "execution_count": 2,
   "metadata": {},
   "outputs": [],
   "source": [
    "import imp\n",
    "macaulay = imp.load_source('macaulay', '../src/macaulay.py')"
   ]
  },
  {
   "cell_type": "code",
   "execution_count": 3,
   "metadata": {
    "collapsed": true
   },
   "outputs": [],
   "source": [
    "x, y, z = sym.symbols('x, y, z')"
   ]
  },
  {
   "cell_type": "markdown",
   "metadata": {},
   "source": [
    "# The $U$- resultant."
   ]
  },
  {
   "cell_type": "markdown",
   "metadata": {},
   "source": [
    "**Simple Numerical Example from:** http://isc.tamu.edu/resources/preprints/1996/1996-02.pdf."
   ]
  },
  {
   "cell_type": "markdown",
   "metadata": {},
   "source": [
    "The $u$ resultant introduces a new variable and polynomial to the system. Thus now we have $n + 1$\n",
    "polynomials over $n + 1$ variables.\n",
    "\n",
    "Consider the following example:\n",
    "\n",
    "$$f_1 = y - 3x + 5$$\n",
    "$$ f_2 = x ^ 2 + y ^ 2 - 5$$\n",
    "\n",
    "These is now written as:\n",
    "\n",
    "$$ f_1 = y - 3x +  5 z$$\n",
    "$$ f_2 = x ^ 2 + y ^ 2 - 5z ^2$$\n",
    "$$ U = u_1x + u_2y + u_3z$$\n",
    "\n",
    "We then calculate the resultant using the Macaulay formulation."
   ]
  },
  {
   "cell_type": "code",
   "execution_count": 4,
   "metadata": {
    "collapsed": true
   },
   "outputs": [],
   "source": [
    "a_1, a_2, b_1, b_2, c_1, c_2 = sym.symbols('a_1, a_2, b_1, b_2, c_1, c_2')"
   ]
  },
  {
   "cell_type": "code",
   "execution_count": 5,
   "metadata": {
    "collapsed": true
   },
   "outputs": [],
   "source": [
    "u_1, u_2, u_3 = sym.symbols('u_1, u_2, u_3')"
   ]
  },
  {
   "cell_type": "code",
   "execution_count": 6,
   "metadata": {
    "collapsed": true
   },
   "outputs": [],
   "source": [
    "p = sym.lambdify((x, y, z), a_1 * x + b_1 * y + c_1 * z)\n",
    "q = sym.lambdify((x, y, z), a_2 * x ** 2 + b_2 * y ** 2 + c_2 * z ** 2)\n",
    "h = sym.lambdify((x, y, z), u_1 * x + u_2 * y + u_3 * z)"
   ]
  },
  {
   "cell_type": "code",
   "execution_count": 7,
   "metadata": {
    "collapsed": true
   },
   "outputs": [],
   "source": [
    "mac = macaulay.MacaulayResultant(polynomials=[p, q, h], variables=[x, y, z])"
   ]
  },
  {
   "cell_type": "code",
   "execution_count": 8,
   "metadata": {
    "collapsed": true
   },
   "outputs": [],
   "source": [
    "mac.get_monomials_set()"
   ]
  },
  {
   "cell_type": "code",
   "execution_count": 9,
   "metadata": {},
   "outputs": [
    {
     "data": {
      "image/png": "[encoded data removed]",
      "text/latex": [
       "$$\\left[\\begin{matrix}a_{1} & b_{1} & c_{1} & 0 & 0 & 0\\\\0 & a_{1} & 0 & b_{1} & c_{1} & 0\\\\0 & 0 & a_{1} & 0 & b_{1} & c_{1}\\\\a_{2} & 0 & 0 & b_{2} & 0 & c_{2}\\\\0 & u_{1} & 0 & u_{2} & u_{3} & 0\\\\0 & 0 & u_{1} & 0 & u_{2} & u_{3}\\end{matrix}\\right]$$"
      ],
      "text/plain": [
       "⎡a₁  b₁  c₁  0   0   0 ⎤\n",
       "⎢                      ⎥\n",
       "⎢0   a₁  0   b₁  c₁  0 ⎥\n",
       "⎢                      ⎥\n",
       "⎢0   0   a₁  0   b₁  c₁⎥\n",
       "⎢                      ⎥\n",
       "⎢a₂  0   0   b₂  0   c₂⎥\n",
       "⎢                      ⎥\n",
       "⎢0   u₁  0   u₂  u₃  0 ⎥\n",
       "⎢                      ⎥\n",
       "⎣0   0   u₁  0   u₂  u₃⎦"
      ]
     },
     "execution_count": 9,
     "metadata": {},
     "output_type": "execute_result"
    }
   ],
   "source": [
    "matrix = mac.get_matrix()\n",
    "matrix"
   ]
  },
  {
   "cell_type": "code",
   "execution_count": 12,
   "metadata": {},
   "outputs": [
    {
     "data": {
      "image/png": "[encoded data removed]",
      "text/latex": [
       "$$\\left [ 1, \\quad 2, \\quad 1\\right ]$$"
      ],
      "text/plain": [
       "[1, 2, 1]"
      ]
     },
     "execution_count": 12,
     "metadata": {},
     "output_type": "execute_result"
    }
   ],
   "source": [
    "mac.degrees"
   ]
  },
  {
   "cell_type": "code",
   "execution_count": 13,
   "metadata": {},
   "outputs": [
    {
     "data": {
      "image/png": "[encoded data removed]",
      "text/latex": [
       "$$\\left ( 6, \\quad 6\\right )$$"
      ],
      "text/plain": [
       "(6, 6)"
      ]
     },
     "execution_count": 13,
     "metadata": {},
     "output_type": "execute_result"
    }
   ],
   "source": [
    "matrix.shape"
   ]
  },
  {
   "cell_type": "code",
   "execution_count": 14,
   "metadata": {},
   "outputs": [
    {
     "data": {
      "image/png": "[encoded data removed]",
      "text/latex": [
       "$$\\left[\\begin{matrix}a_{1}\\end{matrix}\\right]$$"
      ],
      "text/plain": [
       "[a₁]"
      ]
     },
     "execution_count": 14,
     "metadata": {},
     "output_type": "execute_result"
    }
   ],
   "source": [
    "submatrix = mac.get_submatrix(matrix)\n",
    "submatrix"
   ]
  },
  {
   "cell_type": "code",
   "execution_count": 15,
   "metadata": {},
   "outputs": [],
   "source": [
    "determinant = sym.lambdify((a_1, a_2, b_1, b_2, c_1, c_2), (matrix.det() / submatrix.det()).factor())"
   ]
  },
  {
   "cell_type": "code",
   "execution_count": 16,
   "metadata": {
    "collapsed": true
   },
   "outputs": [],
   "source": [
    "sol = determinant(-3, 1, 1, 1, 5, -5).factor()"
   ]
  },
  {
   "cell_type": "code",
   "execution_count": 17,
   "metadata": {},
   "outputs": [
    {
     "data": {
      "image/png": "[encoded data removed]",
      "text/latex": [
       "$$10 \\left(u_{1} - 2 u_{2} + u_{3}\\right) \\left(2 u_{1} + u_{2} + u_{3}\\right)$$"
      ],
      "text/plain": [
       "10⋅(u₁ - 2⋅u₂ + u₃)⋅(2⋅u₁ + u₂ + u₃)"
      ]
     },
     "execution_count": 17,
     "metadata": {},
     "output_type": "execute_result"
    }
   ],
   "source": [
    "sol"
   ]
  },
  {
   "cell_type": "markdown",
   "metadata": {},
   "source": [
    "The solutions are given by the coefficients of $u$. More specifically:\n",
    "$$ x = \\frac{\\text{coeff. of } u_1}{\\text{coeff. of } u_3}, y = \\frac{\\text{coeff. of } u_1}{\\text{coeff. of } u_3} $$"
   ]
  },
  {
   "cell_type": "markdown",
   "metadata": {},
   "source": [
    "# The GCP Approach"
   ]
  },
  {
   "cell_type": "markdown",
   "metadata": {},
   "source": [
    "The Generalized Characteristic Polynomial (GCP) is a second way of retrieving the values of the roots.\n",
    "The GCP takes the form of:\n",
    "    \n",
    "$$R = \\frac{det|A -sI|}{det|M -sI|}$$\n",
    "evaluated at $s=0$ after division."
   ]
  },
  {
   "cell_type": "code",
   "execution_count": 18,
   "metadata": {
    "collapsed": true
   },
   "outputs": [],
   "source": [
    "s = sym.symbols('s')"
   ]
  },
  {
   "cell_type": "code",
   "execution_count": 19,
   "metadata": {},
   "outputs": [],
   "source": [
    "As = matrix - sym.eye(6) * s"
   ]
  },
  {
   "cell_type": "code",
   "execution_count": 20,
   "metadata": {
    "collapsed": true
   },
   "outputs": [],
   "source": [
    "Ms = submatrix - sym.eye(submatrix.shape[0]) * s"
   ]
  },
  {
   "cell_type": "code",
   "execution_count": 21,
   "metadata": {},
   "outputs": [],
   "source": [
    "determinant = sym.lambdify((a_1, a_2, b_1, b_2, c_1, c_2), (As.det() / Ms.det()).factor())"
   ]
  },
  {
   "cell_type": "code",
   "execution_count": 22,
   "metadata": {},
   "outputs": [
    {
     "data": {
      "image/png": "[encoded data removed]",
      "text/latex": [
       "$$10 \\left(u_{1} - 2 u_{2} + u_{3}\\right) \\left(2 u_{1} + u_{2} + u_{3}\\right)$$"
      ],
      "text/plain": [
       "10⋅(u₁ - 2⋅u₂ + u₃)⋅(2⋅u₁ + u₂ + u₃)"
      ]
     },
     "execution_count": 22,
     "metadata": {},
     "output_type": "execute_result"
    }
   ],
   "source": [
    "determinant(-3, 1, 1, 1, 5, -5).subs({s:0}).factor()"
   ]
  },
  {
   "cell_type": "markdown",
   "metadata": {},
   "source": [
    "# Numerical examples"
   ]
  },
  {
   "cell_type": "markdown",
   "metadata": {},
   "source": [
    "A very simple numerical example used for proof of concept."
   ]
  },
  {
   "cell_type": "markdown",
   "metadata": {},
   "source": [
    "Initally using the Macaulay formulation we confirm that common roots exist."
   ]
  },
  {
   "cell_type": "code",
   "execution_count": 23,
   "metadata": {
    "collapsed": true
   },
   "outputs": [],
   "source": [
    "a_3, b_3, c_3 = sym.symbols('a_3, b_3, c_3')"
   ]
  },
  {
   "cell_type": "code",
   "execution_count": 24,
   "metadata": {
    "collapsed": true
   },
   "outputs": [],
   "source": [
    "f = sym.lambdify((x, y, z), a_1 * x + b_1 * y + c_1 * z)\n",
    "g = sym.lambdify((x, y, z), a_2 * x ** 2 + b_2 * y ** 2 + c_2 * z)\n",
    "h = sym.lambdify((x, y, z), a_3 * x  + b_3 * y - c_3 * z)"
   ]
  },
  {
   "cell_type": "code",
   "execution_count": 25,
   "metadata": {
    "collapsed": true
   },
   "outputs": [],
   "source": [
    "mac = macaulay.MacaulayResultant(polynomials=[f, g, h], variables=[x, y, z])"
   ]
  },
  {
   "cell_type": "code",
   "execution_count": 26,
   "metadata": {
    "collapsed": true
   },
   "outputs": [],
   "source": [
    "mac.get_monomials_set()"
   ]
  },
  {
   "cell_type": "code",
   "execution_count": 27,
   "metadata": {},
   "outputs": [
    {
     "data": {
      "image/png": "[encoded data removed]",
      "text/latex": [
       "$$\\left [ 1, \\quad 2, \\quad 1\\right ]$$"
      ],
      "text/plain": [
       "[1, 2, 1]"
      ]
     },
     "execution_count": 27,
     "metadata": {},
     "output_type": "execute_result"
    }
   ],
   "source": [
    "mac.degrees"
   ]
  },
  {
   "cell_type": "code",
   "execution_count": 28,
   "metadata": {
    "collapsed": true
   },
   "outputs": [],
   "source": [
    "matrix = mac.get_matrix()"
   ]
  },
  {
   "cell_type": "code",
   "execution_count": 29,
   "metadata": {},
   "outputs": [
    {
     "data": {
      "image/png": "[encoded data removed]",
      "text/latex": [
       "$$0$$"
      ],
      "text/plain": [
       "0"
      ]
     },
     "execution_count": 29,
     "metadata": {},
     "output_type": "execute_result"
    }
   ],
   "source": [
    "matrix.det().subs({a_1: 1, a_2: -1, a_3: 1,\n",
    "                   b_1: 1, b_2: 1, b_3: 1,\n",
    "                   c_1: 1, c_2: 1, c_3: 1})"
   ]
  },
  {
   "cell_type": "code",
   "execution_count": 30,
   "metadata": {
    "collapsed": true
   },
   "outputs": [],
   "source": [
    "submatrix = mac.get_submatrix(matrix)"
   ]
  },
  {
   "cell_type": "markdown",
   "metadata": {},
   "source": [
    "Secondly, we need to indentify the roots. The system is the following:\n",
    "\n",
    "$$f_1 = x + y + z$$\n",
    "$$f_2 = -x ^ 2 + y ^ 2 + z$$\n",
    "$$f_3 = x + y - z$$ "
   ]
  },
  {
   "cell_type": "markdown",
   "metadata": {},
   "source": [
    "We know that the common root of the system is $(1, -1, 0)$."
   ]
  },
  {
   "cell_type": "markdown",
   "metadata": {},
   "source": [
    "**The $U$- resultant.**"
   ]
  },
  {
   "cell_type": "code",
   "execution_count": null,
   "metadata": {
    "collapsed": true
   },
   "outputs": [],
   "source": [
    "d_3, d_1, d_2 = sym.symbols('d_3, d_1, d_2')\n",
    "k, u_0, u_1, u_2, u_3 = sym.symbols('k, u_0, u_1, u_2, u_3') "
   ]
  },
  {
   "cell_type": "code",
   "execution_count": null,
   "metadata": {
    "collapsed": true
   },
   "outputs": [],
   "source": [
    "f = sym.lambdify((x, y, z, k), a_1 * x + b_1 * y + c_1 * z + d_1 * k)\n",
    "g = sym.lambdify((x, y, z, k), a_2 * x ** 2 + b_2 * y ** 2 + c_2 * z * k )\n",
    "h = sym.lambdify((x, y, z, k), a_3 * x * k + b_3 * y * k - c_3 * z ** 2)\n",
    "l = sym.lambdify((x, y, z, k), u_0 * x + u_1 * y + u_2 * z  + u_3 * k)"
   ]
  },
  {
   "cell_type": "code",
   "execution_count": null,
   "metadata": {
    "collapsed": true
   },
   "outputs": [],
   "source": [
    "mac = macaulay.MacaulayResultant(polynomials=[f, g, h, l], variables=[x, y, z, k])"
   ]
  },
  {
   "cell_type": "code",
   "execution_count": null,
   "metadata": {
    "collapsed": true
   },
   "outputs": [],
   "source": [
    "mac.get_monomials_set()"
   ]
  },
  {
   "cell_type": "code",
   "execution_count": null,
   "metadata": {
    "collapsed": true
   },
   "outputs": [],
   "source": [
    "matrix = mac.get_matrix()\n",
    "submatrix = mac.get_submatrix(matrix)"
   ]
  },
  {
   "cell_type": "code",
   "execution_count": null,
   "metadata": {},
   "outputs": [],
   "source": [
    "matrix.shape"
   ]
  },
  {
   "cell_type": "code",
   "execution_count": null,
   "metadata": {},
   "outputs": [],
   "source": [
    "matrix"
   ]
  },
  {
   "cell_type": "code",
   "execution_count": null,
   "metadata": {},
   "outputs": [],
   "source": [
    "submatrix.shape"
   ]
  },
  {
   "cell_type": "code",
   "execution_count": null,
   "metadata": {},
   "outputs": [],
   "source": [
    "det_A = matrix.det()"
   ]
  },
  {
   "cell_type": "code",
   "execution_count": null,
   "metadata": {
    "collapsed": true
   },
   "outputs": [],
   "source": [
    "det_M = submatrix.det()"
   ]
  },
  {
   "cell_type": "code",
   "execution_count": null,
   "metadata": {},
   "outputs": [],
   "source": [
    "(det_A / det_M).simplify()"
   ]
  },
  {
   "cell_type": "markdown",
   "metadata": {},
   "source": [
    "**The GCP.**"
   ]
  },
  {
   "cell_type": "code",
   "execution_count": null,
   "metadata": {
    "collapsed": true
   },
   "outputs": [],
   "source": [
    "matrix.shape, submatrix.shape"
   ]
  },
  {
   "cell_type": "code",
   "execution_count": null,
   "metadata": {
    "collapsed": true
   },
   "outputs": [],
   "source": [
    "As = matrix - sym.eye(20) * s"
   ]
  },
  {
   "cell_type": "code",
   "execution_count": null,
   "metadata": {
    "collapsed": true
   },
   "outputs": [],
   "source": [
    "Ms = submatrix - sym.eye(submatrix.shape[0]) * s"
   ]
  },
  {
   "cell_type": "code",
   "execution_count": null,
   "metadata": {
    "collapsed": true
   },
   "outputs": [],
   "source": [
    "determinant = sym.lambdify((a_1, a_2, a_3, b_1, b_2, b_3, c_1, c_2, c_3), (As.det() / Ms.det()).factor())"
   ]
  },
  {
   "cell_type": "code",
   "execution_count": null,
   "metadata": {
    "collapsed": true
   },
   "outputs": [],
   "source": [
    "determinant(1, -1, 1, 1, 1, 1, 1, 1, 1).subs({s: 0})"
   ]
  },
  {
   "cell_type": "code",
   "execution_count": null,
   "metadata": {
    "collapsed": true
   },
   "outputs": [],
   "source": []
  }
 ],
 "metadata": {
  "anaconda-cloud": {},
  "kernelspec": {
   "display_name": "Python [conda env:resultant]",
   "language": "python",
   "name": "conda-env-resultant-py"
  },
  "language_info": {
   "codemirror_mode": {
    "name": "ipython",
    "version": 3
   },
   "file_extension": ".py",
   "mimetype": "text/x-python",
   "name": "python",
   "nbconvert_exporter": "python",
   "pygments_lexer": "ipython3",
   "version": "3.6.2"
  }
 },
 "nbformat": 4,
 "nbformat_minor": 2
}
