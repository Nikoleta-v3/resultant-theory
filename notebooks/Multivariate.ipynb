{
 "cells": [
  {
   "cell_type": "code",
   "execution_count": 54,
   "metadata": {
    "collapsed": true
   },
   "outputs": [],
   "source": [
    "a_1, a_2, b_1, b_2, u_1, u_2, u_3 = sym.symbols('a_1, a_2, b_1, b_2, u_1, u_2, u_3')"
   ]
  },
  {
   "cell_type": "code",
   "execution_count": 71,
   "metadata": {
    "collapsed": true
   },
   "outputs": [],
   "source": [
    "p = sym.lambdify((x, y), a_1 * x ** 2 * y ** 2 + a_2 * x ** 2)\n",
    "q = sym.lambdify((x, y), b_1 * x ** 2 * y ** 2 + b_2 * y ** 2)\n",
    "h = sym.lambdify((x, y), u_1 * x + u_2 * y + u_3)"
   ]
  },
  {
   "cell_type": "code",
   "execution_count": 56,
   "metadata": {
    "collapsed": true
   },
   "outputs": [],
   "source": [
    "polynomials = [p, q, h]"
   ]
  },
  {
   "cell_type": "code",
   "execution_count": 57,
   "metadata": {
    "collapsed": true
   },
   "outputs": [],
   "source": [
    "variables = [x, y]"
   ]
  },
  {
   "cell_type": "code",
   "execution_count": 58,
   "metadata": {
    "collapsed": true
   },
   "outputs": [],
   "source": [
    "D = DixonResultant(polynomials, variables)\n",
    "poly = D.get_dixon_polynomial()"
   ]
  },
  {
   "cell_type": "code",
   "execution_count": 59,
   "metadata": {},
   "outputs": [
    {
     "data": {
      "image/png": "[encoded data removed]",
      "text/latex": [
       "$$\\left [ a_{2} b_{1} u_{1} x + a_{2} b_{1} u_{2} y + a_{2} b_{1} u_{3}, \\quad a_{2} b_{1} u_{1} x y + a_{2} b_{1} u_{2} y^{2} + a_{2} b_{1} u_{3} y, \\quad a_{1} b_{2} u_{1} y^{2} + a_{2} b_{1} u_{2} x y + a_{2} b_{1} u_{3} x, \\quad a_{1} b_{2} u_{1} y^{3} + a_{2} b_{1} u_{2} x y^{2} + a_{2} b_{1} u_{3} x y, \\quad a_{1} b_{2} u_{1} x y^{2} + a_{1} b_{2} u_{2} y^{3} + a_{1} b_{2} u_{3} y^{2} + a_{2} b_{2} u_{1} x + a_{2} b_{2} u_{2} y + a_{2} b_{2} u_{3}, \\quad a_{1} b_{2} u_{1} x y^{3} + a_{1} b_{2} u_{3} y^{3} + a_{2} b_{2} u_{1} x y + a_{2} b_{2} u_{3} y, \\quad a_{1} b_{2} u_{2} x y^{3} + a_{1} b_{2} u_{3} x y^{2} + a_{2} b_{2} u_{2} x y + a_{2} b_{2} u_{3} x, \\quad a_{1} b_{2} u_{3} x y^{3} + a_{2} b_{2} u_{3} x y\\right ]$$"
      ],
      "text/plain": [
       "⎡                                                             2               \n",
       "⎣a₂⋅b₁⋅u₁⋅x + a₂⋅b₁⋅u₂⋅y + a₂⋅b₁⋅u₃, a₂⋅b₁⋅u₁⋅x⋅y + a₂⋅b₁⋅u₂⋅y  + a₂⋅b₁⋅u₃⋅y, \n",
       "\n",
       "          2                                        3               2          \n",
       "a₁⋅b₂⋅u₁⋅y  + a₂⋅b₁⋅u₂⋅x⋅y + a₂⋅b₁⋅u₃⋅x, a₁⋅b₂⋅u₁⋅y  + a₂⋅b₁⋅u₂⋅x⋅y  + a₂⋅b₁⋅u\n",
       "\n",
       "                   2             3             2                              \n",
       "₃⋅x⋅y, a₁⋅b₂⋅u₁⋅x⋅y  + a₁⋅b₂⋅u₂⋅y  + a₁⋅b₂⋅u₃⋅y  + a₂⋅b₂⋅u₁⋅x + a₂⋅b₂⋅u₂⋅y + a\n",
       "\n",
       "                     3             3                                          \n",
       "₂⋅b₂⋅u₃, a₁⋅b₂⋅u₁⋅x⋅y  + a₁⋅b₂⋅u₃⋅y  + a₂⋅b₂⋅u₁⋅x⋅y + a₂⋅b₂⋅u₃⋅y, a₁⋅b₂⋅u₂⋅x⋅y\n",
       "\n",
       "3               2                                          3               ⎤\n",
       "  + a₁⋅b₂⋅u₃⋅x⋅y  + a₂⋅b₂⋅u₂⋅x⋅y + a₂⋅b₂⋅u₃⋅x, a₁⋅b₂⋅u₃⋅x⋅y  + a₂⋅b₂⋅u₃⋅x⋅y⎦"
      ]
     },
     "execution_count": 59,
     "metadata": {},
     "output_type": "execute_result"
    }
   ],
   "source": [
    "poly.coeffs()"
   ]
  },
  {
   "cell_type": "code",
   "execution_count": 60,
   "metadata": {
    "collapsed": true
   },
   "outputs": [],
   "source": [
    "coeff = D.get_coeff_of_alpha(poly)\n",
    "size = len(poly.monoms())"
   ]
  },
  {
   "cell_type": "code",
   "execution_count": 61,
   "metadata": {},
   "outputs": [
    {
     "data": {
      "image/png": "[encoded data removed]",
      "text/latex": [
       "$$a_{1}^{2} a_{2}^{4} b_{1}^{2} b_{2}^{4} u_{3}^{4} \\left(a_{1}^{2} b_{1}^{2} u_{3}^{4} + 2 a_{1}^{2} b_{1} b_{2} u_{1}^{2} u_{3}^{2} + a_{1}^{2} b_{2}^{2} u_{1}^{4} + 2 a_{1} a_{2} b_{1}^{2} u_{2}^{2} u_{3}^{2} - 2 a_{1} a_{2} b_{1} b_{2} u_{1}^{2} u_{2}^{2} + a_{2}^{2} b_{1}^{2} u_{2}^{4}\\right)$$"
      ],
      "text/plain": [
       "  2   4   2   4   4 ⎛  2   2   4       2         2   2     2   2   4          \n",
       "a₁ ⋅a₂ ⋅b₁ ⋅b₂ ⋅u₃ ⋅⎝a₁ ⋅b₁ ⋅u₃  + 2⋅a₁ ⋅b₁⋅b₂⋅u₁ ⋅u₃  + a₁ ⋅b₂ ⋅u₁  + 2⋅a₁⋅a₂\n",
       "\n",
       "   2   2   2                   2   2     2   2   4⎞\n",
       "⋅b₁ ⋅u₂ ⋅u₃  - 2⋅a₁⋅a₂⋅b₁⋅b₂⋅u₁ ⋅u₂  + a₂ ⋅b₁ ⋅u₂ ⎠"
      ]
     },
     "execution_count": 61,
     "metadata": {},
     "output_type": "execute_result"
    }
   ],
   "source": [
    "D.dixon_matrix(coeff, size).det().factor()"
   ]
  },
  {
   "cell_type": "markdown",
   "metadata": {},
   "source": [
    "Example 2\n",
    "---------"
   ]
  },
  {
   "cell_type": "code",
   "execution_count": 62,
   "metadata": {
    "collapsed": true
   },
   "outputs": [],
   "source": [
    "a, b, c = sym.symbols('a, b, c')"
   ]
  },
  {
   "cell_type": "code",
   "execution_count": 63,
   "metadata": {
    "collapsed": true
   },
   "outputs": [],
   "source": [
    "p_1 = sym.lambdify((x, y), a * x ** 2 + b * x * y + (b + c - a) * x + a * y + 3 * (c - 1))\n",
    "p_2 = sym.lambdify((x, y), 2 * a ** 2 * x ** 2 + 2 * a * b * x * y + a * b * y + b ** 3)\n",
    "p_3 = sym.lambdify((x, y), 4 * (a - b) * x + c * (a + b) * y + 4 * a * b)"
   ]
  },
  {
   "cell_type": "code",
   "execution_count": 64,
   "metadata": {
    "collapsed": true
   },
   "outputs": [],
   "source": [
    "polynomials = [p_1, p_2, p_3]\n",
    "\n",
    "example_two = DixonResultant(polynomials, [x, y])"
   ]
  },
  {
   "cell_type": "code",
   "execution_count": 65,
   "metadata": {
    "collapsed": true
   },
   "outputs": [],
   "source": [
    "poly = example_two.get_dixon_polynomial()"
   ]
  },
  {
   "cell_type": "code",
   "execution_count": 66,
   "metadata": {},
   "outputs": [
    {
     "data": {
      "image/png": "[encoded data removed]",
      "text/latex": [
       "$$\\operatorname{Poly}{\\left( - 8 a^{4} b x + 4 a^{3} b^{2} x - 8 a^{3} b^{2} y - 4 a^{3} b^{2} + 6 a^{3} c^{2} x - 6 a^{3} c x - a^{2} b^{3} c x + a^{2} b^{3} c + 4 a^{2} b^{3} y + 8 a^{2} b^{3} + 4 a^{2} b^{2} c + 6 a^{2} b c^{2} x + 6 a^{2} b c^{2} y - 6 a^{2} b c x - 6 a^{2} b c y - 12 a^{2} b c + 12 a^{2} b - a b^{4} c x - a b^{4} c y - 4 a b^{4} - a b^{3} c^{2} + 6 a b^{2} c^{2} y - 6 a b^{2} c y + 12 a b^{2} c - 12 a b^{2} - b^{5} c y - b^{5} c - b^{4} c^{2} + \\left(- 8 a^{4} b - 2 a^{4} c x - 8 a^{4} x - 4 a^{3} b^{2} - 2 a^{3} b c y + 12 a^{3} b x - 8 a^{3} b y + 2 a^{3} c^{2} x + 6 a^{3} c^{2} - 6 a^{3} c - a^{2} b^{3} c + 8 a^{2} b^{3} + 2 a^{2} b^{2} c x + 8 a^{2} b^{2} c - 4 a^{2} b^{2} x + 12 a^{2} b^{2} y + 2 a^{2} b c^{2} x + 2 a^{2} b c^{2} y + 6 a^{2} b c^{2} - 30 a^{2} b c + 24 a^{2} b - a b^{4} c + 4 a b^{4} + 2 a b^{3} c y - 4 a b^{3} y + 2 a b^{2} c^{2} y + 24 a b^{2} c - 24 a b^{2} - 4 b^{5}\\right) \\alpha_{0}, \\alpha_{0}, \\alpha_{1}, domain=\\mathbb{Z}\\left[x, y, a, b, c\\right] \\right)}$$"
      ],
      "text/plain": [
       "Poly((-8*a**4*b - 2*a**4*c*x - 8*a**4*x - 4*a**3*b**2 - 2*a**3*b*c*y + 12*a**3\n",
       "*b*x - 8*a**3*b*y + 2*a**3*c**2*x + 6*a**3*c**2 - 6*a**3*c - a**2*b**3*c + 8*a\n",
       "**2*b**3 + 2*a**2*b**2*c*x + 8*a**2*b**2*c - 4*a**2*b**2*x + 12*a**2*b**2*y + \n",
       "2*a**2*b*c**2*x + 2*a**2*b*c**2*y + 6*a**2*b*c**2 - 30*a**2*b*c + 24*a**2*b - \n",
       "a*b**4*c + 4*a*b**4 + 2*a*b**3*c*y - 4*a*b**3*y + 2*a*b**2*c**2*y + 24*a*b**2*\n",
       "c - 24*a*b**2 - 4*b**5)*alpha[0] - 8*a**4*b*x + 4*a**3*b**2*x - 8*a**3*b**2*y \n",
       "- 4*a**3*b**2 + 6*a**3*c**2*x - 6*a**3*c*x - a**2*b**3*c*x + a**2*b**3*c + 4*a\n",
       "**2*b**3*y + 8*a**2*b**3 + 4*a**2*b**2*c + 6*a**2*b*c**2*x + 6*a**2*b*c**2*y -\n",
       " 6*a**2*b*c*x - 6*a**2*b*c*y - 12*a**2*b*c + 12*a**2*b - a*b**4*c*x - a*b**4*c\n",
       "*y - 4*a*b**4 - a*b**3*c**2 + 6*a*b**2*c**2*y - 6*a*b**2*c*y + 12*a*b**2*c - 1\n",
       "2*a*b**2 - b**5*c*y - b**5*c - b**4*c**2, alpha[0], alpha[1], domain='ZZ[x,y,a\n",
       ",b,c]')"
      ]
     },
     "execution_count": 66,
     "metadata": {},
     "output_type": "execute_result"
    }
   ],
   "source": [
    "poly"
   ]
  },
  {
   "cell_type": "code",
   "execution_count": 67,
   "metadata": {
    "collapsed": true
   },
   "outputs": [],
   "source": [
    "coeff = D.get_coeff_of_alpha(poly)"
   ]
  },
  {
   "cell_type": "code",
   "execution_count": 68,
   "metadata": {
    "collapsed": true
   },
   "outputs": [],
   "source": [
    "size = len(poly.monoms())"
   ]
  },
  {
   "cell_type": "code",
   "execution_count": 69,
   "metadata": {
    "collapsed": true
   },
   "outputs": [],
   "source": [
    "matrix = example_two.dixon_matrix(coeff, size)"
   ]
  },
  {
   "cell_type": "code",
   "execution_count": 70,
   "metadata": {},
   "outputs": [
    {
     "data": {
      "image/png": "[encoded data removed]",
      "text/latex": [
       "$$\\left[\\begin{matrix}- 8 a^{4} b - 4 a^{3} b^{2} + 6 a^{3} c^{2} - 6 a^{3} c - a^{2} b^{3} c + 8 a^{2} b^{3} + 8 a^{2} b^{2} c + 6 a^{2} b c^{2} - 30 a^{2} b c + 24 a^{2} b - a b^{4} c + 4 a b^{4} + 24 a b^{2} c - 24 a b^{2} - 4 b^{5} & - 2 a^{3} b c - 8 a^{3} b + 12 a^{2} b^{2} + 2 a^{2} b c^{2} + 2 a b^{3} c - 4 a b^{3} + 2 a b^{2} c^{2} & - 2 a^{4} c - 8 a^{4} + 12 a^{3} b + 2 a^{3} c^{2} + 2 a^{2} b^{2} c - 4 a^{2} b^{2} + 2 a^{2} b c^{2}\\\\- 4 a^{3} b^{2} + a^{2} b^{3} c + 8 a^{2} b^{3} + 4 a^{2} b^{2} c - 12 a^{2} b c + 12 a^{2} b - 4 a b^{4} - a b^{3} c^{2} + 12 a b^{2} c - 12 a b^{2} - b^{5} c - b^{4} c^{2} & - 8 a^{3} b^{2} + 4 a^{2} b^{3} + 6 a^{2} b c^{2} - 6 a^{2} b c - a b^{4} c + 6 a b^{2} c^{2} - 6 a b^{2} c - b^{5} c & - 8 a^{4} b + 4 a^{3} b^{2} + 6 a^{3} c^{2} - 6 a^{3} c - a^{2} b^{3} c + 6 a^{2} b c^{2} - 6 a^{2} b c - a b^{4} c\\end{matrix}\\right]$$"
      ],
      "text/plain": [
       "⎡     4        3  2      3  2      3      2  3        2  3      2  2        2 \n",
       "⎢- 8⋅a ⋅b - 4⋅a ⋅b  + 6⋅a ⋅c  - 6⋅a ⋅c - a ⋅b ⋅c + 8⋅a ⋅b  + 8⋅a ⋅b ⋅c + 6⋅a ⋅\n",
       "⎢                                                                             \n",
       "⎢                    3  2    2  3        2  3      2  2         2           2 \n",
       "⎣               - 4⋅a ⋅b  + a ⋅b ⋅c + 8⋅a ⋅b  + 4⋅a ⋅b ⋅c - 12⋅a ⋅b⋅c + 12⋅a ⋅\n",
       "\n",
       "   2       2           2        4          4         2           2      5     \n",
       "b⋅c  - 30⋅a ⋅b⋅c + 24⋅a ⋅b - a⋅b ⋅c + 4⋅a⋅b  + 24⋅a⋅b ⋅c - 24⋅a⋅b  - 4⋅b      \n",
       "                                                                              \n",
       "         4      3  2         2           2    5      4  2                     \n",
       "b - 4⋅a⋅b  - a⋅b ⋅c  + 12⋅a⋅b ⋅c - 12⋅a⋅b  - b ⋅c - b ⋅c                   - 8\n",
       "\n",
       "     3          3         2  2      2    2        3          3        2  2    \n",
       "- 2⋅a ⋅b⋅c - 8⋅a ⋅b + 12⋅a ⋅b  + 2⋅a ⋅b⋅c  + 2⋅a⋅b ⋅c - 4⋅a⋅b  + 2⋅a⋅b ⋅c     \n",
       "                                                                              \n",
       "  3  2      2  3      2    2      2          4          2  2        2      5  \n",
       "⋅a ⋅b  + 4⋅a ⋅b  + 6⋅a ⋅b⋅c  - 6⋅a ⋅b⋅c - a⋅b ⋅c + 6⋅a⋅b ⋅c  - 6⋅a⋅b ⋅c - b ⋅c\n",
       "\n",
       "            4        4       3        3  2      2  2        2  2      2    2  \n",
       "       - 2⋅a ⋅c - 8⋅a  + 12⋅a ⋅b + 2⋅a ⋅c  + 2⋅a ⋅b ⋅c - 4⋅a ⋅b  + 2⋅a ⋅b⋅c   \n",
       "                                                                              \n",
       "       4        3  2      3  2      3      2  3        2    2      2          \n",
       "  - 8⋅a ⋅b + 4⋅a ⋅b  + 6⋅a ⋅c  - 6⋅a ⋅c - a ⋅b ⋅c + 6⋅a ⋅b⋅c  - 6⋅a ⋅b⋅c - a⋅b\n",
       "\n",
       "   ⎤\n",
       "   ⎥\n",
       "   ⎥\n",
       "4  ⎥\n",
       " ⋅c⎦"
      ]
     },
     "execution_count": 70,
     "metadata": {},
     "output_type": "execute_result"
    }
   ],
   "source": [
    "matrix"
   ]
  },
  {
   "cell_type": "code",
   "execution_count": null,
   "metadata": {
    "collapsed": true
   },
   "outputs": [],
   "source": []
  }
 ],
 "metadata": {
  "anaconda-cloud": {},
  "kernelspec": {
   "display_name": "Python [conda env:resultant]",
   "language": "python",
   "name": "conda-env-resultant-py"
  },
  "language_info": {
   "codemirror_mode": {
    "name": "ipython",
    "version": 3
   },
   "file_extension": ".py",
   "mimetype": "text/x-python",
   "name": "python",
   "nbconvert_exporter": "python",
   "pygments_lexer": "ipython3",
   "version": "3.6.2"
  }
 },
 "nbformat": 4,
 "nbformat_minor": 2
}
